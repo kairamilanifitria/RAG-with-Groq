{
  "nbformat": 4,
  "nbformat_minor": 0,
  "metadata": {
    "colab": {
      "provenance": [],
      "gpuType": "T4",
      "collapsed_sections": [
        "X6KTtF6umZ-o",
        "UVhwCfAfmQAv",
        "qfKMfC2Al4aL",
        "1Bz2rm4UmjgA",
        "aSO4qOG7ubpK",
        "7Yjkba8Zm7I4",
        "shnU4p2IX5gp"
      ],
      "mount_file_id": "1lUhImbVi0D9H3iRaA6qmVGue1bcAHBZj",
      "authorship_tag": "ABX9TyMYSloj0XtU6UZwQbG3VOH0",
      "include_colab_link": true
    },
    "kernelspec": {
      "name": "python3",
      "display_name": "Python 3"
    },
    "language_info": {
      "name": "python"
    },
    "accelerator": "GPU",
    "widgets": {
      "application/vnd.jupyter.widget-state+json": {
        "a9ca1728db2246589b119dbc0b11d4b3": {
          "model_module": "@jupyter-widgets/controls",
          "model_name": "VBoxModel",
          "model_module_version": "1.5.0",
          "state": {
            "_dom_classes": [],
            "_model_module": "@jupyter-widgets/controls",
            "_model_module_version": "1.5.0",
            "_model_name": "VBoxModel",
            "_view_count": null,
            "_view_module": "@jupyter-widgets/controls",
            "_view_module_version": "1.5.0",
            "_view_name": "VBoxView",
            "box_style": "",
            "children": [],
            "layout": "IPY_MODEL_629cc03fdbba4bfa9835332fc8f06055"
          }
        },
        "075357496d8340d19ee4d8206ac6132e": {
          "model_module": "@jupyter-widgets/controls",
          "model_name": "HTMLModel",
          "model_module_version": "1.5.0",
          "state": {
            "_dom_classes": [],
            "_model_module": "@jupyter-widgets/controls",
            "_model_module_version": "1.5.0",
            "_model_name": "HTMLModel",
            "_view_count": null,
            "_view_module": "@jupyter-widgets/controls",
            "_view_module_version": "1.5.0",
            "_view_name": "HTMLView",
            "description": "",
            "description_tooltip": null,
            "layout": "IPY_MODEL_93ec8e3075584339ac0fe8f52b24f765",
            "placeholder": "​",
            "style": "IPY_MODEL_557c01f6a8b44e7b985900b356a53147",
            "value": "<center> <img\nsrc=https://huggingface.co/front/assets/huggingface_logo-noborder.svg\nalt='Hugging Face'> <br> Copy a token from <a\nhref=\"https://huggingface.co/settings/tokens\" target=\"_blank\">your Hugging Face\ntokens page</a> and paste it below. <br> Immediately click login after copying\nyour token or it might be stored in plain text in this notebook file. </center>"
          }
        },
        "abf31e85f0744911ad195753a6f5f37a": {
          "model_module": "@jupyter-widgets/controls",
          "model_name": "PasswordModel",
          "model_module_version": "1.5.0",
          "state": {
            "_dom_classes": [],
            "_model_module": "@jupyter-widgets/controls",
            "_model_module_version": "1.5.0",
            "_model_name": "PasswordModel",
            "_view_count": null,
            "_view_module": "@jupyter-widgets/controls",
            "_view_module_version": "1.5.0",
            "_view_name": "PasswordView",
            "continuous_update": true,
            "description": "Token:",
            "description_tooltip": null,
            "disabled": false,
            "layout": "IPY_MODEL_49659ab6744c4e7facdeb71788419ade",
            "placeholder": "​",
            "style": "IPY_MODEL_df2af93e6a634482932ecbcbc33d2356",
            "value": ""
          }
        },
        "94370de00d914e788b595cf9e01a11c9": {
          "model_module": "@jupyter-widgets/controls",
          "model_name": "CheckboxModel",
          "model_module_version": "1.5.0",
          "state": {
            "_dom_classes": [],
            "_model_module": "@jupyter-widgets/controls",
            "_model_module_version": "1.5.0",
            "_model_name": "CheckboxModel",
            "_view_count": null,
            "_view_module": "@jupyter-widgets/controls",
            "_view_module_version": "1.5.0",
            "_view_name": "CheckboxView",
            "description": "Add token as git credential?",
            "description_tooltip": null,
            "disabled": false,
            "indent": true,
            "layout": "IPY_MODEL_812ef8cf37ca4ad7855ccfea114ad298",
            "style": "IPY_MODEL_aa60456b995741e98606ab1631e404e5",
            "value": true
          }
        },
        "b690ffaa49734b51a8d321ce9ea4e541": {
          "model_module": "@jupyter-widgets/controls",
          "model_name": "ButtonModel",
          "model_module_version": "1.5.0",
          "state": {
            "_dom_classes": [],
            "_model_module": "@jupyter-widgets/controls",
            "_model_module_version": "1.5.0",
            "_model_name": "ButtonModel",
            "_view_count": null,
            "_view_module": "@jupyter-widgets/controls",
            "_view_module_version": "1.5.0",
            "_view_name": "ButtonView",
            "button_style": "",
            "description": "Login",
            "disabled": false,
            "icon": "",
            "layout": "IPY_MODEL_567bd8d095574912af8757c20acf92f3",
            "style": "IPY_MODEL_4398694434274aba8f35f2645a72af58",
            "tooltip": ""
          }
        },
        "20eb1622da9e468cbd38e3c5a05ed24d": {
          "model_module": "@jupyter-widgets/controls",
          "model_name": "HTMLModel",
          "model_module_version": "1.5.0",
          "state": {
            "_dom_classes": [],
            "_model_module": "@jupyter-widgets/controls",
            "_model_module_version": "1.5.0",
            "_model_name": "HTMLModel",
            "_view_count": null,
            "_view_module": "@jupyter-widgets/controls",
            "_view_module_version": "1.5.0",
            "_view_name": "HTMLView",
            "description": "",
            "description_tooltip": null,
            "layout": "IPY_MODEL_e6aafc94a0a743bb916974a65a0b18ea",
            "placeholder": "​",
            "style": "IPY_MODEL_8f7271b0716c41c7b397ce9cda23426d",
            "value": "\n<b>Pro Tip:</b> If you don't already have one, you can create a dedicated\n'notebooks' token with 'write' access, that you can then easily reuse for all\nnotebooks. </center>"
          }
        },
        "629cc03fdbba4bfa9835332fc8f06055": {
          "model_module": "@jupyter-widgets/base",
          "model_name": "LayoutModel",
          "model_module_version": "1.2.0",
          "state": {
            "_model_module": "@jupyter-widgets/base",
            "_model_module_version": "1.2.0",
            "_model_name": "LayoutModel",
            "_view_count": null,
            "_view_module": "@jupyter-widgets/base",
            "_view_module_version": "1.2.0",
            "_view_name": "LayoutView",
            "align_content": null,
            "align_items": "center",
            "align_self": null,
            "border": null,
            "bottom": null,
            "display": "flex",
            "flex": null,
            "flex_flow": "column",
            "grid_area": null,
            "grid_auto_columns": null,
            "grid_auto_flow": null,
            "grid_auto_rows": null,
            "grid_column": null,
            "grid_gap": null,
            "grid_row": null,
            "grid_template_areas": null,
            "grid_template_columns": null,
            "grid_template_rows": null,
            "height": null,
            "justify_content": null,
            "justify_items": null,
            "left": null,
            "margin": null,
            "max_height": null,
            "max_width": null,
            "min_height": null,
            "min_width": null,
            "object_fit": null,
            "object_position": null,
            "order": null,
            "overflow": null,
            "overflow_x": null,
            "overflow_y": null,
            "padding": null,
            "right": null,
            "top": null,
            "visibility": null,
            "width": "50%"
          }
        },
        "93ec8e3075584339ac0fe8f52b24f765": {
          "model_module": "@jupyter-widgets/base",
          "model_name": "LayoutModel",
          "model_module_version": "1.2.0",
          "state": {
            "_model_module": "@jupyter-widgets/base",
            "_model_module_version": "1.2.0",
            "_model_name": "LayoutModel",
            "_view_count": null,
            "_view_module": "@jupyter-widgets/base",
            "_view_module_version": "1.2.0",
            "_view_name": "LayoutView",
            "align_content": null,
            "align_items": null,
            "align_self": null,
            "border": null,
            "bottom": null,
            "display": null,
            "flex": null,
            "flex_flow": null,
            "grid_area": null,
            "grid_auto_columns": null,
            "grid_auto_flow": null,
            "grid_auto_rows": null,
            "grid_column": null,
            "grid_gap": null,
            "grid_row": null,
            "grid_template_areas": null,
            "grid_template_columns": null,
            "grid_template_rows": null,
            "height": null,
            "justify_content": null,
            "justify_items": null,
            "left": null,
            "margin": null,
            "max_height": null,
            "max_width": null,
            "min_height": null,
            "min_width": null,
            "object_fit": null,
            "object_position": null,
            "order": null,
            "overflow": null,
            "overflow_x": null,
            "overflow_y": null,
            "padding": null,
            "right": null,
            "top": null,
            "visibility": null,
            "width": null
          }
        },
        "557c01f6a8b44e7b985900b356a53147": {
          "model_module": "@jupyter-widgets/controls",
          "model_name": "DescriptionStyleModel",
          "model_module_version": "1.5.0",
          "state": {
            "_model_module": "@jupyter-widgets/controls",
            "_model_module_version": "1.5.0",
            "_model_name": "DescriptionStyleModel",
            "_view_count": null,
            "_view_module": "@jupyter-widgets/base",
            "_view_module_version": "1.2.0",
            "_view_name": "StyleView",
            "description_width": ""
          }
        },
        "49659ab6744c4e7facdeb71788419ade": {
          "model_module": "@jupyter-widgets/base",
          "model_name": "LayoutModel",
          "model_module_version": "1.2.0",
          "state": {
            "_model_module": "@jupyter-widgets/base",
            "_model_module_version": "1.2.0",
            "_model_name": "LayoutModel",
            "_view_count": null,
            "_view_module": "@jupyter-widgets/base",
            "_view_module_version": "1.2.0",
            "_view_name": "LayoutView",
            "align_content": null,
            "align_items": null,
            "align_self": null,
            "border": null,
            "bottom": null,
            "display": null,
            "flex": null,
            "flex_flow": null,
            "grid_area": null,
            "grid_auto_columns": null,
            "grid_auto_flow": null,
            "grid_auto_rows": null,
            "grid_column": null,
            "grid_gap": null,
            "grid_row": null,
            "grid_template_areas": null,
            "grid_template_columns": null,
            "grid_template_rows": null,
            "height": null,
            "justify_content": null,
            "justify_items": null,
            "left": null,
            "margin": null,
            "max_height": null,
            "max_width": null,
            "min_height": null,
            "min_width": null,
            "object_fit": null,
            "object_position": null,
            "order": null,
            "overflow": null,
            "overflow_x": null,
            "overflow_y": null,
            "padding": null,
            "right": null,
            "top": null,
            "visibility": null,
            "width": null
          }
        },
        "df2af93e6a634482932ecbcbc33d2356": {
          "model_module": "@jupyter-widgets/controls",
          "model_name": "DescriptionStyleModel",
          "model_module_version": "1.5.0",
          "state": {
            "_model_module": "@jupyter-widgets/controls",
            "_model_module_version": "1.5.0",
            "_model_name": "DescriptionStyleModel",
            "_view_count": null,
            "_view_module": "@jupyter-widgets/base",
            "_view_module_version": "1.2.0",
            "_view_name": "StyleView",
            "description_width": ""
          }
        },
        "812ef8cf37ca4ad7855ccfea114ad298": {
          "model_module": "@jupyter-widgets/base",
          "model_name": "LayoutModel",
          "model_module_version": "1.2.0",
          "state": {
            "_model_module": "@jupyter-widgets/base",
            "_model_module_version": "1.2.0",
            "_model_name": "LayoutModel",
            "_view_count": null,
            "_view_module": "@jupyter-widgets/base",
            "_view_module_version": "1.2.0",
            "_view_name": "LayoutView",
            "align_content": null,
            "align_items": null,
            "align_self": null,
            "border": null,
            "bottom": null,
            "display": null,
            "flex": null,
            "flex_flow": null,
            "grid_area": null,
            "grid_auto_columns": null,
            "grid_auto_flow": null,
            "grid_auto_rows": null,
            "grid_column": null,
            "grid_gap": null,
            "grid_row": null,
            "grid_template_areas": null,
            "grid_template_columns": null,
            "grid_template_rows": null,
            "height": null,
            "justify_content": null,
            "justify_items": null,
            "left": null,
            "margin": null,
            "max_height": null,
            "max_width": null,
            "min_height": null,
            "min_width": null,
            "object_fit": null,
            "object_position": null,
            "order": null,
            "overflow": null,
            "overflow_x": null,
            "overflow_y": null,
            "padding": null,
            "right": null,
            "top": null,
            "visibility": null,
            "width": null
          }
        },
        "aa60456b995741e98606ab1631e404e5": {
          "model_module": "@jupyter-widgets/controls",
          "model_name": "DescriptionStyleModel",
          "model_module_version": "1.5.0",
          "state": {
            "_model_module": "@jupyter-widgets/controls",
            "_model_module_version": "1.5.0",
            "_model_name": "DescriptionStyleModel",
            "_view_count": null,
            "_view_module": "@jupyter-widgets/base",
            "_view_module_version": "1.2.0",
            "_view_name": "StyleView",
            "description_width": ""
          }
        },
        "567bd8d095574912af8757c20acf92f3": {
          "model_module": "@jupyter-widgets/base",
          "model_name": "LayoutModel",
          "model_module_version": "1.2.0",
          "state": {
            "_model_module": "@jupyter-widgets/base",
            "_model_module_version": "1.2.0",
            "_model_name": "LayoutModel",
            "_view_count": null,
            "_view_module": "@jupyter-widgets/base",
            "_view_module_version": "1.2.0",
            "_view_name": "LayoutView",
            "align_content": null,
            "align_items": null,
            "align_self": null,
            "border": null,
            "bottom": null,
            "display": null,
            "flex": null,
            "flex_flow": null,
            "grid_area": null,
            "grid_auto_columns": null,
            "grid_auto_flow": null,
            "grid_auto_rows": null,
            "grid_column": null,
            "grid_gap": null,
            "grid_row": null,
            "grid_template_areas": null,
            "grid_template_columns": null,
            "grid_template_rows": null,
            "height": null,
            "justify_content": null,
            "justify_items": null,
            "left": null,
            "margin": null,
            "max_height": null,
            "max_width": null,
            "min_height": null,
            "min_width": null,
            "object_fit": null,
            "object_position": null,
            "order": null,
            "overflow": null,
            "overflow_x": null,
            "overflow_y": null,
            "padding": null,
            "right": null,
            "top": null,
            "visibility": null,
            "width": null
          }
        },
        "4398694434274aba8f35f2645a72af58": {
          "model_module": "@jupyter-widgets/controls",
          "model_name": "ButtonStyleModel",
          "model_module_version": "1.5.0",
          "state": {
            "_model_module": "@jupyter-widgets/controls",
            "_model_module_version": "1.5.0",
            "_model_name": "ButtonStyleModel",
            "_view_count": null,
            "_view_module": "@jupyter-widgets/base",
            "_view_module_version": "1.2.0",
            "_view_name": "StyleView",
            "button_color": null,
            "font_weight": ""
          }
        },
        "e6aafc94a0a743bb916974a65a0b18ea": {
          "model_module": "@jupyter-widgets/base",
          "model_name": "LayoutModel",
          "model_module_version": "1.2.0",
          "state": {
            "_model_module": "@jupyter-widgets/base",
            "_model_module_version": "1.2.0",
            "_model_name": "LayoutModel",
            "_view_count": null,
            "_view_module": "@jupyter-widgets/base",
            "_view_module_version": "1.2.0",
            "_view_name": "LayoutView",
            "align_content": null,
            "align_items": null,
            "align_self": null,
            "border": null,
            "bottom": null,
            "display": null,
            "flex": null,
            "flex_flow": null,
            "grid_area": null,
            "grid_auto_columns": null,
            "grid_auto_flow": null,
            "grid_auto_rows": null,
            "grid_column": null,
            "grid_gap": null,
            "grid_row": null,
            "grid_template_areas": null,
            "grid_template_columns": null,
            "grid_template_rows": null,
            "height": null,
            "justify_content": null,
            "justify_items": null,
            "left": null,
            "margin": null,
            "max_height": null,
            "max_width": null,
            "min_height": null,
            "min_width": null,
            "object_fit": null,
            "object_position": null,
            "order": null,
            "overflow": null,
            "overflow_x": null,
            "overflow_y": null,
            "padding": null,
            "right": null,
            "top": null,
            "visibility": null,
            "width": null
          }
        },
        "8f7271b0716c41c7b397ce9cda23426d": {
          "model_module": "@jupyter-widgets/controls",
          "model_name": "DescriptionStyleModel",
          "model_module_version": "1.5.0",
          "state": {
            "_model_module": "@jupyter-widgets/controls",
            "_model_module_version": "1.5.0",
            "_model_name": "DescriptionStyleModel",
            "_view_count": null,
            "_view_module": "@jupyter-widgets/base",
            "_view_module_version": "1.2.0",
            "_view_name": "StyleView",
            "description_width": ""
          }
        },
        "1804447bfe31446ea8af9ccad085d6c3": {
          "model_module": "@jupyter-widgets/controls",
          "model_name": "LabelModel",
          "model_module_version": "1.5.0",
          "state": {
            "_dom_classes": [],
            "_model_module": "@jupyter-widgets/controls",
            "_model_module_version": "1.5.0",
            "_model_name": "LabelModel",
            "_view_count": null,
            "_view_module": "@jupyter-widgets/controls",
            "_view_module_version": "1.5.0",
            "_view_name": "LabelView",
            "description": "",
            "description_tooltip": null,
            "layout": "IPY_MODEL_8ab67b07a2684bf4adc38b3f823767d2",
            "placeholder": "​",
            "style": "IPY_MODEL_02984f704ea447d593030823d165d7ca",
            "value": "Connecting..."
          }
        },
        "8ab67b07a2684bf4adc38b3f823767d2": {
          "model_module": "@jupyter-widgets/base",
          "model_name": "LayoutModel",
          "model_module_version": "1.2.0",
          "state": {
            "_model_module": "@jupyter-widgets/base",
            "_model_module_version": "1.2.0",
            "_model_name": "LayoutModel",
            "_view_count": null,
            "_view_module": "@jupyter-widgets/base",
            "_view_module_version": "1.2.0",
            "_view_name": "LayoutView",
            "align_content": null,
            "align_items": null,
            "align_self": null,
            "border": null,
            "bottom": null,
            "display": null,
            "flex": null,
            "flex_flow": null,
            "grid_area": null,
            "grid_auto_columns": null,
            "grid_auto_flow": null,
            "grid_auto_rows": null,
            "grid_column": null,
            "grid_gap": null,
            "grid_row": null,
            "grid_template_areas": null,
            "grid_template_columns": null,
            "grid_template_rows": null,
            "height": null,
            "justify_content": null,
            "justify_items": null,
            "left": null,
            "margin": null,
            "max_height": null,
            "max_width": null,
            "min_height": null,
            "min_width": null,
            "object_fit": null,
            "object_position": null,
            "order": null,
            "overflow": null,
            "overflow_x": null,
            "overflow_y": null,
            "padding": null,
            "right": null,
            "top": null,
            "visibility": null,
            "width": null
          }
        },
        "02984f704ea447d593030823d165d7ca": {
          "model_module": "@jupyter-widgets/controls",
          "model_name": "DescriptionStyleModel",
          "model_module_version": "1.5.0",
          "state": {
            "_model_module": "@jupyter-widgets/controls",
            "_model_module_version": "1.5.0",
            "_model_name": "DescriptionStyleModel",
            "_view_count": null,
            "_view_module": "@jupyter-widgets/base",
            "_view_module_version": "1.2.0",
            "_view_name": "StyleView",
            "description_width": ""
          }
        },
        "f03b05985b084d36be02e48e4adad192": {
          "model_module": "@jupyter-widgets/controls",
          "model_name": "HBoxModel",
          "model_module_version": "1.5.0",
          "state": {
            "_dom_classes": [],
            "_model_module": "@jupyter-widgets/controls",
            "_model_module_version": "1.5.0",
            "_model_name": "HBoxModel",
            "_view_count": null,
            "_view_module": "@jupyter-widgets/controls",
            "_view_module_version": "1.5.0",
            "_view_name": "HBoxView",
            "box_style": "",
            "children": [
              "IPY_MODEL_bbc28bfa8c754c61a4d00f3ee83c0a97",
              "IPY_MODEL_0f1369c766264291bdc1555f484441e5",
              "IPY_MODEL_4dfa8f46860a4a41ad4ce0aa9a5b9428"
            ],
            "layout": "IPY_MODEL_24d33c70599e472fa5d66c7fb37f6ab7"
          }
        },
        "bbc28bfa8c754c61a4d00f3ee83c0a97": {
          "model_module": "@jupyter-widgets/controls",
          "model_name": "HTMLModel",
          "model_module_version": "1.5.0",
          "state": {
            "_dom_classes": [],
            "_model_module": "@jupyter-widgets/controls",
            "_model_module_version": "1.5.0",
            "_model_name": "HTMLModel",
            "_view_count": null,
            "_view_module": "@jupyter-widgets/controls",
            "_view_module_version": "1.5.0",
            "_view_name": "HTMLView",
            "description": "",
            "description_tooltip": null,
            "layout": "IPY_MODEL_a3d945907934431ca29c309c03a06d30",
            "placeholder": "​",
            "style": "IPY_MODEL_96596bc0f0bc4cfe8a4f33d1f4304d4a",
            "value": "Loading checkpoint shards: 100%"
          }
        },
        "0f1369c766264291bdc1555f484441e5": {
          "model_module": "@jupyter-widgets/controls",
          "model_name": "FloatProgressModel",
          "model_module_version": "1.5.0",
          "state": {
            "_dom_classes": [],
            "_model_module": "@jupyter-widgets/controls",
            "_model_module_version": "1.5.0",
            "_model_name": "FloatProgressModel",
            "_view_count": null,
            "_view_module": "@jupyter-widgets/controls",
            "_view_module_version": "1.5.0",
            "_view_name": "ProgressView",
            "bar_style": "success",
            "description": "",
            "description_tooltip": null,
            "layout": "IPY_MODEL_fc2aa43e08704d2fabbf078fecb93982",
            "max": 2,
            "min": 0,
            "orientation": "horizontal",
            "style": "IPY_MODEL_eeb4edcca9ee4a648dd060451ce03a86",
            "value": 2
          }
        },
        "4dfa8f46860a4a41ad4ce0aa9a5b9428": {
          "model_module": "@jupyter-widgets/controls",
          "model_name": "HTMLModel",
          "model_module_version": "1.5.0",
          "state": {
            "_dom_classes": [],
            "_model_module": "@jupyter-widgets/controls",
            "_model_module_version": "1.5.0",
            "_model_name": "HTMLModel",
            "_view_count": null,
            "_view_module": "@jupyter-widgets/controls",
            "_view_module_version": "1.5.0",
            "_view_name": "HTMLView",
            "description": "",
            "description_tooltip": null,
            "layout": "IPY_MODEL_006f6605107c4f30a455936f2314674d",
            "placeholder": "​",
            "style": "IPY_MODEL_6f72cf93e01b4c298015206cd8321f62",
            "value": " 2/2 [01:04&lt;00:00, 29.76s/it]"
          }
        },
        "24d33c70599e472fa5d66c7fb37f6ab7": {
          "model_module": "@jupyter-widgets/base",
          "model_name": "LayoutModel",
          "model_module_version": "1.2.0",
          "state": {
            "_model_module": "@jupyter-widgets/base",
            "_model_module_version": "1.2.0",
            "_model_name": "LayoutModel",
            "_view_count": null,
            "_view_module": "@jupyter-widgets/base",
            "_view_module_version": "1.2.0",
            "_view_name": "LayoutView",
            "align_content": null,
            "align_items": null,
            "align_self": null,
            "border": null,
            "bottom": null,
            "display": null,
            "flex": null,
            "flex_flow": null,
            "grid_area": null,
            "grid_auto_columns": null,
            "grid_auto_flow": null,
            "grid_auto_rows": null,
            "grid_column": null,
            "grid_gap": null,
            "grid_row": null,
            "grid_template_areas": null,
            "grid_template_columns": null,
            "grid_template_rows": null,
            "height": null,
            "justify_content": null,
            "justify_items": null,
            "left": null,
            "margin": null,
            "max_height": null,
            "max_width": null,
            "min_height": null,
            "min_width": null,
            "object_fit": null,
            "object_position": null,
            "order": null,
            "overflow": null,
            "overflow_x": null,
            "overflow_y": null,
            "padding": null,
            "right": null,
            "top": null,
            "visibility": null,
            "width": null
          }
        },
        "a3d945907934431ca29c309c03a06d30": {
          "model_module": "@jupyter-widgets/base",
          "model_name": "LayoutModel",
          "model_module_version": "1.2.0",
          "state": {
            "_model_module": "@jupyter-widgets/base",
            "_model_module_version": "1.2.0",
            "_model_name": "LayoutModel",
            "_view_count": null,
            "_view_module": "@jupyter-widgets/base",
            "_view_module_version": "1.2.0",
            "_view_name": "LayoutView",
            "align_content": null,
            "align_items": null,
            "align_self": null,
            "border": null,
            "bottom": null,
            "display": null,
            "flex": null,
            "flex_flow": null,
            "grid_area": null,
            "grid_auto_columns": null,
            "grid_auto_flow": null,
            "grid_auto_rows": null,
            "grid_column": null,
            "grid_gap": null,
            "grid_row": null,
            "grid_template_areas": null,
            "grid_template_columns": null,
            "grid_template_rows": null,
            "height": null,
            "justify_content": null,
            "justify_items": null,
            "left": null,
            "margin": null,
            "max_height": null,
            "max_width": null,
            "min_height": null,
            "min_width": null,
            "object_fit": null,
            "object_position": null,
            "order": null,
            "overflow": null,
            "overflow_x": null,
            "overflow_y": null,
            "padding": null,
            "right": null,
            "top": null,
            "visibility": null,
            "width": null
          }
        },
        "96596bc0f0bc4cfe8a4f33d1f4304d4a": {
          "model_module": "@jupyter-widgets/controls",
          "model_name": "DescriptionStyleModel",
          "model_module_version": "1.5.0",
          "state": {
            "_model_module": "@jupyter-widgets/controls",
            "_model_module_version": "1.5.0",
            "_model_name": "DescriptionStyleModel",
            "_view_count": null,
            "_view_module": "@jupyter-widgets/base",
            "_view_module_version": "1.2.0",
            "_view_name": "StyleView",
            "description_width": ""
          }
        },
        "fc2aa43e08704d2fabbf078fecb93982": {
          "model_module": "@jupyter-widgets/base",
          "model_name": "LayoutModel",
          "model_module_version": "1.2.0",
          "state": {
            "_model_module": "@jupyter-widgets/base",
            "_model_module_version": "1.2.0",
            "_model_name": "LayoutModel",
            "_view_count": null,
            "_view_module": "@jupyter-widgets/base",
            "_view_module_version": "1.2.0",
            "_view_name": "LayoutView",
            "align_content": null,
            "align_items": null,
            "align_self": null,
            "border": null,
            "bottom": null,
            "display": null,
            "flex": null,
            "flex_flow": null,
            "grid_area": null,
            "grid_auto_columns": null,
            "grid_auto_flow": null,
            "grid_auto_rows": null,
            "grid_column": null,
            "grid_gap": null,
            "grid_row": null,
            "grid_template_areas": null,
            "grid_template_columns": null,
            "grid_template_rows": null,
            "height": null,
            "justify_content": null,
            "justify_items": null,
            "left": null,
            "margin": null,
            "max_height": null,
            "max_width": null,
            "min_height": null,
            "min_width": null,
            "object_fit": null,
            "object_position": null,
            "order": null,
            "overflow": null,
            "overflow_x": null,
            "overflow_y": null,
            "padding": null,
            "right": null,
            "top": null,
            "visibility": null,
            "width": null
          }
        },
        "eeb4edcca9ee4a648dd060451ce03a86": {
          "model_module": "@jupyter-widgets/controls",
          "model_name": "ProgressStyleModel",
          "model_module_version": "1.5.0",
          "state": {
            "_model_module": "@jupyter-widgets/controls",
            "_model_module_version": "1.5.0",
            "_model_name": "ProgressStyleModel",
            "_view_count": null,
            "_view_module": "@jupyter-widgets/base",
            "_view_module_version": "1.2.0",
            "_view_name": "StyleView",
            "bar_color": null,
            "description_width": ""
          }
        },
        "006f6605107c4f30a455936f2314674d": {
          "model_module": "@jupyter-widgets/base",
          "model_name": "LayoutModel",
          "model_module_version": "1.2.0",
          "state": {
            "_model_module": "@jupyter-widgets/base",
            "_model_module_version": "1.2.0",
            "_model_name": "LayoutModel",
            "_view_count": null,
            "_view_module": "@jupyter-widgets/base",
            "_view_module_version": "1.2.0",
            "_view_name": "LayoutView",
            "align_content": null,
            "align_items": null,
            "align_self": null,
            "border": null,
            "bottom": null,
            "display": null,
            "flex": null,
            "flex_flow": null,
            "grid_area": null,
            "grid_auto_columns": null,
            "grid_auto_flow": null,
            "grid_auto_rows": null,
            "grid_column": null,
            "grid_gap": null,
            "grid_row": null,
            "grid_template_areas": null,
            "grid_template_columns": null,
            "grid_template_rows": null,
            "height": null,
            "justify_content": null,
            "justify_items": null,
            "left": null,
            "margin": null,
            "max_height": null,
            "max_width": null,
            "min_height": null,
            "min_width": null,
            "object_fit": null,
            "object_position": null,
            "order": null,
            "overflow": null,
            "overflow_x": null,
            "overflow_y": null,
            "padding": null,
            "right": null,
            "top": null,
            "visibility": null,
            "width": null
          }
        },
        "6f72cf93e01b4c298015206cd8321f62": {
          "model_module": "@jupyter-widgets/controls",
          "model_name": "DescriptionStyleModel",
          "model_module_version": "1.5.0",
          "state": {
            "_model_module": "@jupyter-widgets/controls",
            "_model_module_version": "1.5.0",
            "_model_name": "DescriptionStyleModel",
            "_view_count": null,
            "_view_module": "@jupyter-widgets/base",
            "_view_module_version": "1.2.0",
            "_view_name": "StyleView",
            "description_width": ""
          }
        },
        "f95a4bdecaaa462fa3d209f02417eb62": {
          "model_module": "@jupyter-widgets/controls",
          "model_name": "HBoxModel",
          "model_module_version": "1.5.0",
          "state": {
            "_dom_classes": [],
            "_model_module": "@jupyter-widgets/controls",
            "_model_module_version": "1.5.0",
            "_model_name": "HBoxModel",
            "_view_count": null,
            "_view_module": "@jupyter-widgets/controls",
            "_view_module_version": "1.5.0",
            "_view_name": "HBoxView",
            "box_style": "",
            "children": [
              "IPY_MODEL_ce575f6650bd4904ba9357a56288cfc7",
              "IPY_MODEL_71a6a1614d2240be96ba647cba646a60",
              "IPY_MODEL_6d4f2723e5eb4ab5bddcdd86b3dbf5b2"
            ],
            "layout": "IPY_MODEL_a61188d408a7460b9b37aa9b1c4d6d69"
          }
        },
        "ce575f6650bd4904ba9357a56288cfc7": {
          "model_module": "@jupyter-widgets/controls",
          "model_name": "HTMLModel",
          "model_module_version": "1.5.0",
          "state": {
            "_dom_classes": [],
            "_model_module": "@jupyter-widgets/controls",
            "_model_module_version": "1.5.0",
            "_model_name": "HTMLModel",
            "_view_count": null,
            "_view_module": "@jupyter-widgets/controls",
            "_view_module_version": "1.5.0",
            "_view_name": "HTMLView",
            "description": "",
            "description_tooltip": null,
            "layout": "IPY_MODEL_d025fa2b9f4b45d6a018ea231b91508c",
            "placeholder": "​",
            "style": "IPY_MODEL_9d73c4cef7664eac905e3c22ebf9d80a",
            "value": "generation_config.json: 100%"
          }
        },
        "71a6a1614d2240be96ba647cba646a60": {
          "model_module": "@jupyter-widgets/controls",
          "model_name": "FloatProgressModel",
          "model_module_version": "1.5.0",
          "state": {
            "_dom_classes": [],
            "_model_module": "@jupyter-widgets/controls",
            "_model_module_version": "1.5.0",
            "_model_name": "FloatProgressModel",
            "_view_count": null,
            "_view_module": "@jupyter-widgets/controls",
            "_view_module_version": "1.5.0",
            "_view_name": "ProgressView",
            "bar_style": "success",
            "description": "",
            "description_tooltip": null,
            "layout": "IPY_MODEL_c5a7f56facdc4557b5cb55d5ff5898c5",
            "max": 188,
            "min": 0,
            "orientation": "horizontal",
            "style": "IPY_MODEL_89adaf7d95cf4473bea28e3ed917de9d",
            "value": 188
          }
        },
        "6d4f2723e5eb4ab5bddcdd86b3dbf5b2": {
          "model_module": "@jupyter-widgets/controls",
          "model_name": "HTMLModel",
          "model_module_version": "1.5.0",
          "state": {
            "_dom_classes": [],
            "_model_module": "@jupyter-widgets/controls",
            "_model_module_version": "1.5.0",
            "_model_name": "HTMLModel",
            "_view_count": null,
            "_view_module": "@jupyter-widgets/controls",
            "_view_module_version": "1.5.0",
            "_view_name": "HTMLView",
            "description": "",
            "description_tooltip": null,
            "layout": "IPY_MODEL_04eac8bd3a7d447698d3c433555ab826",
            "placeholder": "​",
            "style": "IPY_MODEL_370a817169a84e929cf0a3eca4ea4d0d",
            "value": " 188/188 [00:00&lt;00:00, 13.1kB/s]"
          }
        },
        "a61188d408a7460b9b37aa9b1c4d6d69": {
          "model_module": "@jupyter-widgets/base",
          "model_name": "LayoutModel",
          "model_module_version": "1.2.0",
          "state": {
            "_model_module": "@jupyter-widgets/base",
            "_model_module_version": "1.2.0",
            "_model_name": "LayoutModel",
            "_view_count": null,
            "_view_module": "@jupyter-widgets/base",
            "_view_module_version": "1.2.0",
            "_view_name": "LayoutView",
            "align_content": null,
            "align_items": null,
            "align_self": null,
            "border": null,
            "bottom": null,
            "display": null,
            "flex": null,
            "flex_flow": null,
            "grid_area": null,
            "grid_auto_columns": null,
            "grid_auto_flow": null,
            "grid_auto_rows": null,
            "grid_column": null,
            "grid_gap": null,
            "grid_row": null,
            "grid_template_areas": null,
            "grid_template_columns": null,
            "grid_template_rows": null,
            "height": null,
            "justify_content": null,
            "justify_items": null,
            "left": null,
            "margin": null,
            "max_height": null,
            "max_width": null,
            "min_height": null,
            "min_width": null,
            "object_fit": null,
            "object_position": null,
            "order": null,
            "overflow": null,
            "overflow_x": null,
            "overflow_y": null,
            "padding": null,
            "right": null,
            "top": null,
            "visibility": null,
            "width": null
          }
        },
        "d025fa2b9f4b45d6a018ea231b91508c": {
          "model_module": "@jupyter-widgets/base",
          "model_name": "LayoutModel",
          "model_module_version": "1.2.0",
          "state": {
            "_model_module": "@jupyter-widgets/base",
            "_model_module_version": "1.2.0",
            "_model_name": "LayoutModel",
            "_view_count": null,
            "_view_module": "@jupyter-widgets/base",
            "_view_module_version": "1.2.0",
            "_view_name": "LayoutView",
            "align_content": null,
            "align_items": null,
            "align_self": null,
            "border": null,
            "bottom": null,
            "display": null,
            "flex": null,
            "flex_flow": null,
            "grid_area": null,
            "grid_auto_columns": null,
            "grid_auto_flow": null,
            "grid_auto_rows": null,
            "grid_column": null,
            "grid_gap": null,
            "grid_row": null,
            "grid_template_areas": null,
            "grid_template_columns": null,
            "grid_template_rows": null,
            "height": null,
            "justify_content": null,
            "justify_items": null,
            "left": null,
            "margin": null,
            "max_height": null,
            "max_width": null,
            "min_height": null,
            "min_width": null,
            "object_fit": null,
            "object_position": null,
            "order": null,
            "overflow": null,
            "overflow_x": null,
            "overflow_y": null,
            "padding": null,
            "right": null,
            "top": null,
            "visibility": null,
            "width": null
          }
        },
        "9d73c4cef7664eac905e3c22ebf9d80a": {
          "model_module": "@jupyter-widgets/controls",
          "model_name": "DescriptionStyleModel",
          "model_module_version": "1.5.0",
          "state": {
            "_model_module": "@jupyter-widgets/controls",
            "_model_module_version": "1.5.0",
            "_model_name": "DescriptionStyleModel",
            "_view_count": null,
            "_view_module": "@jupyter-widgets/base",
            "_view_module_version": "1.2.0",
            "_view_name": "StyleView",
            "description_width": ""
          }
        },
        "c5a7f56facdc4557b5cb55d5ff5898c5": {
          "model_module": "@jupyter-widgets/base",
          "model_name": "LayoutModel",
          "model_module_version": "1.2.0",
          "state": {
            "_model_module": "@jupyter-widgets/base",
            "_model_module_version": "1.2.0",
            "_model_name": "LayoutModel",
            "_view_count": null,
            "_view_module": "@jupyter-widgets/base",
            "_view_module_version": "1.2.0",
            "_view_name": "LayoutView",
            "align_content": null,
            "align_items": null,
            "align_self": null,
            "border": null,
            "bottom": null,
            "display": null,
            "flex": null,
            "flex_flow": null,
            "grid_area": null,
            "grid_auto_columns": null,
            "grid_auto_flow": null,
            "grid_auto_rows": null,
            "grid_column": null,
            "grid_gap": null,
            "grid_row": null,
            "grid_template_areas": null,
            "grid_template_columns": null,
            "grid_template_rows": null,
            "height": null,
            "justify_content": null,
            "justify_items": null,
            "left": null,
            "margin": null,
            "max_height": null,
            "max_width": null,
            "min_height": null,
            "min_width": null,
            "object_fit": null,
            "object_position": null,
            "order": null,
            "overflow": null,
            "overflow_x": null,
            "overflow_y": null,
            "padding": null,
            "right": null,
            "top": null,
            "visibility": null,
            "width": null
          }
        },
        "89adaf7d95cf4473bea28e3ed917de9d": {
          "model_module": "@jupyter-widgets/controls",
          "model_name": "ProgressStyleModel",
          "model_module_version": "1.5.0",
          "state": {
            "_model_module": "@jupyter-widgets/controls",
            "_model_module_version": "1.5.0",
            "_model_name": "ProgressStyleModel",
            "_view_count": null,
            "_view_module": "@jupyter-widgets/base",
            "_view_module_version": "1.2.0",
            "_view_name": "StyleView",
            "bar_color": null,
            "description_width": ""
          }
        },
        "04eac8bd3a7d447698d3c433555ab826": {
          "model_module": "@jupyter-widgets/base",
          "model_name": "LayoutModel",
          "model_module_version": "1.2.0",
          "state": {
            "_model_module": "@jupyter-widgets/base",
            "_model_module_version": "1.2.0",
            "_model_name": "LayoutModel",
            "_view_count": null,
            "_view_module": "@jupyter-widgets/base",
            "_view_module_version": "1.2.0",
            "_view_name": "LayoutView",
            "align_content": null,
            "align_items": null,
            "align_self": null,
            "border": null,
            "bottom": null,
            "display": null,
            "flex": null,
            "flex_flow": null,
            "grid_area": null,
            "grid_auto_columns": null,
            "grid_auto_flow": null,
            "grid_auto_rows": null,
            "grid_column": null,
            "grid_gap": null,
            "grid_row": null,
            "grid_template_areas": null,
            "grid_template_columns": null,
            "grid_template_rows": null,
            "height": null,
            "justify_content": null,
            "justify_items": null,
            "left": null,
            "margin": null,
            "max_height": null,
            "max_width": null,
            "min_height": null,
            "min_width": null,
            "object_fit": null,
            "object_position": null,
            "order": null,
            "overflow": null,
            "overflow_x": null,
            "overflow_y": null,
            "padding": null,
            "right": null,
            "top": null,
            "visibility": null,
            "width": null
          }
        },
        "370a817169a84e929cf0a3eca4ea4d0d": {
          "model_module": "@jupyter-widgets/controls",
          "model_name": "DescriptionStyleModel",
          "model_module_version": "1.5.0",
          "state": {
            "_model_module": "@jupyter-widgets/controls",
            "_model_module_version": "1.5.0",
            "_model_name": "DescriptionStyleModel",
            "_view_count": null,
            "_view_module": "@jupyter-widgets/base",
            "_view_module_version": "1.2.0",
            "_view_name": "StyleView",
            "description_width": ""
          }
        },
        "abc7cd6fc4134cf4a6842434268cd065": {
          "model_module": "@jupyter-widgets/controls",
          "model_name": "HBoxModel",
          "model_module_version": "1.5.0",
          "state": {
            "_dom_classes": [],
            "_model_module": "@jupyter-widgets/controls",
            "_model_module_version": "1.5.0",
            "_model_name": "HBoxModel",
            "_view_count": null,
            "_view_module": "@jupyter-widgets/controls",
            "_view_module_version": "1.5.0",
            "_view_name": "HBoxView",
            "box_style": "",
            "children": [
              "IPY_MODEL_9ac9550847f74130959143184b14a447",
              "IPY_MODEL_81653c12f0c24f2aa71d9eb7f4ef5297",
              "IPY_MODEL_0ddf62e5d46946b2b1a416736f8ca3d6"
            ],
            "layout": "IPY_MODEL_fd709388583b4bef9641633626757118"
          }
        },
        "9ac9550847f74130959143184b14a447": {
          "model_module": "@jupyter-widgets/controls",
          "model_name": "HTMLModel",
          "model_module_version": "1.5.0",
          "state": {
            "_dom_classes": [],
            "_model_module": "@jupyter-widgets/controls",
            "_model_module_version": "1.5.0",
            "_model_name": "HTMLModel",
            "_view_count": null,
            "_view_module": "@jupyter-widgets/controls",
            "_view_module_version": "1.5.0",
            "_view_name": "HTMLView",
            "description": "",
            "description_tooltip": null,
            "layout": "IPY_MODEL_5861259f607a4f72980fc044fa0614c4",
            "placeholder": "​",
            "style": "IPY_MODEL_67e81cc8ebd7452e8086d7931de993ef",
            "value": "tokenizer_config.json: 100%"
          }
        },
        "81653c12f0c24f2aa71d9eb7f4ef5297": {
          "model_module": "@jupyter-widgets/controls",
          "model_name": "FloatProgressModel",
          "model_module_version": "1.5.0",
          "state": {
            "_dom_classes": [],
            "_model_module": "@jupyter-widgets/controls",
            "_model_module_version": "1.5.0",
            "_model_name": "FloatProgressModel",
            "_view_count": null,
            "_view_module": "@jupyter-widgets/controls",
            "_view_module_version": "1.5.0",
            "_view_name": "ProgressView",
            "bar_style": "success",
            "description": "",
            "description_tooltip": null,
            "layout": "IPY_MODEL_9849c2683cd3428f91d70b0901409d26",
            "max": 1618,
            "min": 0,
            "orientation": "horizontal",
            "style": "IPY_MODEL_a3adab1789a64e84b2ec60dc252ac67c",
            "value": 1618
          }
        },
        "0ddf62e5d46946b2b1a416736f8ca3d6": {
          "model_module": "@jupyter-widgets/controls",
          "model_name": "HTMLModel",
          "model_module_version": "1.5.0",
          "state": {
            "_dom_classes": [],
            "_model_module": "@jupyter-widgets/controls",
            "_model_module_version": "1.5.0",
            "_model_name": "HTMLModel",
            "_view_count": null,
            "_view_module": "@jupyter-widgets/controls",
            "_view_module_version": "1.5.0",
            "_view_name": "HTMLView",
            "description": "",
            "description_tooltip": null,
            "layout": "IPY_MODEL_dbe6dbd17d08494599ffd3cb8fe51639",
            "placeholder": "​",
            "style": "IPY_MODEL_cf54bc7e09974dc0ba5e57e847e59186",
            "value": " 1.62k/1.62k [00:00&lt;00:00, 123kB/s]"
          }
        },
        "fd709388583b4bef9641633626757118": {
          "model_module": "@jupyter-widgets/base",
          "model_name": "LayoutModel",
          "model_module_version": "1.2.0",
          "state": {
            "_model_module": "@jupyter-widgets/base",
            "_model_module_version": "1.2.0",
            "_model_name": "LayoutModel",
            "_view_count": null,
            "_view_module": "@jupyter-widgets/base",
            "_view_module_version": "1.2.0",
            "_view_name": "LayoutView",
            "align_content": null,
            "align_items": null,
            "align_self": null,
            "border": null,
            "bottom": null,
            "display": null,
            "flex": null,
            "flex_flow": null,
            "grid_area": null,
            "grid_auto_columns": null,
            "grid_auto_flow": null,
            "grid_auto_rows": null,
            "grid_column": null,
            "grid_gap": null,
            "grid_row": null,
            "grid_template_areas": null,
            "grid_template_columns": null,
            "grid_template_rows": null,
            "height": null,
            "justify_content": null,
            "justify_items": null,
            "left": null,
            "margin": null,
            "max_height": null,
            "max_width": null,
            "min_height": null,
            "min_width": null,
            "object_fit": null,
            "object_position": null,
            "order": null,
            "overflow": null,
            "overflow_x": null,
            "overflow_y": null,
            "padding": null,
            "right": null,
            "top": null,
            "visibility": null,
            "width": null
          }
        },
        "5861259f607a4f72980fc044fa0614c4": {
          "model_module": "@jupyter-widgets/base",
          "model_name": "LayoutModel",
          "model_module_version": "1.2.0",
          "state": {
            "_model_module": "@jupyter-widgets/base",
            "_model_module_version": "1.2.0",
            "_model_name": "LayoutModel",
            "_view_count": null,
            "_view_module": "@jupyter-widgets/base",
            "_view_module_version": "1.2.0",
            "_view_name": "LayoutView",
            "align_content": null,
            "align_items": null,
            "align_self": null,
            "border": null,
            "bottom": null,
            "display": null,
            "flex": null,
            "flex_flow": null,
            "grid_area": null,
            "grid_auto_columns": null,
            "grid_auto_flow": null,
            "grid_auto_rows": null,
            "grid_column": null,
            "grid_gap": null,
            "grid_row": null,
            "grid_template_areas": null,
            "grid_template_columns": null,
            "grid_template_rows": null,
            "height": null,
            "justify_content": null,
            "justify_items": null,
            "left": null,
            "margin": null,
            "max_height": null,
            "max_width": null,
            "min_height": null,
            "min_width": null,
            "object_fit": null,
            "object_position": null,
            "order": null,
            "overflow": null,
            "overflow_x": null,
            "overflow_y": null,
            "padding": null,
            "right": null,
            "top": null,
            "visibility": null,
            "width": null
          }
        },
        "67e81cc8ebd7452e8086d7931de993ef": {
          "model_module": "@jupyter-widgets/controls",
          "model_name": "DescriptionStyleModel",
          "model_module_version": "1.5.0",
          "state": {
            "_model_module": "@jupyter-widgets/controls",
            "_model_module_version": "1.5.0",
            "_model_name": "DescriptionStyleModel",
            "_view_count": null,
            "_view_module": "@jupyter-widgets/base",
            "_view_module_version": "1.2.0",
            "_view_name": "StyleView",
            "description_width": ""
          }
        },
        "9849c2683cd3428f91d70b0901409d26": {
          "model_module": "@jupyter-widgets/base",
          "model_name": "LayoutModel",
          "model_module_version": "1.2.0",
          "state": {
            "_model_module": "@jupyter-widgets/base",
            "_model_module_version": "1.2.0",
            "_model_name": "LayoutModel",
            "_view_count": null,
            "_view_module": "@jupyter-widgets/base",
            "_view_module_version": "1.2.0",
            "_view_name": "LayoutView",
            "align_content": null,
            "align_items": null,
            "align_self": null,
            "border": null,
            "bottom": null,
            "display": null,
            "flex": null,
            "flex_flow": null,
            "grid_area": null,
            "grid_auto_columns": null,
            "grid_auto_flow": null,
            "grid_auto_rows": null,
            "grid_column": null,
            "grid_gap": null,
            "grid_row": null,
            "grid_template_areas": null,
            "grid_template_columns": null,
            "grid_template_rows": null,
            "height": null,
            "justify_content": null,
            "justify_items": null,
            "left": null,
            "margin": null,
            "max_height": null,
            "max_width": null,
            "min_height": null,
            "min_width": null,
            "object_fit": null,
            "object_position": null,
            "order": null,
            "overflow": null,
            "overflow_x": null,
            "overflow_y": null,
            "padding": null,
            "right": null,
            "top": null,
            "visibility": null,
            "width": null
          }
        },
        "a3adab1789a64e84b2ec60dc252ac67c": {
          "model_module": "@jupyter-widgets/controls",
          "model_name": "ProgressStyleModel",
          "model_module_version": "1.5.0",
          "state": {
            "_model_module": "@jupyter-widgets/controls",
            "_model_module_version": "1.5.0",
            "_model_name": "ProgressStyleModel",
            "_view_count": null,
            "_view_module": "@jupyter-widgets/base",
            "_view_module_version": "1.2.0",
            "_view_name": "StyleView",
            "bar_color": null,
            "description_width": ""
          }
        },
        "dbe6dbd17d08494599ffd3cb8fe51639": {
          "model_module": "@jupyter-widgets/base",
          "model_name": "LayoutModel",
          "model_module_version": "1.2.0",
          "state": {
            "_model_module": "@jupyter-widgets/base",
            "_model_module_version": "1.2.0",
            "_model_name": "LayoutModel",
            "_view_count": null,
            "_view_module": "@jupyter-widgets/base",
            "_view_module_version": "1.2.0",
            "_view_name": "LayoutView",
            "align_content": null,
            "align_items": null,
            "align_self": null,
            "border": null,
            "bottom": null,
            "display": null,
            "flex": null,
            "flex_flow": null,
            "grid_area": null,
            "grid_auto_columns": null,
            "grid_auto_flow": null,
            "grid_auto_rows": null,
            "grid_column": null,
            "grid_gap": null,
            "grid_row": null,
            "grid_template_areas": null,
            "grid_template_columns": null,
            "grid_template_rows": null,
            "height": null,
            "justify_content": null,
            "justify_items": null,
            "left": null,
            "margin": null,
            "max_height": null,
            "max_width": null,
            "min_height": null,
            "min_width": null,
            "object_fit": null,
            "object_position": null,
            "order": null,
            "overflow": null,
            "overflow_x": null,
            "overflow_y": null,
            "padding": null,
            "right": null,
            "top": null,
            "visibility": null,
            "width": null
          }
        },
        "cf54bc7e09974dc0ba5e57e847e59186": {
          "model_module": "@jupyter-widgets/controls",
          "model_name": "DescriptionStyleModel",
          "model_module_version": "1.5.0",
          "state": {
            "_model_module": "@jupyter-widgets/controls",
            "_model_module_version": "1.5.0",
            "_model_name": "DescriptionStyleModel",
            "_view_count": null,
            "_view_module": "@jupyter-widgets/base",
            "_view_module_version": "1.2.0",
            "_view_name": "StyleView",
            "description_width": ""
          }
        },
        "02f192ba11704db387be7f300725f3bc": {
          "model_module": "@jupyter-widgets/controls",
          "model_name": "HBoxModel",
          "model_module_version": "1.5.0",
          "state": {
            "_dom_classes": [],
            "_model_module": "@jupyter-widgets/controls",
            "_model_module_version": "1.5.0",
            "_model_name": "HBoxModel",
            "_view_count": null,
            "_view_module": "@jupyter-widgets/controls",
            "_view_module_version": "1.5.0",
            "_view_name": "HBoxView",
            "box_style": "",
            "children": [
              "IPY_MODEL_10d463b9f3e646b1a5f3fbc1dac0e5ac",
              "IPY_MODEL_3d9dff9c18fc4ee0a5ac806baa3b398d",
              "IPY_MODEL_5c357c10aa5049a687683a59e65115e6"
            ],
            "layout": "IPY_MODEL_1f68462673824f0d8323978b6b2999af"
          }
        },
        "10d463b9f3e646b1a5f3fbc1dac0e5ac": {
          "model_module": "@jupyter-widgets/controls",
          "model_name": "HTMLModel",
          "model_module_version": "1.5.0",
          "state": {
            "_dom_classes": [],
            "_model_module": "@jupyter-widgets/controls",
            "_model_module_version": "1.5.0",
            "_model_name": "HTMLModel",
            "_view_count": null,
            "_view_module": "@jupyter-widgets/controls",
            "_view_module_version": "1.5.0",
            "_view_name": "HTMLView",
            "description": "",
            "description_tooltip": null,
            "layout": "IPY_MODEL_5036fde15bbc42838cb6373f015abd8e",
            "placeholder": "​",
            "style": "IPY_MODEL_b9a6044923c2442a879fc30ec0961ff0",
            "value": "tokenizer.model: 100%"
          }
        },
        "3d9dff9c18fc4ee0a5ac806baa3b398d": {
          "model_module": "@jupyter-widgets/controls",
          "model_name": "FloatProgressModel",
          "model_module_version": "1.5.0",
          "state": {
            "_dom_classes": [],
            "_model_module": "@jupyter-widgets/controls",
            "_model_module_version": "1.5.0",
            "_model_name": "FloatProgressModel",
            "_view_count": null,
            "_view_module": "@jupyter-widgets/controls",
            "_view_module_version": "1.5.0",
            "_view_name": "ProgressView",
            "bar_style": "success",
            "description": "",
            "description_tooltip": null,
            "layout": "IPY_MODEL_758222d029ab4cc4a225c06faafb54a9",
            "max": 499723,
            "min": 0,
            "orientation": "horizontal",
            "style": "IPY_MODEL_1b2e9e339fb84320956edfe227ad1f1c",
            "value": 499723
          }
        },
        "5c357c10aa5049a687683a59e65115e6": {
          "model_module": "@jupyter-widgets/controls",
          "model_name": "HTMLModel",
          "model_module_version": "1.5.0",
          "state": {
            "_dom_classes": [],
            "_model_module": "@jupyter-widgets/controls",
            "_model_module_version": "1.5.0",
            "_model_name": "HTMLModel",
            "_view_count": null,
            "_view_module": "@jupyter-widgets/controls",
            "_view_module_version": "1.5.0",
            "_view_name": "HTMLView",
            "description": "",
            "description_tooltip": null,
            "layout": "IPY_MODEL_7325bec707bb48c98d07415a068bdfeb",
            "placeholder": "​",
            "style": "IPY_MODEL_8f2e902bece4484aae6006f9baf6f7d2",
            "value": " 500k/500k [00:00&lt;00:00, 11.4MB/s]"
          }
        },
        "1f68462673824f0d8323978b6b2999af": {
          "model_module": "@jupyter-widgets/base",
          "model_name": "LayoutModel",
          "model_module_version": "1.2.0",
          "state": {
            "_model_module": "@jupyter-widgets/base",
            "_model_module_version": "1.2.0",
            "_model_name": "LayoutModel",
            "_view_count": null,
            "_view_module": "@jupyter-widgets/base",
            "_view_module_version": "1.2.0",
            "_view_name": "LayoutView",
            "align_content": null,
            "align_items": null,
            "align_self": null,
            "border": null,
            "bottom": null,
            "display": null,
            "flex": null,
            "flex_flow": null,
            "grid_area": null,
            "grid_auto_columns": null,
            "grid_auto_flow": null,
            "grid_auto_rows": null,
            "grid_column": null,
            "grid_gap": null,
            "grid_row": null,
            "grid_template_areas": null,
            "grid_template_columns": null,
            "grid_template_rows": null,
            "height": null,
            "justify_content": null,
            "justify_items": null,
            "left": null,
            "margin": null,
            "max_height": null,
            "max_width": null,
            "min_height": null,
            "min_width": null,
            "object_fit": null,
            "object_position": null,
            "order": null,
            "overflow": null,
            "overflow_x": null,
            "overflow_y": null,
            "padding": null,
            "right": null,
            "top": null,
            "visibility": null,
            "width": null
          }
        },
        "5036fde15bbc42838cb6373f015abd8e": {
          "model_module": "@jupyter-widgets/base",
          "model_name": "LayoutModel",
          "model_module_version": "1.2.0",
          "state": {
            "_model_module": "@jupyter-widgets/base",
            "_model_module_version": "1.2.0",
            "_model_name": "LayoutModel",
            "_view_count": null,
            "_view_module": "@jupyter-widgets/base",
            "_view_module_version": "1.2.0",
            "_view_name": "LayoutView",
            "align_content": null,
            "align_items": null,
            "align_self": null,
            "border": null,
            "bottom": null,
            "display": null,
            "flex": null,
            "flex_flow": null,
            "grid_area": null,
            "grid_auto_columns": null,
            "grid_auto_flow": null,
            "grid_auto_rows": null,
            "grid_column": null,
            "grid_gap": null,
            "grid_row": null,
            "grid_template_areas": null,
            "grid_template_columns": null,
            "grid_template_rows": null,
            "height": null,
            "justify_content": null,
            "justify_items": null,
            "left": null,
            "margin": null,
            "max_height": null,
            "max_width": null,
            "min_height": null,
            "min_width": null,
            "object_fit": null,
            "object_position": null,
            "order": null,
            "overflow": null,
            "overflow_x": null,
            "overflow_y": null,
            "padding": null,
            "right": null,
            "top": null,
            "visibility": null,
            "width": null
          }
        },
        "b9a6044923c2442a879fc30ec0961ff0": {
          "model_module": "@jupyter-widgets/controls",
          "model_name": "DescriptionStyleModel",
          "model_module_version": "1.5.0",
          "state": {
            "_model_module": "@jupyter-widgets/controls",
            "_model_module_version": "1.5.0",
            "_model_name": "DescriptionStyleModel",
            "_view_count": null,
            "_view_module": "@jupyter-widgets/base",
            "_view_module_version": "1.2.0",
            "_view_name": "StyleView",
            "description_width": ""
          }
        },
        "758222d029ab4cc4a225c06faafb54a9": {
          "model_module": "@jupyter-widgets/base",
          "model_name": "LayoutModel",
          "model_module_version": "1.2.0",
          "state": {
            "_model_module": "@jupyter-widgets/base",
            "_model_module_version": "1.2.0",
            "_model_name": "LayoutModel",
            "_view_count": null,
            "_view_module": "@jupyter-widgets/base",
            "_view_module_version": "1.2.0",
            "_view_name": "LayoutView",
            "align_content": null,
            "align_items": null,
            "align_self": null,
            "border": null,
            "bottom": null,
            "display": null,
            "flex": null,
            "flex_flow": null,
            "grid_area": null,
            "grid_auto_columns": null,
            "grid_auto_flow": null,
            "grid_auto_rows": null,
            "grid_column": null,
            "grid_gap": null,
            "grid_row": null,
            "grid_template_areas": null,
            "grid_template_columns": null,
            "grid_template_rows": null,
            "height": null,
            "justify_content": null,
            "justify_items": null,
            "left": null,
            "margin": null,
            "max_height": null,
            "max_width": null,
            "min_height": null,
            "min_width": null,
            "object_fit": null,
            "object_position": null,
            "order": null,
            "overflow": null,
            "overflow_x": null,
            "overflow_y": null,
            "padding": null,
            "right": null,
            "top": null,
            "visibility": null,
            "width": null
          }
        },
        "1b2e9e339fb84320956edfe227ad1f1c": {
          "model_module": "@jupyter-widgets/controls",
          "model_name": "ProgressStyleModel",
          "model_module_version": "1.5.0",
          "state": {
            "_model_module": "@jupyter-widgets/controls",
            "_model_module_version": "1.5.0",
            "_model_name": "ProgressStyleModel",
            "_view_count": null,
            "_view_module": "@jupyter-widgets/base",
            "_view_module_version": "1.2.0",
            "_view_name": "StyleView",
            "bar_color": null,
            "description_width": ""
          }
        },
        "7325bec707bb48c98d07415a068bdfeb": {
          "model_module": "@jupyter-widgets/base",
          "model_name": "LayoutModel",
          "model_module_version": "1.2.0",
          "state": {
            "_model_module": "@jupyter-widgets/base",
            "_model_module_version": "1.2.0",
            "_model_name": "LayoutModel",
            "_view_count": null,
            "_view_module": "@jupyter-widgets/base",
            "_view_module_version": "1.2.0",
            "_view_name": "LayoutView",
            "align_content": null,
            "align_items": null,
            "align_self": null,
            "border": null,
            "bottom": null,
            "display": null,
            "flex": null,
            "flex_flow": null,
            "grid_area": null,
            "grid_auto_columns": null,
            "grid_auto_flow": null,
            "grid_auto_rows": null,
            "grid_column": null,
            "grid_gap": null,
            "grid_row": null,
            "grid_template_areas": null,
            "grid_template_columns": null,
            "grid_template_rows": null,
            "height": null,
            "justify_content": null,
            "justify_items": null,
            "left": null,
            "margin": null,
            "max_height": null,
            "max_width": null,
            "min_height": null,
            "min_width": null,
            "object_fit": null,
            "object_position": null,
            "order": null,
            "overflow": null,
            "overflow_x": null,
            "overflow_y": null,
            "padding": null,
            "right": null,
            "top": null,
            "visibility": null,
            "width": null
          }
        },
        "8f2e902bece4484aae6006f9baf6f7d2": {
          "model_module": "@jupyter-widgets/controls",
          "model_name": "DescriptionStyleModel",
          "model_module_version": "1.5.0",
          "state": {
            "_model_module": "@jupyter-widgets/controls",
            "_model_module_version": "1.5.0",
            "_model_name": "DescriptionStyleModel",
            "_view_count": null,
            "_view_module": "@jupyter-widgets/base",
            "_view_module_version": "1.2.0",
            "_view_name": "StyleView",
            "description_width": ""
          }
        },
        "4c33785aed954a80bf8277410a8de6f9": {
          "model_module": "@jupyter-widgets/controls",
          "model_name": "HBoxModel",
          "model_module_version": "1.5.0",
          "state": {
            "_dom_classes": [],
            "_model_module": "@jupyter-widgets/controls",
            "_model_module_version": "1.5.0",
            "_model_name": "HBoxModel",
            "_view_count": null,
            "_view_module": "@jupyter-widgets/controls",
            "_view_module_version": "1.5.0",
            "_view_name": "HBoxView",
            "box_style": "",
            "children": [
              "IPY_MODEL_27ed5118bf0946a9a2aa55c0fb333b11",
              "IPY_MODEL_c1cfc09c1a4e4d0a9e57446ceb0c60d4",
              "IPY_MODEL_d5b0f8f225f64efc80ba05293d0912f9"
            ],
            "layout": "IPY_MODEL_4ded988552034ce6b8230975f1137966"
          }
        },
        "27ed5118bf0946a9a2aa55c0fb333b11": {
          "model_module": "@jupyter-widgets/controls",
          "model_name": "HTMLModel",
          "model_module_version": "1.5.0",
          "state": {
            "_dom_classes": [],
            "_model_module": "@jupyter-widgets/controls",
            "_model_module_version": "1.5.0",
            "_model_name": "HTMLModel",
            "_view_count": null,
            "_view_module": "@jupyter-widgets/controls",
            "_view_module_version": "1.5.0",
            "_view_name": "HTMLView",
            "description": "",
            "description_tooltip": null,
            "layout": "IPY_MODEL_078482df94d14aad81a8131937ea4aa3",
            "placeholder": "​",
            "style": "IPY_MODEL_959adb322d80493b9d7e649971ecc2d6",
            "value": "tokenizer.json: 100%"
          }
        },
        "c1cfc09c1a4e4d0a9e57446ceb0c60d4": {
          "model_module": "@jupyter-widgets/controls",
          "model_name": "FloatProgressModel",
          "model_module_version": "1.5.0",
          "state": {
            "_dom_classes": [],
            "_model_module": "@jupyter-widgets/controls",
            "_model_module_version": "1.5.0",
            "_model_name": "FloatProgressModel",
            "_view_count": null,
            "_view_module": "@jupyter-widgets/controls",
            "_view_module_version": "1.5.0",
            "_view_name": "ProgressView",
            "bar_style": "success",
            "description": "",
            "description_tooltip": null,
            "layout": "IPY_MODEL_d5cc00dd37d945828e85b152ed56c5b7",
            "max": 1842767,
            "min": 0,
            "orientation": "horizontal",
            "style": "IPY_MODEL_075f154aa55142aeb7cff15699496bb6",
            "value": 1842767
          }
        },
        "d5b0f8f225f64efc80ba05293d0912f9": {
          "model_module": "@jupyter-widgets/controls",
          "model_name": "HTMLModel",
          "model_module_version": "1.5.0",
          "state": {
            "_dom_classes": [],
            "_model_module": "@jupyter-widgets/controls",
            "_model_module_version": "1.5.0",
            "_model_name": "HTMLModel",
            "_view_count": null,
            "_view_module": "@jupyter-widgets/controls",
            "_view_module_version": "1.5.0",
            "_view_name": "HTMLView",
            "description": "",
            "description_tooltip": null,
            "layout": "IPY_MODEL_316a9b82e0d0481c8a5abdc76e048ecf",
            "placeholder": "​",
            "style": "IPY_MODEL_363ee20c3dc24f348fc92d9acc5dddd7",
            "value": " 1.84M/1.84M [00:00&lt;00:00, 6.93MB/s]"
          }
        },
        "4ded988552034ce6b8230975f1137966": {
          "model_module": "@jupyter-widgets/base",
          "model_name": "LayoutModel",
          "model_module_version": "1.2.0",
          "state": {
            "_model_module": "@jupyter-widgets/base",
            "_model_module_version": "1.2.0",
            "_model_name": "LayoutModel",
            "_view_count": null,
            "_view_module": "@jupyter-widgets/base",
            "_view_module_version": "1.2.0",
            "_view_name": "LayoutView",
            "align_content": null,
            "align_items": null,
            "align_self": null,
            "border": null,
            "bottom": null,
            "display": null,
            "flex": null,
            "flex_flow": null,
            "grid_area": null,
            "grid_auto_columns": null,
            "grid_auto_flow": null,
            "grid_auto_rows": null,
            "grid_column": null,
            "grid_gap": null,
            "grid_row": null,
            "grid_template_areas": null,
            "grid_template_columns": null,
            "grid_template_rows": null,
            "height": null,
            "justify_content": null,
            "justify_items": null,
            "left": null,
            "margin": null,
            "max_height": null,
            "max_width": null,
            "min_height": null,
            "min_width": null,
            "object_fit": null,
            "object_position": null,
            "order": null,
            "overflow": null,
            "overflow_x": null,
            "overflow_y": null,
            "padding": null,
            "right": null,
            "top": null,
            "visibility": null,
            "width": null
          }
        },
        "078482df94d14aad81a8131937ea4aa3": {
          "model_module": "@jupyter-widgets/base",
          "model_name": "LayoutModel",
          "model_module_version": "1.2.0",
          "state": {
            "_model_module": "@jupyter-widgets/base",
            "_model_module_version": "1.2.0",
            "_model_name": "LayoutModel",
            "_view_count": null,
            "_view_module": "@jupyter-widgets/base",
            "_view_module_version": "1.2.0",
            "_view_name": "LayoutView",
            "align_content": null,
            "align_items": null,
            "align_self": null,
            "border": null,
            "bottom": null,
            "display": null,
            "flex": null,
            "flex_flow": null,
            "grid_area": null,
            "grid_auto_columns": null,
            "grid_auto_flow": null,
            "grid_auto_rows": null,
            "grid_column": null,
            "grid_gap": null,
            "grid_row": null,
            "grid_template_areas": null,
            "grid_template_columns": null,
            "grid_template_rows": null,
            "height": null,
            "justify_content": null,
            "justify_items": null,
            "left": null,
            "margin": null,
            "max_height": null,
            "max_width": null,
            "min_height": null,
            "min_width": null,
            "object_fit": null,
            "object_position": null,
            "order": null,
            "overflow": null,
            "overflow_x": null,
            "overflow_y": null,
            "padding": null,
            "right": null,
            "top": null,
            "visibility": null,
            "width": null
          }
        },
        "959adb322d80493b9d7e649971ecc2d6": {
          "model_module": "@jupyter-widgets/controls",
          "model_name": "DescriptionStyleModel",
          "model_module_version": "1.5.0",
          "state": {
            "_model_module": "@jupyter-widgets/controls",
            "_model_module_version": "1.5.0",
            "_model_name": "DescriptionStyleModel",
            "_view_count": null,
            "_view_module": "@jupyter-widgets/base",
            "_view_module_version": "1.2.0",
            "_view_name": "StyleView",
            "description_width": ""
          }
        },
        "d5cc00dd37d945828e85b152ed56c5b7": {
          "model_module": "@jupyter-widgets/base",
          "model_name": "LayoutModel",
          "model_module_version": "1.2.0",
          "state": {
            "_model_module": "@jupyter-widgets/base",
            "_model_module_version": "1.2.0",
            "_model_name": "LayoutModel",
            "_view_count": null,
            "_view_module": "@jupyter-widgets/base",
            "_view_module_version": "1.2.0",
            "_view_name": "LayoutView",
            "align_content": null,
            "align_items": null,
            "align_self": null,
            "border": null,
            "bottom": null,
            "display": null,
            "flex": null,
            "flex_flow": null,
            "grid_area": null,
            "grid_auto_columns": null,
            "grid_auto_flow": null,
            "grid_auto_rows": null,
            "grid_column": null,
            "grid_gap": null,
            "grid_row": null,
            "grid_template_areas": null,
            "grid_template_columns": null,
            "grid_template_rows": null,
            "height": null,
            "justify_content": null,
            "justify_items": null,
            "left": null,
            "margin": null,
            "max_height": null,
            "max_width": null,
            "min_height": null,
            "min_width": null,
            "object_fit": null,
            "object_position": null,
            "order": null,
            "overflow": null,
            "overflow_x": null,
            "overflow_y": null,
            "padding": null,
            "right": null,
            "top": null,
            "visibility": null,
            "width": null
          }
        },
        "075f154aa55142aeb7cff15699496bb6": {
          "model_module": "@jupyter-widgets/controls",
          "model_name": "ProgressStyleModel",
          "model_module_version": "1.5.0",
          "state": {
            "_model_module": "@jupyter-widgets/controls",
            "_model_module_version": "1.5.0",
            "_model_name": "ProgressStyleModel",
            "_view_count": null,
            "_view_module": "@jupyter-widgets/base",
            "_view_module_version": "1.2.0",
            "_view_name": "StyleView",
            "bar_color": null,
            "description_width": ""
          }
        },
        "316a9b82e0d0481c8a5abdc76e048ecf": {
          "model_module": "@jupyter-widgets/base",
          "model_name": "LayoutModel",
          "model_module_version": "1.2.0",
          "state": {
            "_model_module": "@jupyter-widgets/base",
            "_model_module_version": "1.2.0",
            "_model_name": "LayoutModel",
            "_view_count": null,
            "_view_module": "@jupyter-widgets/base",
            "_view_module_version": "1.2.0",
            "_view_name": "LayoutView",
            "align_content": null,
            "align_items": null,
            "align_self": null,
            "border": null,
            "bottom": null,
            "display": null,
            "flex": null,
            "flex_flow": null,
            "grid_area": null,
            "grid_auto_columns": null,
            "grid_auto_flow": null,
            "grid_auto_rows": null,
            "grid_column": null,
            "grid_gap": null,
            "grid_row": null,
            "grid_template_areas": null,
            "grid_template_columns": null,
            "grid_template_rows": null,
            "height": null,
            "justify_content": null,
            "justify_items": null,
            "left": null,
            "margin": null,
            "max_height": null,
            "max_width": null,
            "min_height": null,
            "min_width": null,
            "object_fit": null,
            "object_position": null,
            "order": null,
            "overflow": null,
            "overflow_x": null,
            "overflow_y": null,
            "padding": null,
            "right": null,
            "top": null,
            "visibility": null,
            "width": null
          }
        },
        "363ee20c3dc24f348fc92d9acc5dddd7": {
          "model_module": "@jupyter-widgets/controls",
          "model_name": "DescriptionStyleModel",
          "model_module_version": "1.5.0",
          "state": {
            "_model_module": "@jupyter-widgets/controls",
            "_model_module_version": "1.5.0",
            "_model_name": "DescriptionStyleModel",
            "_view_count": null,
            "_view_module": "@jupyter-widgets/base",
            "_view_module_version": "1.2.0",
            "_view_name": "StyleView",
            "description_width": ""
          }
        },
        "df02fe01b864484c9bb329436a632241": {
          "model_module": "@jupyter-widgets/controls",
          "model_name": "HBoxModel",
          "model_module_version": "1.5.0",
          "state": {
            "_dom_classes": [],
            "_model_module": "@jupyter-widgets/controls",
            "_model_module_version": "1.5.0",
            "_model_name": "HBoxModel",
            "_view_count": null,
            "_view_module": "@jupyter-widgets/controls",
            "_view_module_version": "1.5.0",
            "_view_name": "HBoxView",
            "box_style": "",
            "children": [
              "IPY_MODEL_1ed1ed7fc99b4234984d24d65f68767f",
              "IPY_MODEL_e06a380e51cb4700bddf72bea185533a",
              "IPY_MODEL_703b854b8fa945d685654a3d615ff1c4"
            ],
            "layout": "IPY_MODEL_56a7ef29731f46aaa7a5bcaea597cfe7"
          }
        },
        "1ed1ed7fc99b4234984d24d65f68767f": {
          "model_module": "@jupyter-widgets/controls",
          "model_name": "HTMLModel",
          "model_module_version": "1.5.0",
          "state": {
            "_dom_classes": [],
            "_model_module": "@jupyter-widgets/controls",
            "_model_module_version": "1.5.0",
            "_model_name": "HTMLModel",
            "_view_count": null,
            "_view_module": "@jupyter-widgets/controls",
            "_view_module_version": "1.5.0",
            "_view_name": "HTMLView",
            "description": "",
            "description_tooltip": null,
            "layout": "IPY_MODEL_581a92e52456469aadde3c3875096fed",
            "placeholder": "​",
            "style": "IPY_MODEL_3216fc0b0ef24f57a587755aa6f6b2a0",
            "value": "special_tokens_map.json: 100%"
          }
        },
        "e06a380e51cb4700bddf72bea185533a": {
          "model_module": "@jupyter-widgets/controls",
          "model_name": "FloatProgressModel",
          "model_module_version": "1.5.0",
          "state": {
            "_dom_classes": [],
            "_model_module": "@jupyter-widgets/controls",
            "_model_module_version": "1.5.0",
            "_model_name": "FloatProgressModel",
            "_view_count": null,
            "_view_module": "@jupyter-widgets/controls",
            "_view_module_version": "1.5.0",
            "_view_name": "ProgressView",
            "bar_style": "success",
            "description": "",
            "description_tooltip": null,
            "layout": "IPY_MODEL_cf6c75de9a954e8ab4d6099746cb7c43",
            "max": 414,
            "min": 0,
            "orientation": "horizontal",
            "style": "IPY_MODEL_3a185f6c77d94fb28aabf77dcd19a9a0",
            "value": 414
          }
        },
        "703b854b8fa945d685654a3d615ff1c4": {
          "model_module": "@jupyter-widgets/controls",
          "model_name": "HTMLModel",
          "model_module_version": "1.5.0",
          "state": {
            "_dom_classes": [],
            "_model_module": "@jupyter-widgets/controls",
            "_model_module_version": "1.5.0",
            "_model_name": "HTMLModel",
            "_view_count": null,
            "_view_module": "@jupyter-widgets/controls",
            "_view_module_version": "1.5.0",
            "_view_name": "HTMLView",
            "description": "",
            "description_tooltip": null,
            "layout": "IPY_MODEL_875a333d1d8144b989c05e59affc6c13",
            "placeholder": "​",
            "style": "IPY_MODEL_342a65159618452e94841091e9adde06",
            "value": " 414/414 [00:00&lt;00:00, 26.4kB/s]"
          }
        },
        "56a7ef29731f46aaa7a5bcaea597cfe7": {
          "model_module": "@jupyter-widgets/base",
          "model_name": "LayoutModel",
          "model_module_version": "1.2.0",
          "state": {
            "_model_module": "@jupyter-widgets/base",
            "_model_module_version": "1.2.0",
            "_model_name": "LayoutModel",
            "_view_count": null,
            "_view_module": "@jupyter-widgets/base",
            "_view_module_version": "1.2.0",
            "_view_name": "LayoutView",
            "align_content": null,
            "align_items": null,
            "align_self": null,
            "border": null,
            "bottom": null,
            "display": null,
            "flex": null,
            "flex_flow": null,
            "grid_area": null,
            "grid_auto_columns": null,
            "grid_auto_flow": null,
            "grid_auto_rows": null,
            "grid_column": null,
            "grid_gap": null,
            "grid_row": null,
            "grid_template_areas": null,
            "grid_template_columns": null,
            "grid_template_rows": null,
            "height": null,
            "justify_content": null,
            "justify_items": null,
            "left": null,
            "margin": null,
            "max_height": null,
            "max_width": null,
            "min_height": null,
            "min_width": null,
            "object_fit": null,
            "object_position": null,
            "order": null,
            "overflow": null,
            "overflow_x": null,
            "overflow_y": null,
            "padding": null,
            "right": null,
            "top": null,
            "visibility": null,
            "width": null
          }
        },
        "581a92e52456469aadde3c3875096fed": {
          "model_module": "@jupyter-widgets/base",
          "model_name": "LayoutModel",
          "model_module_version": "1.2.0",
          "state": {
            "_model_module": "@jupyter-widgets/base",
            "_model_module_version": "1.2.0",
            "_model_name": "LayoutModel",
            "_view_count": null,
            "_view_module": "@jupyter-widgets/base",
            "_view_module_version": "1.2.0",
            "_view_name": "LayoutView",
            "align_content": null,
            "align_items": null,
            "align_self": null,
            "border": null,
            "bottom": null,
            "display": null,
            "flex": null,
            "flex_flow": null,
            "grid_area": null,
            "grid_auto_columns": null,
            "grid_auto_flow": null,
            "grid_auto_rows": null,
            "grid_column": null,
            "grid_gap": null,
            "grid_row": null,
            "grid_template_areas": null,
            "grid_template_columns": null,
            "grid_template_rows": null,
            "height": null,
            "justify_content": null,
            "justify_items": null,
            "left": null,
            "margin": null,
            "max_height": null,
            "max_width": null,
            "min_height": null,
            "min_width": null,
            "object_fit": null,
            "object_position": null,
            "order": null,
            "overflow": null,
            "overflow_x": null,
            "overflow_y": null,
            "padding": null,
            "right": null,
            "top": null,
            "visibility": null,
            "width": null
          }
        },
        "3216fc0b0ef24f57a587755aa6f6b2a0": {
          "model_module": "@jupyter-widgets/controls",
          "model_name": "DescriptionStyleModel",
          "model_module_version": "1.5.0",
          "state": {
            "_model_module": "@jupyter-widgets/controls",
            "_model_module_version": "1.5.0",
            "_model_name": "DescriptionStyleModel",
            "_view_count": null,
            "_view_module": "@jupyter-widgets/base",
            "_view_module_version": "1.2.0",
            "_view_name": "StyleView",
            "description_width": ""
          }
        },
        "cf6c75de9a954e8ab4d6099746cb7c43": {
          "model_module": "@jupyter-widgets/base",
          "model_name": "LayoutModel",
          "model_module_version": "1.2.0",
          "state": {
            "_model_module": "@jupyter-widgets/base",
            "_model_module_version": "1.2.0",
            "_model_name": "LayoutModel",
            "_view_count": null,
            "_view_module": "@jupyter-widgets/base",
            "_view_module_version": "1.2.0",
            "_view_name": "LayoutView",
            "align_content": null,
            "align_items": null,
            "align_self": null,
            "border": null,
            "bottom": null,
            "display": null,
            "flex": null,
            "flex_flow": null,
            "grid_area": null,
            "grid_auto_columns": null,
            "grid_auto_flow": null,
            "grid_auto_rows": null,
            "grid_column": null,
            "grid_gap": null,
            "grid_row": null,
            "grid_template_areas": null,
            "grid_template_columns": null,
            "grid_template_rows": null,
            "height": null,
            "justify_content": null,
            "justify_items": null,
            "left": null,
            "margin": null,
            "max_height": null,
            "max_width": null,
            "min_height": null,
            "min_width": null,
            "object_fit": null,
            "object_position": null,
            "order": null,
            "overflow": null,
            "overflow_x": null,
            "overflow_y": null,
            "padding": null,
            "right": null,
            "top": null,
            "visibility": null,
            "width": null
          }
        },
        "3a185f6c77d94fb28aabf77dcd19a9a0": {
          "model_module": "@jupyter-widgets/controls",
          "model_name": "ProgressStyleModel",
          "model_module_version": "1.5.0",
          "state": {
            "_model_module": "@jupyter-widgets/controls",
            "_model_module_version": "1.5.0",
            "_model_name": "ProgressStyleModel",
            "_view_count": null,
            "_view_module": "@jupyter-widgets/base",
            "_view_module_version": "1.2.0",
            "_view_name": "StyleView",
            "bar_color": null,
            "description_width": ""
          }
        },
        "875a333d1d8144b989c05e59affc6c13": {
          "model_module": "@jupyter-widgets/base",
          "model_name": "LayoutModel",
          "model_module_version": "1.2.0",
          "state": {
            "_model_module": "@jupyter-widgets/base",
            "_model_module_version": "1.2.0",
            "_model_name": "LayoutModel",
            "_view_count": null,
            "_view_module": "@jupyter-widgets/base",
            "_view_module_version": "1.2.0",
            "_view_name": "LayoutView",
            "align_content": null,
            "align_items": null,
            "align_self": null,
            "border": null,
            "bottom": null,
            "display": null,
            "flex": null,
            "flex_flow": null,
            "grid_area": null,
            "grid_auto_columns": null,
            "grid_auto_flow": null,
            "grid_auto_rows": null,
            "grid_column": null,
            "grid_gap": null,
            "grid_row": null,
            "grid_template_areas": null,
            "grid_template_columns": null,
            "grid_template_rows": null,
            "height": null,
            "justify_content": null,
            "justify_items": null,
            "left": null,
            "margin": null,
            "max_height": null,
            "max_width": null,
            "min_height": null,
            "min_width": null,
            "object_fit": null,
            "object_position": null,
            "order": null,
            "overflow": null,
            "overflow_x": null,
            "overflow_y": null,
            "padding": null,
            "right": null,
            "top": null,
            "visibility": null,
            "width": null
          }
        },
        "342a65159618452e94841091e9adde06": {
          "model_module": "@jupyter-widgets/controls",
          "model_name": "DescriptionStyleModel",
          "model_module_version": "1.5.0",
          "state": {
            "_model_module": "@jupyter-widgets/controls",
            "_model_module_version": "1.5.0",
            "_model_name": "DescriptionStyleModel",
            "_view_count": null,
            "_view_module": "@jupyter-widgets/base",
            "_view_module_version": "1.2.0",
            "_view_name": "StyleView",
            "description_width": ""
          }
        }
      }
    }
  },
  "cells": [
    {
      "cell_type": "markdown",
      "metadata": {
        "id": "view-in-github",
        "colab_type": "text"
      },
      "source": [
        "<a href=\"https://colab.research.google.com/github/kairamilanifitria/RAG-with-Groq/blob/main/Purple_Box_Case_Study.ipynb\" target=\"_parent\"><img src=\"https://colab.research.google.com/assets/colab-badge.svg\" alt=\"Open In Colab\"/></a>"
      ]
    },
    {
      "cell_type": "markdown",
      "source": [
        "# Task 1 : Data Ingestion and Cleaning ✅"
      ],
      "metadata": {
        "id": "X6KTtF6umZ-o"
      }
    },
    {
      "cell_type": "code",
      "execution_count": 9,
      "metadata": {
        "id": "KSow_TyIZkVg"
      },
      "outputs": [],
      "source": [
        "import pandas as pd\n",
        "import numpy as np\n",
        "import matplotlib.pyplot as plt\n",
        "import seaborn as sns"
      ]
    },
    {
      "cell_type": "code",
      "source": [
        "!pip install nltk"
      ],
      "metadata": {
        "colab": {
          "base_uri": "https://localhost:8080/"
        },
        "id": "cHHHX9XLb8Tp",
        "outputId": "c960f548-cb0e-49b5-c7c4-69ba3253c220"
      },
      "execution_count": 10,
      "outputs": [
        {
          "output_type": "stream",
          "name": "stdout",
          "text": [
            "Requirement already satisfied: nltk in /usr/local/lib/python3.10/dist-packages (3.9.1)\n",
            "Requirement already satisfied: click in /usr/local/lib/python3.10/dist-packages (from nltk) (8.1.7)\n",
            "Requirement already satisfied: joblib in /usr/local/lib/python3.10/dist-packages (from nltk) (1.4.2)\n",
            "Requirement already satisfied: regex>=2021.8.3 in /usr/local/lib/python3.10/dist-packages (from nltk) (2024.9.11)\n",
            "Requirement already satisfied: tqdm in /usr/local/lib/python3.10/dist-packages (from nltk) (4.66.6)\n"
          ]
        }
      ]
    },
    {
      "cell_type": "code",
      "source": [
        "import os\n",
        "import re\n",
        "import nltk\n",
        "nltk.download('punkt_tab')\n",
        "from nltk.corpus import stopwords\n",
        "from nltk.tokenize import sent_tokenize, word_tokenize"
      ],
      "metadata": {
        "colab": {
          "base_uri": "https://localhost:8080/"
        },
        "id": "GMcvMdC-bAZu",
        "outputId": "0bc9aaa6-4ae4-47c9-f834-f112b85aa211"
      },
      "execution_count": 11,
      "outputs": [
        {
          "output_type": "stream",
          "name": "stderr",
          "text": [
            "[nltk_data] Downloading package punkt_tab to /root/nltk_data...\n",
            "[nltk_data]   Package punkt_tab is already up-to-date!\n"
          ]
        }
      ]
    },
    {
      "cell_type": "code",
      "source": [
        "# Ensure required NLTK resources are downloaded\n",
        "nltk.download('punkt')\n",
        "nltk.download('stopwords')"
      ],
      "metadata": {
        "colab": {
          "base_uri": "https://localhost:8080/"
        },
        "id": "NeqpoeiIbEDS",
        "outputId": "ff49bb8b-cb84-4a3a-968b-40068f7a9cc2"
      },
      "execution_count": 12,
      "outputs": [
        {
          "output_type": "stream",
          "name": "stderr",
          "text": [
            "[nltk_data] Downloading package punkt to /root/nltk_data...\n",
            "[nltk_data]   Package punkt is already up-to-date!\n",
            "[nltk_data] Downloading package stopwords to /root/nltk_data...\n",
            "[nltk_data]   Package stopwords is already up-to-date!\n"
          ]
        },
        {
          "output_type": "execute_result",
          "data": {
            "text/plain": [
              "True"
            ]
          },
          "metadata": {},
          "execution_count": 12
        }
      ]
    },
    {
      "cell_type": "code",
      "source": [
        "# Define the folder containing .txt files\n",
        "data_folder = \"/content/drive/MyDrive/Case Study RAG Interns\"  # Replace with the actual path"
      ],
      "metadata": {
        "id": "qG26dWF2ae21"
      },
      "execution_count": 13,
      "outputs": []
    },
    {
      "cell_type": "code",
      "source": [
        "# Initialize stop words and punctuation\n",
        "stop_words = set(stopwords.words('english'))\n",
        "stop_words.discard(\"not\")\n",
        "punctuation = re.compile(r'[^\\w\\s]')"
      ],
      "metadata": {
        "id": "B-AgB38ObPuI"
      },
      "execution_count": 14,
      "outputs": []
    },
    {
      "cell_type": "code",
      "source": [
        "def preprocess_text(text):\n",
        "    # Tokenize text into sentences\n",
        "    sentences = sent_tokenize(text)\n",
        "    cleaned_sentences = []\n",
        "    for sentence in sentences:\n",
        "        # Remove punctuation and special characters\n",
        "        sentence = punctuation.sub('', sentence)\n",
        "        # Convert to lowercase and split into words\n",
        "        words = sentence.lower().split()\n",
        "        # Remove stop words\n",
        "        cleaned_words = [word for word in words if word not in stop_words]\n",
        "        cleaned_sentences.append(' '.join(cleaned_words))\n",
        "    return cleaned_sentences"
      ],
      "metadata": {
        "id": "I8daeAl6bR2k"
      },
      "execution_count": 15,
      "outputs": []
    },
    {
      "cell_type": "code",
      "source": [
        "# Ingest and process all .txt files in the folder\n",
        "def process_txt_files(folder_path):\n",
        "    processed_documents = {}\n",
        "    for file_name in os.listdir(folder_path):\n",
        "        if file_name.endswith('.txt'):\n",
        "            file_path = os.path.join(folder_path, file_name)\n",
        "            with open(file_path, 'r', encoding='utf-8') as file:\n",
        "                text = file.read()\n",
        "                processed_documents[file_name] = preprocess_text(text)\n",
        "    return processed_documents"
      ],
      "metadata": {
        "id": "Wy20ZEz2bXfP"
      },
      "execution_count": 16,
      "outputs": []
    },
    {
      "cell_type": "code",
      "source": [
        "# Process the .txt files and print the results\n",
        "cleaned_data = process_txt_files(data_folder)\n",
        "for doc, sentences in cleaned_data.items():\n",
        "    print(f\"Document: {doc}\")\n",
        "    print(f\"Cleaned Sentences: {sentences}\")\n",
        "    print(\"-\" * 50)"
      ],
      "metadata": {
        "colab": {
          "base_uri": "https://localhost:8080/"
        },
        "id": "qwWJkfh1bdqE",
        "outputId": "f4d5d743-6f89-411f-c436-ce5feed3e5fb"
      },
      "execution_count": 17,
      "outputs": [
        {
          "output_type": "stream",
          "name": "stdout",
          "text": [
            "Document: KTM 390 Duke Engine.txt\n",
            "Cleaned Sentences: ['ktm 390 duke engine ktm 390 duke highperformance naked bike designed urban commuting thrilling weekend rides', 'powered cuttingedge engine 390 duke delivers perfect blend power agility efficiency', 'motorcycle built riders crave adrenaline maintaining versatility everyday use', 'heart 390 duke compact yet powerful 373cc engine engineered offer exhilarating experience streets making one top contenders entrylevel performance motorcycle market', 'features singlecylinder liquidcooled engine 390 dukes engine 373cc singlecylinder powerhouse liquidcooled providing optimal temperature regulation even highspeed runs', 'liquidcooling system ensures engine performs best even demanding riding conditions preventing overheating maintaining efficiency', 'fuel injection ridebywire technology electronic fuel injection efi system offers precise control fuelair mixture efficient combustion improved fuel economy', 'ridebywire throttle technology ensures smoother throttle response enhanced riding precision whether youre cruising low speeds gunning open road', 'dohc valve train dual overhead cam dohc design allows precise control engines intake exhaust valves optimizing power delivery across wide rpm range', 'results better acceleration higher power output greater engine efficiency', '6speed gearbox quickshifter 390 duke equipped 6speed constant mesh gearbox provides smooth quick shifts ability extract maximum performance engine', 'better handling gear shifts bike features optional quickshifter allowing riders upshift without using clutch fluid riding experience', 'lightweight compact design ktms focus lightweight construction extends engine designed minimize weight maintaining durability', 'lightweight engine contributes overall weight reduction bike improving handling braking fuel efficiency', 'key factor bikes agility tight corners city traffic', 'exhaust system 390 duke uses slipon exhaust system enhances engine performance producing deep throaty exhaust note', 'design exhaust not reduces weight also contributes bikes overall aerodynamic profile improving speed stability', 'specifications engine type singlecylinder 4stroke liquidcooled dohc displacement 373cc bore x stroke 89mm x 60mm compression ratio 1261 maximum horsepower 44 hp 9000 rpm maximum torque 37 nm 7000 rpm fuel system electronic fuel injection efi ridebywire cooling liquidcooled ignition digital electronic ignition valves dohc 4 valves per cylinder weight 36 kg engine fuel tank capacity 134l including reserve transmission 6speed gearbox optional quickshifter exhaust system slipon exhaust performance ktm 390 duke engine tuned impressive performance offering exciting ride beginner experienced riders', 'lightweight design coupled powerful engine makes ideal quick acceleration efficient fuel consumption easy handling urban environments', 'acceleration power output 44 horsepower 37 nm torque 390 duke accelerates rapidly going 060 mph 38 seconds', 'singlecylinder engine delivers linear power across rev range ensuring responsive throttle input whether youre riding city streets open highways', 'top speed ktm 390 duke reach top speed 170 kmh 105 mph providing ample power highway riding weekend track days', 'smooth power delivery combined welltuned suspension system ensures stability even higher speeds', 'fuel efficiency thanks fuelinjection system efficient engine design 390 duke delivers excellent fuel efficiency averaging 2832 kml 6675 mpg normal riding conditions', 'makes economical choice daily commuting without sacrificing performance', 'handling agility lightweight construction engine bikes overall design makes 390 duke exceptionally agile', 'trellis frame combined powerful engine allows precise handling making joy navigate tight corners weave traffic enjoy spirited ride twisty roads', 'braking equipped brembo brakes 390 duke offers strong braking performance providing excellent stopping power 320mm front disc 230mm rear disc', 'braking system complemented abs ensuring better safety control especially emergency braking situations', 'suspension wp apex suspension system featuring 43mm usd front forks monoshock rear ensures superior comfort handling absorbing bumps uneven surfaces ease', 'makes 390 duke excellent choice riders looking versatile machine handle different road conditions riding styles']\n",
            "--------------------------------------------------\n",
            "Document: BOSCH 0607595100 - Compressed Air Foam Cutter up to 300 mm, 3800 Strokes_Min.txt\n",
            "Cleaned Sentences: ['bosch 0607595100 compressed air foam cutter 300 mm 3800 strokesmin description bosch 0607595100 highperformance compressed air foam cutter designed precise efficient cutting foam materials professional environments', 'ergonomic design powerful airdriven motor tool offers maximum cutting efficiency durability commercial industrial uses', 'lightweight compact nature make easy handle robust construction ensures longlasting performance even demanding conditions', '3800 strokesmin cutting speed provides smooth rapid foam cutting making ideal variety applications including upholstery insulation packaging', 'ficha técnica product name compressed air foam cutter model bosch 0607595100 max cutting length 300 mm strokes per minute 3800 strokesmin cutting speed highspeed airdriven motor smooth quick cuts power source compressed air pneumatic air consumption approx', '200 lmin 6 bar weight 14 kg approx', 'dimensions 450 mm x 150 mm x 110 mm l x w x h application cutting foam upholstery materials insulation materials ergonomics lightweight balanced design comfortable use features high cutting speed efficiency ideal industrial commercial applications low vibration design reduced user fatigue']\n",
            "--------------------------------------------------\n",
            "Document: STANLEY SFMCS650B-XJ - 18V 4.0 Ah Brushless Jigsaw (Without Batteries and Charger).txt\n",
            "Cleaned Sentences: ['stanley sfmcs650bxj 18v 40 ah brushless jigsaw without batteries charger description stanley sfmcs650bxj powerful 18v brushless jigsaw designed deliver precision control cutting wide range materials including wood metal plastic', 'tool features 40 ah battery capacity longer runtimes making perfect prolonged use construction sites workshops', 'brushless motor jigsaw provides increased power efficiency durability toolfree blade change system ensures quick easy blade replacement', 'adjustable pendulum action allows fast cuts fine intricate cutting tasks', 'model not come batteries charger compatible stanleys existing battery system added flexibility', 'ficha técnica product name 18v brushless jigsaw without batteries charger model stanley sfmcs650bxj voltage 18v battery capacity 40 ah batteries sold separately motor type brushless speed variable speed 2800 strokes per minute cutting depth wood 135 mm steel 10 mm aluminum 20 mm pendulum action 4 stages different cutting styles blade type tshank toolfree blade change bevel adjustment 0 45 angled cuts weight 24 kg dimensions 250 mm x 70 mm x 210 mm l x w x h features brushless motor improved runtime longer motor life toolfree blade change system ergonomic design comfortable use dust blower improved visibility cutting line compatible stanley 18v battery system']\n",
            "--------------------------------------------------\n",
            "Document: Gabriele D'Annunzio_ The Influence of a Fictional Poet on Modern Literature.txt\n",
            "Cleaned Sentences: ['gabriele dannunzio influence fictional poet modern literature gabriele dannunzio often regarded one celebrated controversial figures italian literature made indelible mark literary cultural landscapes late 19th early 20th centuries', 'profound influence modern poetry literature culture cannot overstated work transcended boundaries written word encapsulate broader vision artistic political engagement', 'persona politics often stirred debate literary contributions modernism symbolism aestheticism remain defining aspect legacy', 'modern poetry aestheticism dannunzios impact modern poetry lies ability blend lush sensuous language refined aesthetic sensibility', 'poetry notably featured collections il poema paradisiaco la chimera renowned exploration decadence beauty inner turmoil human condition', 'dannunzios lyricism deeply inspired symbolism movement emphasized subjective experience reality symbolism nature search deeper meanings beyond literal', 'poets emphasis visual imagery emotional intensity greatly influenced future generations poets sought break free traditional forms narrative verse', 'modernist movement particular owes much dannunzios experimentation language', 'poets like guido gozzano eugenio montale part italian literary modernism wave drew inspiration dannunzios capacity marry emotion aesthetic precision', 'work set stage fragmentation ambiguity characterized much 20thcentury poetry making precursor figures like ts', 'eliot ezra pound explored themes alienation disillusionment search transcendence', 'literary renaissance fascist symbolism dannunzios role literature went beyond poetic innovation also key figure italian literary renaissance particularly context role cultural critic public intellectual', 'influence development modernist literature not purely theoretical also practical writings became essential part cultural movement sought revive italys imperial grandeur artistic prominence', 'moreover impact literature extended political sphere especially role promoting nationalist ideas ideals war heroism', 'dannunzios blend poetic artistry political ideology found curious parallel works fascist intellectual movement looked cultural leader model virility heroism nationalism', 'la trionfale highly patriotic controversial text glorified military exploits notion artist leadera theme would later coopted fascist regime', 'connection fascist aesthetics marked complicated period dannunzios legacy political affiliations casting shadow literary contributions', 'nonetheless ability intertwine art national identity set dannunzio apart literary figures time', 'work seen precursor later fascist symbolism would pervade not italian literature also european political thought', 'plays poetry speeches dannunzio became symbol merging aesthetic political illustrating literature reflect influence broader societal changes', 'cultural influence dannunzio cultural icon dannunzios cultural impact farreaching not literature across multiple forms artistic expression including theatre opera visual arts', 'ability craft dramatic almost mythic personas led central figure italian theatre plays la gioconda elevated emotional intensity modern theatre encouraged exploration heightened often tragic narratives', 'realm italian cinema work served rich source inspiration directors seeking explore intersection national identity individual psychology', 'vivid imagery poetry prose found visual counterpart works filmmakers like federico fellini luchino visconti whose films often portrayed decadent themes beauty loss power', 'moreover dannunzios personal lifethe lavish indulgence sensuality political escapades devotion physical fitnessturned cultural icon much like bohemian figures time', 'persona superman italian intellectuals coupled role war hero political figure placed center cultural movement sought redefine meant artist man action', 'commitment ideals vita virile virile life term coined celebrate life physical prowess artistic excellence heroic ideals resonated deeply cultural currents early 20th century', 'concept poet superman blending art politics personal heroism inspired later figures arts political spheres including filippo tommaso marinetti founder futurism', 'legacy contemporary literature contemporary literature influence gabriele dannunzio still traced works modern poets writers blend aesthetics broader cultural narratives', 'writers like antonio tabucchi roberto saviano incorporate lyrical storytelling political critique continue engage dual legacy dannunziothe poet beauty poet politics', 'moreover exploration personal identity relation national identity hallmark dannunzios work remains significant theme literature today', 'complex blending art politics personal mythmaking historical narrative remains relevant way contemporary authors negotiate tensions individual expression collective cultural memory']\n",
            "--------------------------------------------------\n",
            "Document: Ducati Panigale V4 Engine.txt\n",
            "Cleaned Sentences: ['ducati panigale v4 engine ducati panigale v4 masterpiece engineering delivering unparalleled riding experience', 'cuttingedge v4 engine offers exceptional performance thrilling auditory experience', 'designed track enthusiasts street riders alike panigale v4 combines robust highperformance engine iconic ducati styling setting new benchmark world superbikes', 'features v4 engine configuration panigale v4 boasts 90 v4 engine direct descendent ducatis motogp engine providing massive power torque', '1103cc engine symphony performance design producing incredible acceleration smooth power delivery unmatched topend performance', 'desmosedici stradale engine heart panigale v4 desmosedici stradale engine takes inspiration ducatis motogp success', 'engine incorporates advanced technologies including desmodromic valve system eliminates traditional springs resulting precise control valve timing high engine speeds', 'electronic fuel injection efi panigale v4s fuel injection system provides optimal fuel delivery ensuring efficient combustion enhancing power output fuel efficiency', 'systems adaptability ensures smooth throttle response riding conditions city traffic racetrack performance', 'riding modes ducati power launch dpl ducati panigale v4 comes three riding modes sport race street tailored power delivery electronic aids suit different riding styles', 'ducati power launch feature optimizes acceleration ensuring perfect start racing conditions', 'variable valve timing vvt v4 engine equipped ducatis innovative variable valve timing system adjusts intake exhaust valve timings depending engines rpm', 'technology provides smooth power delivery low rpms incredible highend performance revs climb', 'exhaust sound design signature feature ducati panigale v4 exhilarating exhaust sound', 'engine uses highperformance exhaust system developed offer distinctive ducati roar ensuring every twist throttle accompanied unmistakable growl', 'lightweight construction panigale v4s engine crafted focus weight reduction utilizing magnesium titanium components keep lightweight maintaining durability', 'contributes higher powertoweight ratio enhancing bikes agility handling', 'specifications engine type 90 v4 liquidcooled displacement 1103cc bore x stroke 81mm x 535mm compression ratio 141 horsepower 214 hp 13000 rpm torque 124 nm 10000 rpm fuel system electronic fuel injection efi ridebywire cooling liquidcooled ignition electronic ignition integrated ecu valves desmodromic valve timing 4 valves per cylinder weight 64 kg engine fuel tank capacity 16l including reserve transmission 6speed ducati quick shift dqs updown exhaust system full titanium exhaust system optional performance ducati panigale v4 engine engineered extreme performance making one powerful responsive engines superbike category', 'advanced v4 configuration highrevving capabilities deliver thrilling performance track street', 'acceleration ducati panigale v4 accelerates 060 mph 28 seconds thanks 214 horsepower 124 nm torque', 'aggressive power delivery perfectly complemented ducatis ducati quick shift system allowing seamless upshifts full throttle', 'top speed top speed 190 mph panigale v4 built dominate track highway', 'aerodynamic design highrevving engine provide stability control extreme speeds ensuring thrilling safe ride', 'handling lightweight construction engine combined finelytuned suspension system allows panigale v4 offer unmatched agility', 'quick steering precise feedback chassis make ideal tight corners highspeed straights ensuring exceptional handling experience', 'cornering braking chassis incorporates ducatis signature monocoque frame braking brembo panigale v4 handles corners ease precision', 'powerful dual front disc brakes provide excellent stopping power allowing riders push limits confidence', 'fuel efficiency despite performance capabilities panigale v4 offers reasonable fuel economy class averaging 4045 mpg', 'built performance also capable longerdistance touring without constant refueling', 'sound feel engines sound iconic deep growl exhaust reflecting racing heritage', 'mechanical harmony highrevving v4 engine ducatis refined transmission system offers visceral experience thrilling intoxicating']\n",
            "--------------------------------------------------\n",
            "Document: STANLEY SFMCS650B-XJ - 18V 4.0 Ah Brushless Jigsaw (Without Batteries and Charger) (1).txt\n",
            "Cleaned Sentences: ['beta c45pro ms fixed service module workshop equipment combination c45pro description beta c45pro ms fixed service module designed c45pro workshop equipment combination', 'service module ideal professional workshops requiring versatile efficient tool organization storage solution', 'c45pro ms features solid modular structure allowing easily integrated various workshop environments', 'designed hold range workshop tools equipment ensuring quick access maximizing workspace efficiency', 'modules construction uses highquality materials ensure durability strength making suitable demanding workshop conditions', 'ficha técnica product name fixed service module model beta c45pro ms compatibility designed integration beta c45pro combination dimensions 1200 mm x 550 mm x 900 mm l x w x h material steel construction powdercoated finish durability weight 70 kg approx', 'storage capacity multiple compartments drawers tool organization drawer capacity 30 kg per drawer structure modular system easy integration beta equipment features sturdy durable steel frame powdercoated surface corrosion resistance highcapacity storage drawers secure locking mechanisms provides optimal workspace organization easy mobility heavyduty casters optional']\n",
            "--------------------------------------------------\n",
            "Document: Biography of a Fictional Poet - William Shakespeare.txt\n",
            "Cleaned Sentences: ['biography fictional poet william shakespeare william shakespeare often hailed greatest poet playwright english language born stratforduponavon 1564', 'exact date birth remains uncertain traditionally celebrated april 23 day passed away 1616', 'shakespeares life work transcended time geography making towering figure world literature', 'though much personal life shrouded mystery poetic theatrical contributions left indelible mark english literature arts', 'early life inspirations shakespeares early life deeply influenced cultural intellectual climate elizabethan england era renaissance flourishing', 'growing town not far london shakespeare exposed range literary artistic influences', 'father john shakespeare respected glove maker local official mother mary arden came wellestablished family', 'believed young william received solid education stratford grammar school studied latin classics introduced works great poets playwrights antiquity including ovid virgil homer', 'shakespeares first major influence likely bustling theatrical scene london', 'late 1580s left stratford found place citys burgeoning theater scene', 'exposure works contemporary playwrights christopher marlowe ben jonson university wits gave foundation drama poetic forms would later shape work', 'career literary achievements shakespeares career began earnest joined lord chamberlains men prominent acting company around 1594', 'works soon performed stages london capturing attention public aristocratic audiences', 'next two decades shakespeare wrote 39 plays 154 sonnets numerous poems covering broad range genres including tragedy comedy history', 'tragedies human condition shakespeares tragedies hamlet macbeth othello king lear explore deepest aspects human conditionambition guilt revenge madness', 'plays shakespeare examined complexities human soul often portraying noble characters brought low flaws external forces', 'tragic heros journey toward selfawareness destruction theme resonates across time characters like hamlet indecisive prince macbeth ambitious king continuing inspire readers actors alike', 'comedies joy life contrast tragedies shakespeares comedies midsummer nights dream much ado nothing twelfth night provide lighthearted exploration human relationships often focusing love identity mistaken identities', 'plays rich wit clever wordplay showcase shakespeares exceptional ability blend humor profound social commentary often satirizing social conventions presenting idealized world love conquers', 'history plays national identity shakespeares history playsincluding richard iii henry v henry ivrely historical events figures examine themes power leadership national identity', 'works shakespeare not contributed popularization english history also shaped national consciousness england reign queen elizabeth later king james', 'sonnets eternal poet addition plays shakespeare also renowned sonnets collection 154 poems explore themes love time beauty mortality', 'written iambic pentameter following shakespearean sonnet form 14 lines distinct rhyme scheme sonnets provide deeply personal reflection human emotion', 'shakespeares sonnets timeless ability speak universal experienceswhether pain unrequited love joy friendship inevitability aging', 'one famous lines shall compare thee summers day', 'sonnet 18 continues resonate readers become symbol shakespeares enduring legacy', 'legacy influence shakespeares work never ceased relevant', 'plays continue performed theaters across world adapted films reinterpreted various forms', 'influence seen works writers like charles dickens james joyce ts', 'eliot admired ability explore depths human experience', 'beyond literature shakespeares impact extends philosophy psychology even politics exploration power ambition complexities human soul continues provide valuable insights', 'enduring legacy poet playwright lies not universal themes works also mastery language ability evoke empathy unique insight human experience', 'enduring poet william shakespeare died april 23 1616 leaving behind body work continues captivate audiences scholars artists around world', 'death marked end era poets influence lives every corner world', 'man stratford vivid imagination masterful command english language remains monumental figure whose works read performed loved centuries come']\n",
            "--------------------------------------------------\n"
          ]
        }
      ]
    },
    {
      "cell_type": "markdown",
      "source": [
        "# Task 2 : Chunking Text ✅"
      ],
      "metadata": {
        "id": "UVhwCfAfmQAv"
      }
    },
    {
      "cell_type": "code",
      "source": [
        "# Parameters for chunking\n",
        "MAX_TOKENS = 300\n",
        "OVERLAP_TOKENS = 50"
      ],
      "metadata": {
        "id": "1E9t7EoxbveP"
      },
      "execution_count": 18,
      "outputs": []
    },
    {
      "cell_type": "code",
      "source": [
        "# Function to chunk text with overlap\n",
        "def chunk_text(sentences):\n",
        "    chunks = []\n",
        "    current_chunk = []\n",
        "    current_length = 0\n",
        "\n",
        "    for sentence in sentences:\n",
        "        tokens = word_tokenize(sentence)\n",
        "        token_count = len(tokens)\n",
        "\n",
        "        if current_length + token_count <= MAX_TOKENS:\n",
        "            current_chunk.extend(tokens)\n",
        "            current_length += token_count\n",
        "        else:\n",
        "            # Save the current chunk\n",
        "            chunks.append(current_chunk)\n",
        "            # Start a new chunk with overlap\n",
        "            overlap = current_chunk[-OVERLAP_TOKENS:] if len(current_chunk) >= OVERLAP_TOKENS else current_chunk\n",
        "            current_chunk = overlap + tokens\n",
        "            current_length = len(current_chunk)\n",
        "\n",
        "    # Add the last chunk\n",
        "    if current_chunk:\n",
        "        chunks.append(current_chunk)\n",
        "\n",
        "    # Convert chunks back to text\n",
        "    return [' '.join(chunk) for chunk in chunks]\n"
      ],
      "metadata": {
        "id": "VTclC1q7dLf1"
      },
      "execution_count": 19,
      "outputs": []
    },
    {
      "cell_type": "code",
      "source": [
        "# Process documents to create chunks\n",
        "def process_chunks(cleaned_data):\n",
        "    chunked_data = {}\n",
        "    for doc_name, sentences in cleaned_data.items():\n",
        "        chunked_data[doc_name] = chunk_text(sentences)\n",
        "    return chunked_data"
      ],
      "metadata": {
        "id": "d9x5ksMadN_s"
      },
      "execution_count": 20,
      "outputs": []
    },
    {
      "cell_type": "code",
      "source": [
        "# Save chunked data to JSON\n",
        "def save_to_json(data, output_file):\n",
        "    with open(output_file, 'w', encoding='utf-8') as file:\n",
        "        json.dump(data, file, indent=4)"
      ],
      "metadata": {
        "id": "Nnk2KaFudPwM"
      },
      "execution_count": 21,
      "outputs": []
    },
    {
      "cell_type": "code",
      "source": [
        "# Chunk the cleaned data\n",
        "chunked_data = process_chunks(cleaned_data)"
      ],
      "metadata": {
        "id": "EWHHJCXFdRLt"
      },
      "execution_count": 22,
      "outputs": []
    },
    {
      "cell_type": "code",
      "source": [
        "chunked_data"
      ],
      "metadata": {
        "colab": {
          "base_uri": "https://localhost:8080/"
        },
        "collapsed": true,
        "id": "IE7YnDo5dVTC",
        "outputId": "57341aee-b568-4cdb-f984-43a5f643e02a"
      },
      "execution_count": 23,
      "outputs": [
        {
          "output_type": "execute_result",
          "data": {
            "text/plain": [
              "{'KTM 390 Duke Engine.txt': ['ktm 390 duke engine ktm 390 duke highperformance naked bike designed urban commuting thrilling weekend rides powered cuttingedge engine 390 duke delivers perfect blend power agility efficiency motorcycle built riders crave adrenaline maintaining versatility everyday use heart 390 duke compact yet powerful 373cc engine engineered offer exhilarating experience streets making one top contenders entrylevel performance motorcycle market features singlecylinder liquidcooled engine 390 dukes engine 373cc singlecylinder powerhouse liquidcooled providing optimal temperature regulation even highspeed runs liquidcooling system ensures engine performs best even demanding riding conditions preventing overheating maintaining efficiency fuel injection ridebywire technology electronic fuel injection efi system offers precise control fuelair mixture efficient combustion improved fuel economy ridebywire throttle technology ensures smoother throttle response enhanced riding precision whether youre cruising low speeds gunning open road dohc valve train dual overhead cam dohc design allows precise control engines intake exhaust valves optimizing power delivery across wide rpm range results better acceleration higher power output greater engine efficiency 6speed gearbox quickshifter 390 duke equipped 6speed constant mesh gearbox provides smooth quick shifts ability extract maximum performance engine better handling gear shifts bike features optional quickshifter allowing riders upshift without using clutch fluid riding experience lightweight compact design ktms focus lightweight construction extends engine designed minimize weight maintaining durability lightweight engine contributes overall weight reduction bike improving handling braking fuel efficiency key factor bikes agility tight corners city traffic exhaust system 390 duke uses slipon exhaust system enhances engine performance producing deep throaty exhaust note design exhaust not reduces weight also contributes bikes overall aerodynamic profile improving speed stability',\n",
              "  'lightweight engine contributes overall weight reduction bike improving handling braking fuel efficiency key factor bikes agility tight corners city traffic exhaust system 390 duke uses slipon exhaust system enhances engine performance producing deep throaty exhaust note design exhaust not reduces weight also contributes bikes overall aerodynamic profile improving speed stability specifications engine type singlecylinder 4stroke liquidcooled dohc displacement 373cc bore x stroke 89mm x 60mm compression ratio 1261 maximum horsepower 44 hp 9000 rpm maximum torque 37 nm 7000 rpm fuel system electronic fuel injection efi ridebywire cooling liquidcooled ignition digital electronic ignition valves dohc 4 valves per cylinder weight 36 kg engine fuel tank capacity 134l including reserve transmission 6speed gearbox optional quickshifter exhaust system slipon exhaust performance ktm 390 duke engine tuned impressive performance offering exciting ride beginner experienced riders lightweight design coupled powerful engine makes ideal quick acceleration efficient fuel consumption easy handling urban environments acceleration power output 44 horsepower 37 nm torque 390 duke accelerates rapidly going 060 mph 38 seconds singlecylinder engine delivers linear power across rev range ensuring responsive throttle input whether youre riding city streets open highways top speed ktm 390 duke reach top speed 170 kmh 105 mph providing ample power highway riding weekend track days smooth power delivery combined welltuned suspension system ensures stability even higher speeds fuel efficiency thanks fuelinjection system efficient engine design 390 duke delivers excellent fuel efficiency averaging 2832 kml 6675 mpg normal riding conditions makes economical choice daily commuting without sacrificing performance handling agility lightweight construction engine bikes overall design makes 390 duke exceptionally agile trellis frame combined powerful engine allows precise handling making joy navigate tight corners weave traffic enjoy spirited ride twisty roads braking equipped brembo brakes 390 duke offers strong braking performance providing excellent stopping power 320mm front disc 230mm rear disc',\n",
              "  'construction engine bikes overall design makes 390 duke exceptionally agile trellis frame combined powerful engine allows precise handling making joy navigate tight corners weave traffic enjoy spirited ride twisty roads braking equipped brembo brakes 390 duke offers strong braking performance providing excellent stopping power 320mm front disc 230mm rear disc braking system complemented abs ensuring better safety control especially emergency braking situations suspension wp apex suspension system featuring 43mm usd front forks monoshock rear ensures superior comfort handling absorbing bumps uneven surfaces ease makes 390 duke excellent choice riders looking versatile machine handle different road conditions riding styles'],\n",
              " 'BOSCH 0607595100 - Compressed Air Foam Cutter up to 300 mm, 3800 Strokes_Min.txt': ['bosch 0607595100 compressed air foam cutter 300 mm 3800 strokesmin description bosch 0607595100 highperformance compressed air foam cutter designed precise efficient cutting foam materials professional environments ergonomic design powerful airdriven motor tool offers maximum cutting efficiency durability commercial industrial uses lightweight compact nature make easy handle robust construction ensures longlasting performance even demanding conditions 3800 strokesmin cutting speed provides smooth rapid foam cutting making ideal variety applications including upholstery insulation packaging ficha técnica product name compressed air foam cutter model bosch 0607595100 max cutting length 300 mm strokes per minute 3800 strokesmin cutting speed highspeed airdriven motor smooth quick cuts power source compressed air pneumatic air consumption approx 200 lmin 6 bar weight 14 kg approx dimensions 450 mm x 150 mm x 110 mm l x w x h application cutting foam upholstery materials insulation materials ergonomics lightweight balanced design comfortable use features high cutting speed efficiency ideal industrial commercial applications low vibration design reduced user fatigue'],\n",
              " 'STANLEY SFMCS650B-XJ - 18V 4.0 Ah Brushless Jigsaw (Without Batteries and Charger).txt': ['stanley sfmcs650bxj 18v 40 ah brushless jigsaw without batteries charger description stanley sfmcs650bxj powerful 18v brushless jigsaw designed deliver precision control cutting wide range materials including wood metal plastic tool features 40 ah battery capacity longer runtimes making perfect prolonged use construction sites workshops brushless motor jigsaw provides increased power efficiency durability toolfree blade change system ensures quick easy blade replacement adjustable pendulum action allows fast cuts fine intricate cutting tasks model not come batteries charger compatible stanleys existing battery system added flexibility ficha técnica product name 18v brushless jigsaw without batteries charger model stanley sfmcs650bxj voltage 18v battery capacity 40 ah batteries sold separately motor type brushless speed variable speed 2800 strokes per minute cutting depth wood 135 mm steel 10 mm aluminum 20 mm pendulum action 4 stages different cutting styles blade type tshank toolfree blade change bevel adjustment 0 45 angled cuts weight 24 kg dimensions 250 mm x 70 mm x 210 mm l x w x h features brushless motor improved runtime longer motor life toolfree blade change system ergonomic design comfortable use dust blower improved visibility cutting line compatible stanley 18v battery system'],\n",
              " \"Gabriele D'Annunzio_ The Influence of a Fictional Poet on Modern Literature.txt\": ['gabriele dannunzio influence fictional poet modern literature gabriele dannunzio often regarded one celebrated controversial figures italian literature made indelible mark literary cultural landscapes late 19th early 20th centuries profound influence modern poetry literature culture can not overstated work transcended boundaries written word encapsulate broader vision artistic political engagement persona politics often stirred debate literary contributions modernism symbolism aestheticism remain defining aspect legacy modern poetry aestheticism dannunzios impact modern poetry lies ability blend lush sensuous language refined aesthetic sensibility poetry notably featured collections il poema paradisiaco la chimera renowned exploration decadence beauty inner turmoil human condition dannunzios lyricism deeply inspired symbolism movement emphasized subjective experience reality symbolism nature search deeper meanings beyond literal poets emphasis visual imagery emotional intensity greatly influenced future generations poets sought break free traditional forms narrative verse modernist movement particular owes much dannunzios experimentation language poets like guido gozzano eugenio montale part italian literary modernism wave drew inspiration dannunzios capacity marry emotion aesthetic precision work set stage fragmentation ambiguity characterized much 20thcentury poetry making precursor figures like ts eliot ezra pound explored themes alienation disillusionment search transcendence literary renaissance fascist symbolism dannunzios role literature went beyond poetic innovation also key figure italian literary renaissance particularly context role cultural critic public intellectual influence development modernist literature not purely theoretical also practical writings became essential part cultural movement sought revive italys imperial grandeur artistic prominence moreover impact literature extended political sphere especially role promoting nationalist ideas ideals war heroism dannunzios blend poetic artistry political ideology found curious parallel works fascist intellectual movement looked cultural leader model virility heroism nationalism la trionfale highly patriotic controversial text glorified military exploits notion artist leadera theme would later coopted fascist regime connection fascist aesthetics marked complicated period dannunzios legacy political affiliations casting shadow literary contributions',\n",
              "  'poetic artistry political ideology found curious parallel works fascist intellectual movement looked cultural leader model virility heroism nationalism la trionfale highly patriotic controversial text glorified military exploits notion artist leadera theme would later coopted fascist regime connection fascist aesthetics marked complicated period dannunzios legacy political affiliations casting shadow literary contributions nonetheless ability intertwine art national identity set dannunzio apart literary figures time work seen precursor later fascist symbolism would pervade not italian literature also european political thought plays poetry speeches dannunzio became symbol merging aesthetic political illustrating literature reflect influence broader societal changes cultural influence dannunzio cultural icon dannunzios cultural impact farreaching not literature across multiple forms artistic expression including theatre opera visual arts ability craft dramatic almost mythic personas led central figure italian theatre plays la gioconda elevated emotional intensity modern theatre encouraged exploration heightened often tragic narratives realm italian cinema work served rich source inspiration directors seeking explore intersection national identity individual psychology vivid imagery poetry prose found visual counterpart works filmmakers like federico fellini luchino visconti whose films often portrayed decadent themes beauty loss power moreover dannunzios personal lifethe lavish indulgence sensuality political escapades devotion physical fitnessturned cultural icon much like bohemian figures time persona superman italian intellectuals coupled role war hero political figure placed center cultural movement sought redefine meant artist man action commitment ideals vita virile virile life term coined celebrate life physical prowess artistic excellence heroic ideals resonated deeply cultural currents early 20th century concept poet superman blending art politics personal heroism inspired later figures arts political spheres including filippo tommaso marinetti founder futurism legacy contemporary literature contemporary literature influence gabriele dannunzio still traced works modern poets writers blend aesthetics broader cultural narratives writers like antonio tabucchi roberto saviano incorporate lyrical storytelling political critique continue engage dual legacy dannunziothe poet beauty poet politics',\n",
              "  'later figures arts political spheres including filippo tommaso marinetti founder futurism legacy contemporary literature contemporary literature influence gabriele dannunzio still traced works modern poets writers blend aesthetics broader cultural narratives writers like antonio tabucchi roberto saviano incorporate lyrical storytelling political critique continue engage dual legacy dannunziothe poet beauty poet politics moreover exploration personal identity relation national identity hallmark dannunzios work remains significant theme literature today complex blending art politics personal mythmaking historical narrative remains relevant way contemporary authors negotiate tensions individual expression collective cultural memory'],\n",
              " 'Ducati Panigale V4 Engine.txt': ['ducati panigale v4 engine ducati panigale v4 masterpiece engineering delivering unparalleled riding experience cuttingedge v4 engine offers exceptional performance thrilling auditory experience designed track enthusiasts street riders alike panigale v4 combines robust highperformance engine iconic ducati styling setting new benchmark world superbikes features v4 engine configuration panigale v4 boasts 90 v4 engine direct descendent ducatis motogp engine providing massive power torque 1103cc engine symphony performance design producing incredible acceleration smooth power delivery unmatched topend performance desmosedici stradale engine heart panigale v4 desmosedici stradale engine takes inspiration ducatis motogp success engine incorporates advanced technologies including desmodromic valve system eliminates traditional springs resulting precise control valve timing high engine speeds electronic fuel injection efi panigale v4s fuel injection system provides optimal fuel delivery ensuring efficient combustion enhancing power output fuel efficiency systems adaptability ensures smooth throttle response riding conditions city traffic racetrack performance riding modes ducati power launch dpl ducati panigale v4 comes three riding modes sport race street tailored power delivery electronic aids suit different riding styles ducati power launch feature optimizes acceleration ensuring perfect start racing conditions variable valve timing vvt v4 engine equipped ducatis innovative variable valve timing system adjusts intake exhaust valve timings depending engines rpm technology provides smooth power delivery low rpms incredible highend performance revs climb exhaust sound design signature feature ducati panigale v4 exhilarating exhaust sound engine uses highperformance exhaust system developed offer distinctive ducati roar ensuring every twist throttle accompanied unmistakable growl lightweight construction panigale v4s engine crafted focus weight reduction utilizing magnesium titanium components keep lightweight maintaining durability contributes higher powertoweight ratio enhancing bikes agility handling',\n",
              "  'signature feature ducati panigale v4 exhilarating exhaust sound engine uses highperformance exhaust system developed offer distinctive ducati roar ensuring every twist throttle accompanied unmistakable growl lightweight construction panigale v4s engine crafted focus weight reduction utilizing magnesium titanium components keep lightweight maintaining durability contributes higher powertoweight ratio enhancing bikes agility handling specifications engine type 90 v4 liquidcooled displacement 1103cc bore x stroke 81mm x 535mm compression ratio 141 horsepower 214 hp 13000 rpm torque 124 nm 10000 rpm fuel system electronic fuel injection efi ridebywire cooling liquidcooled ignition electronic ignition integrated ecu valves desmodromic valve timing 4 valves per cylinder weight 64 kg engine fuel tank capacity 16l including reserve transmission 6speed ducati quick shift dqs updown exhaust system full titanium exhaust system optional performance ducati panigale v4 engine engineered extreme performance making one powerful responsive engines superbike category advanced v4 configuration highrevving capabilities deliver thrilling performance track street acceleration ducati panigale v4 accelerates 060 mph 28 seconds thanks 214 horsepower 124 nm torque aggressive power delivery perfectly complemented ducatis ducati quick shift system allowing seamless upshifts full throttle top speed top speed 190 mph panigale v4 built dominate track highway aerodynamic design highrevving engine provide stability control extreme speeds ensuring thrilling safe ride handling lightweight construction engine combined finelytuned suspension system allows panigale v4 offer unmatched agility quick steering precise feedback chassis make ideal tight corners highspeed straights ensuring exceptional handling experience cornering braking chassis incorporates ducatis signature monocoque frame braking brembo panigale v4 handles corners ease precision powerful dual front disc brakes provide excellent stopping power allowing riders push limits confidence fuel efficiency despite performance capabilities panigale v4 offers reasonable fuel economy class averaging 4045 mpg built performance also capable longerdistance touring without constant refueling sound feel engines sound iconic deep growl exhaust reflecting racing heritage',\n",
              "  'precision powerful dual front disc brakes provide excellent stopping power allowing riders push limits confidence fuel efficiency despite performance capabilities panigale v4 offers reasonable fuel economy class averaging 4045 mpg built performance also capable longerdistance touring without constant refueling sound feel engines sound iconic deep growl exhaust reflecting racing heritage mechanical harmony highrevving v4 engine ducatis refined transmission system offers visceral experience thrilling intoxicating'],\n",
              " 'STANLEY SFMCS650B-XJ - 18V 4.0 Ah Brushless Jigsaw (Without Batteries and Charger) (1).txt': ['beta c45pro ms fixed service module workshop equipment combination c45pro description beta c45pro ms fixed service module designed c45pro workshop equipment combination service module ideal professional workshops requiring versatile efficient tool organization storage solution c45pro ms features solid modular structure allowing easily integrated various workshop environments designed hold range workshop tools equipment ensuring quick access maximizing workspace efficiency modules construction uses highquality materials ensure durability strength making suitable demanding workshop conditions ficha técnica product name fixed service module model beta c45pro ms compatibility designed integration beta c45pro combination dimensions 1200 mm x 550 mm x 900 mm l x w x h material steel construction powdercoated finish durability weight 70 kg approx storage capacity multiple compartments drawers tool organization drawer capacity 30 kg per drawer structure modular system easy integration beta equipment features sturdy durable steel frame powdercoated surface corrosion resistance highcapacity storage drawers secure locking mechanisms provides optimal workspace organization easy mobility heavyduty casters optional'],\n",
              " 'Biography of a Fictional Poet - William Shakespeare.txt': ['biography fictional poet william shakespeare william shakespeare often hailed greatest poet playwright english language born stratforduponavon 1564 exact date birth remains uncertain traditionally celebrated april 23 day passed away 1616 shakespeares life work transcended time geography making towering figure world literature though much personal life shrouded mystery poetic theatrical contributions left indelible mark english literature arts early life inspirations shakespeares early life deeply influenced cultural intellectual climate elizabethan england era renaissance flourishing growing town not far london shakespeare exposed range literary artistic influences father john shakespeare respected glove maker local official mother mary arden came wellestablished family believed young william received solid education stratford grammar school studied latin classics introduced works great poets playwrights antiquity including ovid virgil homer shakespeares first major influence likely bustling theatrical scene london late 1580s left stratford found place citys burgeoning theater scene exposure works contemporary playwrights christopher marlowe ben jonson university wits gave foundation drama poetic forms would later shape work career literary achievements shakespeares career began earnest joined lord chamberlains men prominent acting company around 1594 works soon performed stages london capturing attention public aristocratic audiences next two decades shakespeare wrote 39 plays 154 sonnets numerous poems covering broad range genres including tragedy comedy history tragedies human condition shakespeares tragedies hamlet macbeth othello king lear explore deepest aspects human conditionambition guilt revenge madness plays shakespeare examined complexities human soul often portraying noble characters brought low flaws external forces tragic heros journey toward selfawareness destruction theme resonates across time characters like hamlet indecisive prince macbeth ambitious king continuing inspire readers actors alike comedies joy life contrast tragedies shakespeares comedies midsummer nights dream much ado nothing twelfth night provide lighthearted exploration human relationships often focusing love identity mistaken identities',\n",
              "  'forces tragic heros journey toward selfawareness destruction theme resonates across time characters like hamlet indecisive prince macbeth ambitious king continuing inspire readers actors alike comedies joy life contrast tragedies shakespeares comedies midsummer nights dream much ado nothing twelfth night provide lighthearted exploration human relationships often focusing love identity mistaken identities plays rich wit clever wordplay showcase shakespeares exceptional ability blend humor profound social commentary often satirizing social conventions presenting idealized world love conquers history plays national identity shakespeares history playsincluding richard iii henry v henry ivrely historical events figures examine themes power leadership national identity works shakespeare not contributed popularization english history also shaped national consciousness england reign queen elizabeth later king james sonnets eternal poet addition plays shakespeare also renowned sonnets collection 154 poems explore themes love time beauty mortality written iambic pentameter following shakespearean sonnet form 14 lines distinct rhyme scheme sonnets provide deeply personal reflection human emotion shakespeares sonnets timeless ability speak universal experienceswhether pain unrequited love joy friendship inevitability aging one famous lines shall compare thee summers day sonnet 18 continues resonate readers become symbol shakespeares enduring legacy legacy influence shakespeares work never ceased relevant plays continue performed theaters across world adapted films reinterpreted various forms influence seen works writers like charles dickens james joyce ts eliot admired ability explore depths human experience beyond literature shakespeares impact extends philosophy psychology even politics exploration power ambition complexities human soul continues provide valuable insights enduring legacy poet playwright lies not universal themes works also mastery language ability evoke empathy unique insight human experience enduring poet william shakespeare died april 23 1616 leaving behind body work continues captivate audiences scholars artists around world death marked end era poets influence lives every corner world',\n",
              "  'valuable insights enduring legacy poet playwright lies not universal themes works also mastery language ability evoke empathy unique insight human experience enduring poet william shakespeare died april 23 1616 leaving behind body work continues captivate audiences scholars artists around world death marked end era poets influence lives every corner world man stratford vivid imagination masterful command english language remains monumental figure whose works read performed loved centuries come']}"
            ]
          },
          "metadata": {},
          "execution_count": 23
        }
      ]
    },
    {
      "cell_type": "code",
      "source": [
        "import json\n",
        "\n",
        "# Save the result to a JSON file\n",
        "output_file = \"chunked_data.json\"  # Replace with your desired output file name\n",
        "save_to_json(chunked_data, output_file)\n",
        "\n",
        "print(f\"Chunked data saved to {output_file}\")"
      ],
      "metadata": {
        "colab": {
          "base_uri": "https://localhost:8080/"
        },
        "id": "UzpZhdOedWzx",
        "outputId": "f0eff05c-b857-43cb-89c7-a174d63452e3"
      },
      "execution_count": 24,
      "outputs": [
        {
          "output_type": "stream",
          "name": "stdout",
          "text": [
            "Chunked data saved to chunked_data.json\n"
          ]
        }
      ]
    },
    {
      "cell_type": "code",
      "source": [
        "import json\n",
        "\n",
        "with open('chunked_data.json', 'r') as f:\n",
        "    data = json.load(f)\n",
        "    print(json.dumps(data, indent=4))"
      ],
      "metadata": {
        "colab": {
          "base_uri": "https://localhost:8080/"
        },
        "id": "v1acG9YYeaw4",
        "outputId": "c0f74750-3710-407e-bd23-eb145d9ca6c3"
      },
      "execution_count": 25,
      "outputs": [
        {
          "output_type": "stream",
          "name": "stdout",
          "text": [
            "{\n",
            "    \"KTM 390 Duke Engine.txt\": [\n",
            "        \"ktm 390 duke engine ktm 390 duke highperformance naked bike designed urban commuting thrilling weekend rides powered cuttingedge engine 390 duke delivers perfect blend power agility efficiency motorcycle built riders crave adrenaline maintaining versatility everyday use heart 390 duke compact yet powerful 373cc engine engineered offer exhilarating experience streets making one top contenders entrylevel performance motorcycle market features singlecylinder liquidcooled engine 390 dukes engine 373cc singlecylinder powerhouse liquidcooled providing optimal temperature regulation even highspeed runs liquidcooling system ensures engine performs best even demanding riding conditions preventing overheating maintaining efficiency fuel injection ridebywire technology electronic fuel injection efi system offers precise control fuelair mixture efficient combustion improved fuel economy ridebywire throttle technology ensures smoother throttle response enhanced riding precision whether youre cruising low speeds gunning open road dohc valve train dual overhead cam dohc design allows precise control engines intake exhaust valves optimizing power delivery across wide rpm range results better acceleration higher power output greater engine efficiency 6speed gearbox quickshifter 390 duke equipped 6speed constant mesh gearbox provides smooth quick shifts ability extract maximum performance engine better handling gear shifts bike features optional quickshifter allowing riders upshift without using clutch fluid riding experience lightweight compact design ktms focus lightweight construction extends engine designed minimize weight maintaining durability lightweight engine contributes overall weight reduction bike improving handling braking fuel efficiency key factor bikes agility tight corners city traffic exhaust system 390 duke uses slipon exhaust system enhances engine performance producing deep throaty exhaust note design exhaust not reduces weight also contributes bikes overall aerodynamic profile improving speed stability\",\n",
            "        \"lightweight engine contributes overall weight reduction bike improving handling braking fuel efficiency key factor bikes agility tight corners city traffic exhaust system 390 duke uses slipon exhaust system enhances engine performance producing deep throaty exhaust note design exhaust not reduces weight also contributes bikes overall aerodynamic profile improving speed stability specifications engine type singlecylinder 4stroke liquidcooled dohc displacement 373cc bore x stroke 89mm x 60mm compression ratio 1261 maximum horsepower 44 hp 9000 rpm maximum torque 37 nm 7000 rpm fuel system electronic fuel injection efi ridebywire cooling liquidcooled ignition digital electronic ignition valves dohc 4 valves per cylinder weight 36 kg engine fuel tank capacity 134l including reserve transmission 6speed gearbox optional quickshifter exhaust system slipon exhaust performance ktm 390 duke engine tuned impressive performance offering exciting ride beginner experienced riders lightweight design coupled powerful engine makes ideal quick acceleration efficient fuel consumption easy handling urban environments acceleration power output 44 horsepower 37 nm torque 390 duke accelerates rapidly going 060 mph 38 seconds singlecylinder engine delivers linear power across rev range ensuring responsive throttle input whether youre riding city streets open highways top speed ktm 390 duke reach top speed 170 kmh 105 mph providing ample power highway riding weekend track days smooth power delivery combined welltuned suspension system ensures stability even higher speeds fuel efficiency thanks fuelinjection system efficient engine design 390 duke delivers excellent fuel efficiency averaging 2832 kml 6675 mpg normal riding conditions makes economical choice daily commuting without sacrificing performance handling agility lightweight construction engine bikes overall design makes 390 duke exceptionally agile trellis frame combined powerful engine allows precise handling making joy navigate tight corners weave traffic enjoy spirited ride twisty roads braking equipped brembo brakes 390 duke offers strong braking performance providing excellent stopping power 320mm front disc 230mm rear disc\",\n",
            "        \"construction engine bikes overall design makes 390 duke exceptionally agile trellis frame combined powerful engine allows precise handling making joy navigate tight corners weave traffic enjoy spirited ride twisty roads braking equipped brembo brakes 390 duke offers strong braking performance providing excellent stopping power 320mm front disc 230mm rear disc braking system complemented abs ensuring better safety control especially emergency braking situations suspension wp apex suspension system featuring 43mm usd front forks monoshock rear ensures superior comfort handling absorbing bumps uneven surfaces ease makes 390 duke excellent choice riders looking versatile machine handle different road conditions riding styles\"\n",
            "    ],\n",
            "    \"BOSCH 0607595100 - Compressed Air Foam Cutter up to 300 mm, 3800 Strokes_Min.txt\": [\n",
            "        \"bosch 0607595100 compressed air foam cutter 300 mm 3800 strokesmin description bosch 0607595100 highperformance compressed air foam cutter designed precise efficient cutting foam materials professional environments ergonomic design powerful airdriven motor tool offers maximum cutting efficiency durability commercial industrial uses lightweight compact nature make easy handle robust construction ensures longlasting performance even demanding conditions 3800 strokesmin cutting speed provides smooth rapid foam cutting making ideal variety applications including upholstery insulation packaging ficha t\\u00e9cnica product name compressed air foam cutter model bosch 0607595100 max cutting length 300 mm strokes per minute 3800 strokesmin cutting speed highspeed airdriven motor smooth quick cuts power source compressed air pneumatic air consumption approx 200 lmin 6 bar weight 14 kg approx dimensions 450 mm x 150 mm x 110 mm l x w x h application cutting foam upholstery materials insulation materials ergonomics lightweight balanced design comfortable use features high cutting speed efficiency ideal industrial commercial applications low vibration design reduced user fatigue\"\n",
            "    ],\n",
            "    \"STANLEY SFMCS650B-XJ - 18V 4.0 Ah Brushless Jigsaw (Without Batteries and Charger).txt\": [\n",
            "        \"stanley sfmcs650bxj 18v 40 ah brushless jigsaw without batteries charger description stanley sfmcs650bxj powerful 18v brushless jigsaw designed deliver precision control cutting wide range materials including wood metal plastic tool features 40 ah battery capacity longer runtimes making perfect prolonged use construction sites workshops brushless motor jigsaw provides increased power efficiency durability toolfree blade change system ensures quick easy blade replacement adjustable pendulum action allows fast cuts fine intricate cutting tasks model not come batteries charger compatible stanleys existing battery system added flexibility ficha t\\u00e9cnica product name 18v brushless jigsaw without batteries charger model stanley sfmcs650bxj voltage 18v battery capacity 40 ah batteries sold separately motor type brushless speed variable speed 2800 strokes per minute cutting depth wood 135 mm steel 10 mm aluminum 20 mm pendulum action 4 stages different cutting styles blade type tshank toolfree blade change bevel adjustment 0 45 angled cuts weight 24 kg dimensions 250 mm x 70 mm x 210 mm l x w x h features brushless motor improved runtime longer motor life toolfree blade change system ergonomic design comfortable use dust blower improved visibility cutting line compatible stanley 18v battery system\"\n",
            "    ],\n",
            "    \"Gabriele D'Annunzio_ The Influence of a Fictional Poet on Modern Literature.txt\": [\n",
            "        \"gabriele dannunzio influence fictional poet modern literature gabriele dannunzio often regarded one celebrated controversial figures italian literature made indelible mark literary cultural landscapes late 19th early 20th centuries profound influence modern poetry literature culture can not overstated work transcended boundaries written word encapsulate broader vision artistic political engagement persona politics often stirred debate literary contributions modernism symbolism aestheticism remain defining aspect legacy modern poetry aestheticism dannunzios impact modern poetry lies ability blend lush sensuous language refined aesthetic sensibility poetry notably featured collections il poema paradisiaco la chimera renowned exploration decadence beauty inner turmoil human condition dannunzios lyricism deeply inspired symbolism movement emphasized subjective experience reality symbolism nature search deeper meanings beyond literal poets emphasis visual imagery emotional intensity greatly influenced future generations poets sought break free traditional forms narrative verse modernist movement particular owes much dannunzios experimentation language poets like guido gozzano eugenio montale part italian literary modernism wave drew inspiration dannunzios capacity marry emotion aesthetic precision work set stage fragmentation ambiguity characterized much 20thcentury poetry making precursor figures like ts eliot ezra pound explored themes alienation disillusionment search transcendence literary renaissance fascist symbolism dannunzios role literature went beyond poetic innovation also key figure italian literary renaissance particularly context role cultural critic public intellectual influence development modernist literature not purely theoretical also practical writings became essential part cultural movement sought revive italys imperial grandeur artistic prominence moreover impact literature extended political sphere especially role promoting nationalist ideas ideals war heroism dannunzios blend poetic artistry political ideology found curious parallel works fascist intellectual movement looked cultural leader model virility heroism nationalism la trionfale highly patriotic controversial text glorified military exploits notion artist leadera theme would later coopted fascist regime connection fascist aesthetics marked complicated period dannunzios legacy political affiliations casting shadow literary contributions\",\n",
            "        \"poetic artistry political ideology found curious parallel works fascist intellectual movement looked cultural leader model virility heroism nationalism la trionfale highly patriotic controversial text glorified military exploits notion artist leadera theme would later coopted fascist regime connection fascist aesthetics marked complicated period dannunzios legacy political affiliations casting shadow literary contributions nonetheless ability intertwine art national identity set dannunzio apart literary figures time work seen precursor later fascist symbolism would pervade not italian literature also european political thought plays poetry speeches dannunzio became symbol merging aesthetic political illustrating literature reflect influence broader societal changes cultural influence dannunzio cultural icon dannunzios cultural impact farreaching not literature across multiple forms artistic expression including theatre opera visual arts ability craft dramatic almost mythic personas led central figure italian theatre plays la gioconda elevated emotional intensity modern theatre encouraged exploration heightened often tragic narratives realm italian cinema work served rich source inspiration directors seeking explore intersection national identity individual psychology vivid imagery poetry prose found visual counterpart works filmmakers like federico fellini luchino visconti whose films often portrayed decadent themes beauty loss power moreover dannunzios personal lifethe lavish indulgence sensuality political escapades devotion physical fitnessturned cultural icon much like bohemian figures time persona superman italian intellectuals coupled role war hero political figure placed center cultural movement sought redefine meant artist man action commitment ideals vita virile virile life term coined celebrate life physical prowess artistic excellence heroic ideals resonated deeply cultural currents early 20th century concept poet superman blending art politics personal heroism inspired later figures arts political spheres including filippo tommaso marinetti founder futurism legacy contemporary literature contemporary literature influence gabriele dannunzio still traced works modern poets writers blend aesthetics broader cultural narratives writers like antonio tabucchi roberto saviano incorporate lyrical storytelling political critique continue engage dual legacy dannunziothe poet beauty poet politics\",\n",
            "        \"later figures arts political spheres including filippo tommaso marinetti founder futurism legacy contemporary literature contemporary literature influence gabriele dannunzio still traced works modern poets writers blend aesthetics broader cultural narratives writers like antonio tabucchi roberto saviano incorporate lyrical storytelling political critique continue engage dual legacy dannunziothe poet beauty poet politics moreover exploration personal identity relation national identity hallmark dannunzios work remains significant theme literature today complex blending art politics personal mythmaking historical narrative remains relevant way contemporary authors negotiate tensions individual expression collective cultural memory\"\n",
            "    ],\n",
            "    \"Ducati Panigale V4 Engine.txt\": [\n",
            "        \"ducati panigale v4 engine ducati panigale v4 masterpiece engineering delivering unparalleled riding experience cuttingedge v4 engine offers exceptional performance thrilling auditory experience designed track enthusiasts street riders alike panigale v4 combines robust highperformance engine iconic ducati styling setting new benchmark world superbikes features v4 engine configuration panigale v4 boasts 90 v4 engine direct descendent ducatis motogp engine providing massive power torque 1103cc engine symphony performance design producing incredible acceleration smooth power delivery unmatched topend performance desmosedici stradale engine heart panigale v4 desmosedici stradale engine takes inspiration ducatis motogp success engine incorporates advanced technologies including desmodromic valve system eliminates traditional springs resulting precise control valve timing high engine speeds electronic fuel injection efi panigale v4s fuel injection system provides optimal fuel delivery ensuring efficient combustion enhancing power output fuel efficiency systems adaptability ensures smooth throttle response riding conditions city traffic racetrack performance riding modes ducati power launch dpl ducati panigale v4 comes three riding modes sport race street tailored power delivery electronic aids suit different riding styles ducati power launch feature optimizes acceleration ensuring perfect start racing conditions variable valve timing vvt v4 engine equipped ducatis innovative variable valve timing system adjusts intake exhaust valve timings depending engines rpm technology provides smooth power delivery low rpms incredible highend performance revs climb exhaust sound design signature feature ducati panigale v4 exhilarating exhaust sound engine uses highperformance exhaust system developed offer distinctive ducati roar ensuring every twist throttle accompanied unmistakable growl lightweight construction panigale v4s engine crafted focus weight reduction utilizing magnesium titanium components keep lightweight maintaining durability contributes higher powertoweight ratio enhancing bikes agility handling\",\n",
            "        \"signature feature ducati panigale v4 exhilarating exhaust sound engine uses highperformance exhaust system developed offer distinctive ducati roar ensuring every twist throttle accompanied unmistakable growl lightweight construction panigale v4s engine crafted focus weight reduction utilizing magnesium titanium components keep lightweight maintaining durability contributes higher powertoweight ratio enhancing bikes agility handling specifications engine type 90 v4 liquidcooled displacement 1103cc bore x stroke 81mm x 535mm compression ratio 141 horsepower 214 hp 13000 rpm torque 124 nm 10000 rpm fuel system electronic fuel injection efi ridebywire cooling liquidcooled ignition electronic ignition integrated ecu valves desmodromic valve timing 4 valves per cylinder weight 64 kg engine fuel tank capacity 16l including reserve transmission 6speed ducati quick shift dqs updown exhaust system full titanium exhaust system optional performance ducati panigale v4 engine engineered extreme performance making one powerful responsive engines superbike category advanced v4 configuration highrevving capabilities deliver thrilling performance track street acceleration ducati panigale v4 accelerates 060 mph 28 seconds thanks 214 horsepower 124 nm torque aggressive power delivery perfectly complemented ducatis ducati quick shift system allowing seamless upshifts full throttle top speed top speed 190 mph panigale v4 built dominate track highway aerodynamic design highrevving engine provide stability control extreme speeds ensuring thrilling safe ride handling lightweight construction engine combined finelytuned suspension system allows panigale v4 offer unmatched agility quick steering precise feedback chassis make ideal tight corners highspeed straights ensuring exceptional handling experience cornering braking chassis incorporates ducatis signature monocoque frame braking brembo panigale v4 handles corners ease precision powerful dual front disc brakes provide excellent stopping power allowing riders push limits confidence fuel efficiency despite performance capabilities panigale v4 offers reasonable fuel economy class averaging 4045 mpg built performance also capable longerdistance touring without constant refueling sound feel engines sound iconic deep growl exhaust reflecting racing heritage\",\n",
            "        \"precision powerful dual front disc brakes provide excellent stopping power allowing riders push limits confidence fuel efficiency despite performance capabilities panigale v4 offers reasonable fuel economy class averaging 4045 mpg built performance also capable longerdistance touring without constant refueling sound feel engines sound iconic deep growl exhaust reflecting racing heritage mechanical harmony highrevving v4 engine ducatis refined transmission system offers visceral experience thrilling intoxicating\"\n",
            "    ],\n",
            "    \"STANLEY SFMCS650B-XJ - 18V 4.0 Ah Brushless Jigsaw (Without Batteries and Charger) (1).txt\": [\n",
            "        \"beta c45pro ms fixed service module workshop equipment combination c45pro description beta c45pro ms fixed service module designed c45pro workshop equipment combination service module ideal professional workshops requiring versatile efficient tool organization storage solution c45pro ms features solid modular structure allowing easily integrated various workshop environments designed hold range workshop tools equipment ensuring quick access maximizing workspace efficiency modules construction uses highquality materials ensure durability strength making suitable demanding workshop conditions ficha t\\u00e9cnica product name fixed service module model beta c45pro ms compatibility designed integration beta c45pro combination dimensions 1200 mm x 550 mm x 900 mm l x w x h material steel construction powdercoated finish durability weight 70 kg approx storage capacity multiple compartments drawers tool organization drawer capacity 30 kg per drawer structure modular system easy integration beta equipment features sturdy durable steel frame powdercoated surface corrosion resistance highcapacity storage drawers secure locking mechanisms provides optimal workspace organization easy mobility heavyduty casters optional\"\n",
            "    ],\n",
            "    \"Biography of a Fictional Poet - William Shakespeare.txt\": [\n",
            "        \"biography fictional poet william shakespeare william shakespeare often hailed greatest poet playwright english language born stratforduponavon 1564 exact date birth remains uncertain traditionally celebrated april 23 day passed away 1616 shakespeares life work transcended time geography making towering figure world literature though much personal life shrouded mystery poetic theatrical contributions left indelible mark english literature arts early life inspirations shakespeares early life deeply influenced cultural intellectual climate elizabethan england era renaissance flourishing growing town not far london shakespeare exposed range literary artistic influences father john shakespeare respected glove maker local official mother mary arden came wellestablished family believed young william received solid education stratford grammar school studied latin classics introduced works great poets playwrights antiquity including ovid virgil homer shakespeares first major influence likely bustling theatrical scene london late 1580s left stratford found place citys burgeoning theater scene exposure works contemporary playwrights christopher marlowe ben jonson university wits gave foundation drama poetic forms would later shape work career literary achievements shakespeares career began earnest joined lord chamberlains men prominent acting company around 1594 works soon performed stages london capturing attention public aristocratic audiences next two decades shakespeare wrote 39 plays 154 sonnets numerous poems covering broad range genres including tragedy comedy history tragedies human condition shakespeares tragedies hamlet macbeth othello king lear explore deepest aspects human conditionambition guilt revenge madness plays shakespeare examined complexities human soul often portraying noble characters brought low flaws external forces tragic heros journey toward selfawareness destruction theme resonates across time characters like hamlet indecisive prince macbeth ambitious king continuing inspire readers actors alike comedies joy life contrast tragedies shakespeares comedies midsummer nights dream much ado nothing twelfth night provide lighthearted exploration human relationships often focusing love identity mistaken identities\",\n",
            "        \"forces tragic heros journey toward selfawareness destruction theme resonates across time characters like hamlet indecisive prince macbeth ambitious king continuing inspire readers actors alike comedies joy life contrast tragedies shakespeares comedies midsummer nights dream much ado nothing twelfth night provide lighthearted exploration human relationships often focusing love identity mistaken identities plays rich wit clever wordplay showcase shakespeares exceptional ability blend humor profound social commentary often satirizing social conventions presenting idealized world love conquers history plays national identity shakespeares history playsincluding richard iii henry v henry ivrely historical events figures examine themes power leadership national identity works shakespeare not contributed popularization english history also shaped national consciousness england reign queen elizabeth later king james sonnets eternal poet addition plays shakespeare also renowned sonnets collection 154 poems explore themes love time beauty mortality written iambic pentameter following shakespearean sonnet form 14 lines distinct rhyme scheme sonnets provide deeply personal reflection human emotion shakespeares sonnets timeless ability speak universal experienceswhether pain unrequited love joy friendship inevitability aging one famous lines shall compare thee summers day sonnet 18 continues resonate readers become symbol shakespeares enduring legacy legacy influence shakespeares work never ceased relevant plays continue performed theaters across world adapted films reinterpreted various forms influence seen works writers like charles dickens james joyce ts eliot admired ability explore depths human experience beyond literature shakespeares impact extends philosophy psychology even politics exploration power ambition complexities human soul continues provide valuable insights enduring legacy poet playwright lies not universal themes works also mastery language ability evoke empathy unique insight human experience enduring poet william shakespeare died april 23 1616 leaving behind body work continues captivate audiences scholars artists around world death marked end era poets influence lives every corner world\",\n",
            "        \"valuable insights enduring legacy poet playwright lies not universal themes works also mastery language ability evoke empathy unique insight human experience enduring poet william shakespeare died april 23 1616 leaving behind body work continues captivate audiences scholars artists around world death marked end era poets influence lives every corner world man stratford vivid imagination masterful command english language remains monumental figure whose works read performed loved centuries come\"\n",
            "    ]\n",
            "}\n"
          ]
        }
      ]
    },
    {
      "cell_type": "markdown",
      "source": [
        "# Task 3 : Embedding Creation ✅"
      ],
      "metadata": {
        "id": "qfKMfC2Al4aL"
      }
    },
    {
      "cell_type": "code",
      "source": [
        "from sentence_transformers import SentenceTransformer"
      ],
      "metadata": {
        "id": "L5JBoxUWdsRO"
      },
      "execution_count": 26,
      "outputs": []
    },
    {
      "cell_type": "code",
      "source": [
        "# Load pre-trained models\n",
        "model1 = SentenceTransformer('distilbert-base-nli-stsb-mean-tokens')\n",
        "model2 = SentenceTransformer('all-MiniLM-L6-v2')"
      ],
      "metadata": {
        "id": "JGFSHtXzeoUi"
      },
      "execution_count": 27,
      "outputs": []
    },
    {
      "cell_type": "code",
      "source": [
        "# Function to create embeddings\n",
        "def create_embeddings(model, chunked_data):\n",
        "    embeddings = []\n",
        "    for doc_name, chunks in chunked_data.items():\n",
        "        for idx, chunk in enumerate(chunks):\n",
        "            vector = model.encode(chunk)\n",
        "            embeddings.append({\n",
        "                'document': doc_name,\n",
        "                'chunk_index': idx,\n",
        "                'chunk_text': chunk,\n",
        "                'embedding': vector.tolist()  # Convert NumPy array to list for JSON compatibility\n",
        "            })\n",
        "    return embeddings"
      ],
      "metadata": {
        "id": "DBzQQnO1esjB"
      },
      "execution_count": 28,
      "outputs": []
    },
    {
      "cell_type": "code",
      "source": [
        "# Generate embeddings for both models\n",
        "embeddings_model1 = create_embeddings(model1, chunked_data)\n",
        "embeddings_model2 = create_embeddings(model2, chunked_data)"
      ],
      "metadata": {
        "id": "I2Es_90cew9O"
      },
      "execution_count": 29,
      "outputs": []
    },
    {
      "cell_type": "code",
      "source": [
        "# Save embeddings to JSON files\n",
        "output_file_model1 = \"embeddings_distilbert.json\"\n",
        "output_file_model2 = \"embeddings_minilm.json\""
      ],
      "metadata": {
        "id": "K3hnf0jxe0p8"
      },
      "execution_count": 30,
      "outputs": []
    },
    {
      "cell_type": "code",
      "source": [
        "with open(output_file_model1, 'w', encoding='utf-8') as f:\n",
        "    json.dump(embeddings_model1, f, indent=4)\n",
        "with open(output_file_model2, 'w', encoding='utf-8') as f:\n",
        "    json.dump(embeddings_model2, f, indent=4)\n",
        "\n",
        "print(f\"Embeddings saved to {output_file_model1} and {output_file_model2}\")"
      ],
      "metadata": {
        "colab": {
          "base_uri": "https://localhost:8080/"
        },
        "id": "Bk_7W-xle3gc",
        "outputId": "31c52528-dee4-4781-c559-2205c8354c9c"
      },
      "execution_count": 31,
      "outputs": [
        {
          "output_type": "stream",
          "name": "stdout",
          "text": [
            "Embeddings saved to embeddings_distilbert.json and embeddings_minilm.json\n"
          ]
        }
      ]
    },
    {
      "cell_type": "code",
      "source": [
        "### comparing\n",
        "\n",
        "print(\"Model Comparison:\")\n",
        "print(f\"DistilBERT embedding dimension: {len(embeddings_model1[0]['embedding'])}\")\n",
        "print(f\"MiniLM embedding dimension: {len(embeddings_model2[0]['embedding'])}\")\n",
        "print(f\"Number of chunks encoded DistilBERT: {len(embeddings_model1)}\")\n",
        "print(f\"Number of chunks encoded MiniLM: {len(embeddings_model2)}\")"
      ],
      "metadata": {
        "colab": {
          "base_uri": "https://localhost:8080/"
        },
        "id": "1H574Dlxe4gV",
        "outputId": "b6d5ebc5-cc63-4baa-fb4c-112cb8fd5f01"
      },
      "execution_count": 32,
      "outputs": [
        {
          "output_type": "stream",
          "name": "stdout",
          "text": [
            "Model Comparison:\n",
            "DistilBERT embedding dimension: 768\n",
            "MiniLM embedding dimension: 384\n",
            "Number of chunks encoded DistilBERT: 15\n",
            "Number of chunks encoded MiniLM: 15\n"
          ]
        }
      ]
    },
    {
      "cell_type": "markdown",
      "source": [
        "Insights:\n",
        "\n",
        "1. **DistilBERT** *(embedding dimension: 768)*: Higher-dimensional embeddings typically capture more nuanced semantic information. DistilBERT model can be beneficial for tasks requiring fine-grained understanding, such as semantic similarity or clustering with complex data. However, due to the large embeddings it will increase storage requirements and computation time for downstream tasks (e.g., similarity search or model training).\n",
        "\n",
        "2. **MiniLM** *(embedding dimension: 384)*: Lower-dimensional embeddings are more compact and computationally efficient.So, MiniLM maybe suitable for tasks where performance is acceptable with less detail (e.g., real-time search or large-scale document indexing). However, they might lose some subtleties in semantic representation compared to higher-dimensional embeddings like DistilBERT."
      ],
      "metadata": {
        "id": "cQjNNIFyfq56"
      }
    },
    {
      "cell_type": "markdown",
      "source": [
        "we can compare again based on the similarity search using cosine similarity for each models:"
      ],
      "metadata": {
        "id": "LsQimG_pgjU3"
      }
    },
    {
      "cell_type": "code",
      "source": [
        "from sklearn.metrics.pairwise import cosine_similarity\n",
        "\n",
        "def score_relevance(query, model, embeddings):\n",
        "    \"\"\"\n",
        "    Calculate relevance scores for a query against the embeddings.\n",
        "    Args:\n",
        "        query (str): The user query.\n",
        "        model: SentenceTransformer model used to encode the query.\n",
        "        embeddings (list): List of chunks with metadata and their embeddings.\n",
        "\n",
        "    Returns:\n",
        "        List of tuples: (chunk_text, document_name, similarity_score) sorted by relevance.\n",
        "    \"\"\"\n",
        "    # Encode the query\n",
        "    query_vector = model.encode(query)\n",
        "\n",
        "    # Calculate cosine similarity for each chunk\n",
        "    relevance_scores = []\n",
        "    for chunk in embeddings:\n",
        "        chunk_vector = np.array(chunk['embedding'])\n",
        "        similarity = cosine_similarity([query_vector], [chunk_vector])[0][0]\n",
        "        relevance_scores.append((chunk['chunk_text'], chunk['document'], similarity))\n",
        "\n",
        "    # Sort by relevance (highest score first)\n",
        "    relevance_scores = sorted(relevance_scores, key=lambda x: x[2], reverse=True)\n",
        "    return relevance_scores\n",
        "\n",
        "# Score relevance for DistilBERT\n",
        "relevance_distilbert = score_relevance(\n",
        "    query=\"Shakespeare in late 1580\",\n",
        "    model=model1,\n",
        "    embeddings=embeddings_model1\n",
        ")\n",
        "\n",
        "# Score relevance for MiniLM\n",
        "relevance_minilm = score_relevance(\n",
        "    query=\"Shakespeare in late 1580\",\n",
        "    model=model2,\n",
        "    embeddings=embeddings_model2\n",
        ")\n",
        "\n",
        "# Print top results for comparison\n",
        "print(\"Top results for DistilBERT:\")\n",
        "for chunk_text, doc_name, score in relevance_distilbert[:3]:  # Top 3 results\n",
        "    print(f\"Document: {doc_name}, Score: {score:.4f}\\nChunk: {chunk_text}\\n\")\n",
        "\n",
        "print(\"Top results for MiniLM:\")\n",
        "for chunk_text, doc_name, score in relevance_minilm[:3]:  # Top 3 results\n",
        "    print(f\"Document: {doc_name}, Score: {score:.4f}\\nChunk: {chunk_text}\\n\")\n"
      ],
      "metadata": {
        "colab": {
          "base_uri": "https://localhost:8080/"
        },
        "id": "dbtelRDhhN5H",
        "outputId": "6bda13b3-a46f-4557-fd57-4bed70445d72"
      },
      "execution_count": 33,
      "outputs": [
        {
          "output_type": "stream",
          "name": "stdout",
          "text": [
            "Top results for DistilBERT:\n",
            "Document: Biography of a Fictional Poet - William Shakespeare.txt, Score: 0.4154\n",
            "Chunk: biography fictional poet william shakespeare william shakespeare often hailed greatest poet playwright english language born stratforduponavon 1564 exact date birth remains uncertain traditionally celebrated april 23 day passed away 1616 shakespeares life work transcended time geography making towering figure world literature though much personal life shrouded mystery poetic theatrical contributions left indelible mark english literature arts early life inspirations shakespeares early life deeply influenced cultural intellectual climate elizabethan england era renaissance flourishing growing town not far london shakespeare exposed range literary artistic influences father john shakespeare respected glove maker local official mother mary arden came wellestablished family believed young william received solid education stratford grammar school studied latin classics introduced works great poets playwrights antiquity including ovid virgil homer shakespeares first major influence likely bustling theatrical scene london late 1580s left stratford found place citys burgeoning theater scene exposure works contemporary playwrights christopher marlowe ben jonson university wits gave foundation drama poetic forms would later shape work career literary achievements shakespeares career began earnest joined lord chamberlains men prominent acting company around 1594 works soon performed stages london capturing attention public aristocratic audiences next two decades shakespeare wrote 39 plays 154 sonnets numerous poems covering broad range genres including tragedy comedy history tragedies human condition shakespeares tragedies hamlet macbeth othello king lear explore deepest aspects human conditionambition guilt revenge madness plays shakespeare examined complexities human soul often portraying noble characters brought low flaws external forces tragic heros journey toward selfawareness destruction theme resonates across time characters like hamlet indecisive prince macbeth ambitious king continuing inspire readers actors alike comedies joy life contrast tragedies shakespeares comedies midsummer nights dream much ado nothing twelfth night provide lighthearted exploration human relationships often focusing love identity mistaken identities\n",
            "\n",
            "Document: Biography of a Fictional Poet - William Shakespeare.txt, Score: 0.2924\n",
            "Chunk: valuable insights enduring legacy poet playwright lies not universal themes works also mastery language ability evoke empathy unique insight human experience enduring poet william shakespeare died april 23 1616 leaving behind body work continues captivate audiences scholars artists around world death marked end era poets influence lives every corner world man stratford vivid imagination masterful command english language remains monumental figure whose works read performed loved centuries come\n",
            "\n",
            "Document: Gabriele D'Annunzio_ The Influence of a Fictional Poet on Modern Literature.txt, Score: 0.2244\n",
            "Chunk: gabriele dannunzio influence fictional poet modern literature gabriele dannunzio often regarded one celebrated controversial figures italian literature made indelible mark literary cultural landscapes late 19th early 20th centuries profound influence modern poetry literature culture can not overstated work transcended boundaries written word encapsulate broader vision artistic political engagement persona politics often stirred debate literary contributions modernism symbolism aestheticism remain defining aspect legacy modern poetry aestheticism dannunzios impact modern poetry lies ability blend lush sensuous language refined aesthetic sensibility poetry notably featured collections il poema paradisiaco la chimera renowned exploration decadence beauty inner turmoil human condition dannunzios lyricism deeply inspired symbolism movement emphasized subjective experience reality symbolism nature search deeper meanings beyond literal poets emphasis visual imagery emotional intensity greatly influenced future generations poets sought break free traditional forms narrative verse modernist movement particular owes much dannunzios experimentation language poets like guido gozzano eugenio montale part italian literary modernism wave drew inspiration dannunzios capacity marry emotion aesthetic precision work set stage fragmentation ambiguity characterized much 20thcentury poetry making precursor figures like ts eliot ezra pound explored themes alienation disillusionment search transcendence literary renaissance fascist symbolism dannunzios role literature went beyond poetic innovation also key figure italian literary renaissance particularly context role cultural critic public intellectual influence development modernist literature not purely theoretical also practical writings became essential part cultural movement sought revive italys imperial grandeur artistic prominence moreover impact literature extended political sphere especially role promoting nationalist ideas ideals war heroism dannunzios blend poetic artistry political ideology found curious parallel works fascist intellectual movement looked cultural leader model virility heroism nationalism la trionfale highly patriotic controversial text glorified military exploits notion artist leadera theme would later coopted fascist regime connection fascist aesthetics marked complicated period dannunzios legacy political affiliations casting shadow literary contributions\n",
            "\n",
            "Top results for MiniLM:\n",
            "Document: Biography of a Fictional Poet - William Shakespeare.txt, Score: 0.4764\n",
            "Chunk: biography fictional poet william shakespeare william shakespeare often hailed greatest poet playwright english language born stratforduponavon 1564 exact date birth remains uncertain traditionally celebrated april 23 day passed away 1616 shakespeares life work transcended time geography making towering figure world literature though much personal life shrouded mystery poetic theatrical contributions left indelible mark english literature arts early life inspirations shakespeares early life deeply influenced cultural intellectual climate elizabethan england era renaissance flourishing growing town not far london shakespeare exposed range literary artistic influences father john shakespeare respected glove maker local official mother mary arden came wellestablished family believed young william received solid education stratford grammar school studied latin classics introduced works great poets playwrights antiquity including ovid virgil homer shakespeares first major influence likely bustling theatrical scene london late 1580s left stratford found place citys burgeoning theater scene exposure works contemporary playwrights christopher marlowe ben jonson university wits gave foundation drama poetic forms would later shape work career literary achievements shakespeares career began earnest joined lord chamberlains men prominent acting company around 1594 works soon performed stages london capturing attention public aristocratic audiences next two decades shakespeare wrote 39 plays 154 sonnets numerous poems covering broad range genres including tragedy comedy history tragedies human condition shakespeares tragedies hamlet macbeth othello king lear explore deepest aspects human conditionambition guilt revenge madness plays shakespeare examined complexities human soul often portraying noble characters brought low flaws external forces tragic heros journey toward selfawareness destruction theme resonates across time characters like hamlet indecisive prince macbeth ambitious king continuing inspire readers actors alike comedies joy life contrast tragedies shakespeares comedies midsummer nights dream much ado nothing twelfth night provide lighthearted exploration human relationships often focusing love identity mistaken identities\n",
            "\n",
            "Document: Biography of a Fictional Poet - William Shakespeare.txt, Score: 0.4557\n",
            "Chunk: forces tragic heros journey toward selfawareness destruction theme resonates across time characters like hamlet indecisive prince macbeth ambitious king continuing inspire readers actors alike comedies joy life contrast tragedies shakespeares comedies midsummer nights dream much ado nothing twelfth night provide lighthearted exploration human relationships often focusing love identity mistaken identities plays rich wit clever wordplay showcase shakespeares exceptional ability blend humor profound social commentary often satirizing social conventions presenting idealized world love conquers history plays national identity shakespeares history playsincluding richard iii henry v henry ivrely historical events figures examine themes power leadership national identity works shakespeare not contributed popularization english history also shaped national consciousness england reign queen elizabeth later king james sonnets eternal poet addition plays shakespeare also renowned sonnets collection 154 poems explore themes love time beauty mortality written iambic pentameter following shakespearean sonnet form 14 lines distinct rhyme scheme sonnets provide deeply personal reflection human emotion shakespeares sonnets timeless ability speak universal experienceswhether pain unrequited love joy friendship inevitability aging one famous lines shall compare thee summers day sonnet 18 continues resonate readers become symbol shakespeares enduring legacy legacy influence shakespeares work never ceased relevant plays continue performed theaters across world adapted films reinterpreted various forms influence seen works writers like charles dickens james joyce ts eliot admired ability explore depths human experience beyond literature shakespeares impact extends philosophy psychology even politics exploration power ambition complexities human soul continues provide valuable insights enduring legacy poet playwright lies not universal themes works also mastery language ability evoke empathy unique insight human experience enduring poet william shakespeare died april 23 1616 leaving behind body work continues captivate audiences scholars artists around world death marked end era poets influence lives every corner world\n",
            "\n",
            "Document: Biography of a Fictional Poet - William Shakespeare.txt, Score: 0.4230\n",
            "Chunk: valuable insights enduring legacy poet playwright lies not universal themes works also mastery language ability evoke empathy unique insight human experience enduring poet william shakespeare died april 23 1616 leaving behind body work continues captivate audiences scholars artists around world death marked end era poets influence lives every corner world man stratford vivid imagination masterful command english language remains monumental figure whose works read performed loved centuries come\n",
            "\n"
          ]
        }
      ]
    },
    {
      "cell_type": "code",
      "source": [
        "mean_score_distilbert = np.mean([score for _, _, score in relevance_distilbert[:3]])\n",
        "mean_score_minilm = np.mean([score for _, _, score in relevance_minilm[:3]])\n",
        "print(f\"Mean Relevance Score - DistilBERT: {mean_score_distilbert:.4f}\")\n",
        "print(f\"Mean Relevance Score - MiniLM: {mean_score_minilm:.4f}\")"
      ],
      "metadata": {
        "colab": {
          "base_uri": "https://localhost:8080/"
        },
        "id": "WNV93pE_j4T9",
        "outputId": "02f7226f-9b49-46f8-8ccb-6afd1be64817"
      },
      "execution_count": 34,
      "outputs": [
        {
          "output_type": "stream",
          "name": "stdout",
          "text": [
            "Mean Relevance Score - DistilBERT: 0.3107\n",
            "Mean Relevance Score - MiniLM: 0.4517\n"
          ]
        }
      ]
    },
    {
      "cell_type": "markdown",
      "source": [
        "Insights:\n",
        "\n",
        "\n",
        "1.   Mean Relevance Score MiniLM: 0.4517, so MiniLM is efficient in semantic similarity and search tasks, which aligns well query-based relevance test. It also has smaller embedding size (384 dimensions) than DistilBERT, which is more compact and computationally efficient.\n",
        "2.   **Dimensionality is not always a proxy for performance**. Low-dimensional embeddings like MiniLM can outperform higher-dimensional like DistilBERT in tasks where precision and semantic similarity are prioritized over contextual richness.\n",
        "\n"
      ],
      "metadata": {
        "id": "D9aC1hbak36Q"
      }
    },
    {
      "cell_type": "markdown",
      "source": [
        "# Task 4: Vector Storage and Retrieval ✅"
      ],
      "metadata": {
        "id": "1Bz2rm4UmjgA"
      }
    },
    {
      "cell_type": "markdown",
      "source": [
        "based on the previous analysis, we are gonna use the embedding from MiniLM"
      ],
      "metadata": {
        "id": "CxZwCxz4nDAa"
      }
    },
    {
      "cell_type": "code",
      "source": [
        "pip install faiss-cpu"
      ],
      "metadata": {
        "colab": {
          "base_uri": "https://localhost:8080/"
        },
        "id": "9_KFuMzxkLAL",
        "outputId": "c3d09b1c-ea59-4d32-f9eb-2cb8607d5d11"
      },
      "execution_count": 35,
      "outputs": [
        {
          "output_type": "stream",
          "name": "stdout",
          "text": [
            "Requirement already satisfied: faiss-cpu in /usr/local/lib/python3.10/dist-packages (1.9.0.post1)\n",
            "Requirement already satisfied: numpy<3.0,>=1.25.0 in /usr/local/lib/python3.10/dist-packages (from faiss-cpu) (1.26.4)\n",
            "Requirement already satisfied: packaging in /usr/local/lib/python3.10/dist-packages (from faiss-cpu) (24.2)\n"
          ]
        }
      ]
    },
    {
      "cell_type": "code",
      "source": [
        "import faiss\n",
        "import numpy as np\n",
        "\n",
        "def load_embeddings_into_faiss(embeddings):\n",
        "    \"\"\"\n",
        "    Load embeddings into a FAISS index.\n",
        "    Args:\n",
        "        embeddings (list): List of embeddings with metadata.\n",
        "    Returns:\n",
        "        index: FAISS index for similarity search.\n",
        "        metadata: List of metadata (chunk text, document name).\n",
        "    \"\"\"\n",
        "    # Extract embeddings and metadata\n",
        "    embedding_vectors = [np.array(item['embedding']) for item in embeddings]\n",
        "    metadata = [(item['chunk_text'], item['document']) for item in embeddings]\n",
        "\n",
        "    # Create FAISS index\n",
        "    dimension = len(embedding_vectors[0])  # Get dimension from first embedding\n",
        "    index = faiss.IndexFlatL2(dimension)   # L2 distance (equivalent to cosine similarity after normalization)\n",
        "\n",
        "    # Normalize embeddings for cosine similarity\n",
        "    embedding_vectors = np.array(embedding_vectors, dtype='float32')\n",
        "    faiss.normalize_L2(embedding_vectors)\n",
        "\n",
        "    # Add vectors to index\n",
        "    index.add(embedding_vectors)\n",
        "\n",
        "    return index, metadata"
      ],
      "metadata": {
        "id": "KTPCSnzAm-2O"
      },
      "execution_count": 36,
      "outputs": []
    },
    {
      "cell_type": "code",
      "source": [
        "from sentence_transformers import SentenceTransformer\n",
        "\n",
        "def retrieve_chunks(query, model, index, metadata, top_k=3):\n",
        "    \"\"\"\n",
        "    Retrieve top-k most similar chunks for a query.\n",
        "    Args:\n",
        "        query (str): Query string.\n",
        "        model: SentenceTransformer model to encode the query.\n",
        "        index: FAISS index containing chunk embeddings.\n",
        "        metadata: List of metadata (chunk text, document name).\n",
        "        top_k (int): Number of top results to retrieve.\n",
        "    Returns:\n",
        "        List of top-k chunks with metadata and similarity scores.\n",
        "    \"\"\"\n",
        "    # Encode query and normalize for cosine similarity\n",
        "    query_vector = model.encode(query).astype('float32')\n",
        "    faiss.normalize_L2(query_vector.reshape(1, -1))\n",
        "\n",
        "    # Search in FAISS index\n",
        "    distances, indices = index.search(query_vector.reshape(1, -1), top_k)\n",
        "\n",
        "    # Retrieve top-k results\n",
        "    results = []\n",
        "    for i, idx in enumerate(indices[0]):\n",
        "        if idx != -1:  # Ensure index is valid\n",
        "            chunk_text, document_name = metadata[idx]\n",
        "            # Convert L2 distance to cosine similarity\n",
        "            similarity_score = 1 - (distances[0][i] / np.linalg.norm(query_vector))\n",
        "            results.append({\n",
        "                'rank': i + 1,\n",
        "                'chunk_text': chunk_text,\n",
        "                'document_name': document_name,\n",
        "                'similarity_score': similarity_score\n",
        "            })\n",
        "    return results\n"
      ],
      "metadata": {
        "id": "w7dqsJalnQ8q"
      },
      "execution_count": 37,
      "outputs": []
    },
    {
      "cell_type": "code",
      "source": [
        "# Load embeddings from JSON\n",
        "import json\n",
        "with open(\"embeddings_minilm.json\", \"r\") as f:\n",
        "    minilm_embeddings = json.load(f)\n",
        "\n",
        "# Load embeddings into FAISS\n",
        "index, metadata = load_embeddings_into_faiss(minilm_embeddings)\n",
        "\n",
        "# Initialize query\n",
        "query = \"Growing up in a town that was not far from London\"\n",
        "\n",
        "# Retrieve top-3 chunks\n",
        "results = retrieve_chunks(query, model=model2, index=index, metadata=metadata, top_k=3)\n",
        "\n",
        "\n",
        "# Print results\n",
        "print(\"Top-3 Results:\")\n",
        "for result in results:\n",
        "    print(f\"Rank: {result['rank']}\")\n",
        "    print(f\"Document: {result['document_name']}\")\n",
        "    print(f\"Similarity Score: {result['similarity_score']:.4f}\")\n",
        "    print(f\"Chunk Text: {result['chunk_text']}\\n\")\n"
      ],
      "metadata": {
        "colab": {
          "base_uri": "https://localhost:8080/"
        },
        "id": "SpAciDXcnU9w",
        "outputId": "537add46-f477-4b94-aa6e-5278e93ea854"
      },
      "execution_count": 38,
      "outputs": [
        {
          "output_type": "stream",
          "name": "stdout",
          "text": [
            "Top-3 Results:\n",
            "Rank: 1\n",
            "Document: Biography of a Fictional Poet - William Shakespeare.txt\n",
            "Similarity Score: -0.5606\n",
            "Chunk Text: biography fictional poet william shakespeare william shakespeare often hailed greatest poet playwright english language born stratforduponavon 1564 exact date birth remains uncertain traditionally celebrated april 23 day passed away 1616 shakespeares life work transcended time geography making towering figure world literature though much personal life shrouded mystery poetic theatrical contributions left indelible mark english literature arts early life inspirations shakespeares early life deeply influenced cultural intellectual climate elizabethan england era renaissance flourishing growing town not far london shakespeare exposed range literary artistic influences father john shakespeare respected glove maker local official mother mary arden came wellestablished family believed young william received solid education stratford grammar school studied latin classics introduced works great poets playwrights antiquity including ovid virgil homer shakespeares first major influence likely bustling theatrical scene london late 1580s left stratford found place citys burgeoning theater scene exposure works contemporary playwrights christopher marlowe ben jonson university wits gave foundation drama poetic forms would later shape work career literary achievements shakespeares career began earnest joined lord chamberlains men prominent acting company around 1594 works soon performed stages london capturing attention public aristocratic audiences next two decades shakespeare wrote 39 plays 154 sonnets numerous poems covering broad range genres including tragedy comedy history tragedies human condition shakespeares tragedies hamlet macbeth othello king lear explore deepest aspects human conditionambition guilt revenge madness plays shakespeare examined complexities human soul often portraying noble characters brought low flaws external forces tragic heros journey toward selfawareness destruction theme resonates across time characters like hamlet indecisive prince macbeth ambitious king continuing inspire readers actors alike comedies joy life contrast tragedies shakespeares comedies midsummer nights dream much ado nothing twelfth night provide lighthearted exploration human relationships often focusing love identity mistaken identities\n",
            "\n",
            "Rank: 2\n",
            "Document: Biography of a Fictional Poet - William Shakespeare.txt\n",
            "Similarity Score: -0.6256\n",
            "Chunk Text: valuable insights enduring legacy poet playwright lies not universal themes works also mastery language ability evoke empathy unique insight human experience enduring poet william shakespeare died april 23 1616 leaving behind body work continues captivate audiences scholars artists around world death marked end era poets influence lives every corner world man stratford vivid imagination masterful command english language remains monumental figure whose works read performed loved centuries come\n",
            "\n",
            "Rank: 3\n",
            "Document: Biography of a Fictional Poet - William Shakespeare.txt\n",
            "Similarity Score: -0.7676\n",
            "Chunk Text: forces tragic heros journey toward selfawareness destruction theme resonates across time characters like hamlet indecisive prince macbeth ambitious king continuing inspire readers actors alike comedies joy life contrast tragedies shakespeares comedies midsummer nights dream much ado nothing twelfth night provide lighthearted exploration human relationships often focusing love identity mistaken identities plays rich wit clever wordplay showcase shakespeares exceptional ability blend humor profound social commentary often satirizing social conventions presenting idealized world love conquers history plays national identity shakespeares history playsincluding richard iii henry v henry ivrely historical events figures examine themes power leadership national identity works shakespeare not contributed popularization english history also shaped national consciousness england reign queen elizabeth later king james sonnets eternal poet addition plays shakespeare also renowned sonnets collection 154 poems explore themes love time beauty mortality written iambic pentameter following shakespearean sonnet form 14 lines distinct rhyme scheme sonnets provide deeply personal reflection human emotion shakespeares sonnets timeless ability speak universal experienceswhether pain unrequited love joy friendship inevitability aging one famous lines shall compare thee summers day sonnet 18 continues resonate readers become symbol shakespeares enduring legacy legacy influence shakespeares work never ceased relevant plays continue performed theaters across world adapted films reinterpreted various forms influence seen works writers like charles dickens james joyce ts eliot admired ability explore depths human experience beyond literature shakespeares impact extends philosophy psychology even politics exploration power ambition complexities human soul continues provide valuable insights enduring legacy poet playwright lies not universal themes works also mastery language ability evoke empathy unique insight human experience enduring poet william shakespeare died april 23 1616 leaving behind body work continues captivate audiences scholars artists around world death marked end era poets influence lives every corner world\n",
            "\n"
          ]
        }
      ]
    },
    {
      "cell_type": "code",
      "source": [
        "# Load embeddings from JSON\n",
        "import json\n",
        "with open(\"embeddings_distilbert.json\", \"r\") as f:\n",
        "    distilbert_embeddings = json.load(f)\n",
        "\n",
        "# Load embeddings into FAISS\n",
        "index, metadata = load_embeddings_into_faiss(distilbert_embeddings)\n",
        "\n",
        "# Initialize query\n",
        "query = \"Growing up in a town that was not far from London\"\n",
        "\n",
        "# Retrieve top-3 chunks\n",
        "results = retrieve_chunks(query, model=model1, index=index, metadata=metadata, top_k=3)\n",
        "\n",
        "\n",
        "# Print results\n",
        "print(\"Top-3 Results:\")\n",
        "for result in results:\n",
        "    print(f\"Rank: {result['rank']}\")\n",
        "    print(f\"Document: {result['document_name']}\")\n",
        "    print(f\"Similarity Score: {result['similarity_score']:.4f}\")\n",
        "    print(f\"Chunk Text: {result['chunk_text']}\\n\")\n"
      ],
      "metadata": {
        "colab": {
          "base_uri": "https://localhost:8080/"
        },
        "id": "mSLTdLj2nrjt",
        "outputId": "c7f920df-8b51-4eac-914e-2b57147f31ee"
      },
      "execution_count": 39,
      "outputs": [
        {
          "output_type": "stream",
          "name": "stdout",
          "text": [
            "Top-3 Results:\n",
            "Rank: 1\n",
            "Document: Biography of a Fictional Poet - William Shakespeare.txt\n",
            "Similarity Score: -0.6572\n",
            "Chunk Text: biography fictional poet william shakespeare william shakespeare often hailed greatest poet playwright english language born stratforduponavon 1564 exact date birth remains uncertain traditionally celebrated april 23 day passed away 1616 shakespeares life work transcended time geography making towering figure world literature though much personal life shrouded mystery poetic theatrical contributions left indelible mark english literature arts early life inspirations shakespeares early life deeply influenced cultural intellectual climate elizabethan england era renaissance flourishing growing town not far london shakespeare exposed range literary artistic influences father john shakespeare respected glove maker local official mother mary arden came wellestablished family believed young william received solid education stratford grammar school studied latin classics introduced works great poets playwrights antiquity including ovid virgil homer shakespeares first major influence likely bustling theatrical scene london late 1580s left stratford found place citys burgeoning theater scene exposure works contemporary playwrights christopher marlowe ben jonson university wits gave foundation drama poetic forms would later shape work career literary achievements shakespeares career began earnest joined lord chamberlains men prominent acting company around 1594 works soon performed stages london capturing attention public aristocratic audiences next two decades shakespeare wrote 39 plays 154 sonnets numerous poems covering broad range genres including tragedy comedy history tragedies human condition shakespeares tragedies hamlet macbeth othello king lear explore deepest aspects human conditionambition guilt revenge madness plays shakespeare examined complexities human soul often portraying noble characters brought low flaws external forces tragic heros journey toward selfawareness destruction theme resonates across time characters like hamlet indecisive prince macbeth ambitious king continuing inspire readers actors alike comedies joy life contrast tragedies shakespeares comedies midsummer nights dream much ado nothing twelfth night provide lighthearted exploration human relationships often focusing love identity mistaken identities\n",
            "\n",
            "Rank: 2\n",
            "Document: Biography of a Fictional Poet - William Shakespeare.txt\n",
            "Similarity Score: -0.7462\n",
            "Chunk Text: valuable insights enduring legacy poet playwright lies not universal themes works also mastery language ability evoke empathy unique insight human experience enduring poet william shakespeare died april 23 1616 leaving behind body work continues captivate audiences scholars artists around world death marked end era poets influence lives every corner world man stratford vivid imagination masterful command english language remains monumental figure whose works read performed loved centuries come\n",
            "\n",
            "Rank: 3\n",
            "Document: Gabriele D'Annunzio_ The Influence of a Fictional Poet on Modern Literature.txt\n",
            "Similarity Score: -0.9242\n",
            "Chunk Text: later figures arts political spheres including filippo tommaso marinetti founder futurism legacy contemporary literature contemporary literature influence gabriele dannunzio still traced works modern poets writers blend aesthetics broader cultural narratives writers like antonio tabucchi roberto saviano incorporate lyrical storytelling political critique continue engage dual legacy dannunziothe poet beauty poet politics moreover exploration personal identity relation national identity hallmark dannunzios work remains significant theme literature today complex blending art politics personal mythmaking historical narrative remains relevant way contemporary authors negotiate tensions individual expression collective cultural memory\n",
            "\n"
          ]
        }
      ]
    },
    {
      "cell_type": "markdown",
      "source": [
        "now, we are using miniLM embeddings for next step"
      ],
      "metadata": {
        "id": "Ch88ZjeWt5BF"
      }
    },
    {
      "cell_type": "code",
      "source": [
        "# Load embeddings from JSON\n",
        "import json\n",
        "with open(\"embeddings_minilm.json\", \"r\") as f:\n",
        "    minilm_embeddings = json.load(f)\n",
        "\n",
        "# Load embeddings into FAISS\n",
        "index, metadata = load_embeddings_into_faiss(minilm_embeddings)\n",
        "\n",
        "# Initialize query\n",
        "query = \"Growing up in a town that was not far from London\"\n",
        "\n",
        "# Retrieve top-3 chunks\n",
        "results = retrieve_chunks(query, model=model2, index=index, metadata=metadata, top_k=3)\n",
        "\n",
        "\n",
        "# Print results\n",
        "print(\"Top-3 Results:\")\n",
        "for result in results:\n",
        "    print(f\"Rank: {result['rank']}\")\n",
        "    print(f\"Document: {result['document_name']}\")\n",
        "    print(f\"Chunk Text: {result['chunk_text']}\\n\")\n"
      ],
      "metadata": {
        "colab": {
          "base_uri": "https://localhost:8080/"
        },
        "id": "V3bRJ95yrtqp",
        "outputId": "6c90543b-258b-4bb0-992d-d06039d7fe9f"
      },
      "execution_count": 40,
      "outputs": [
        {
          "output_type": "stream",
          "name": "stdout",
          "text": [
            "Top-3 Results:\n",
            "Rank: 1\n",
            "Document: Biography of a Fictional Poet - William Shakespeare.txt\n",
            "Chunk Text: biography fictional poet william shakespeare william shakespeare often hailed greatest poet playwright english language born stratforduponavon 1564 exact date birth remains uncertain traditionally celebrated april 23 day passed away 1616 shakespeares life work transcended time geography making towering figure world literature though much personal life shrouded mystery poetic theatrical contributions left indelible mark english literature arts early life inspirations shakespeares early life deeply influenced cultural intellectual climate elizabethan england era renaissance flourishing growing town not far london shakespeare exposed range literary artistic influences father john shakespeare respected glove maker local official mother mary arden came wellestablished family believed young william received solid education stratford grammar school studied latin classics introduced works great poets playwrights antiquity including ovid virgil homer shakespeares first major influence likely bustling theatrical scene london late 1580s left stratford found place citys burgeoning theater scene exposure works contemporary playwrights christopher marlowe ben jonson university wits gave foundation drama poetic forms would later shape work career literary achievements shakespeares career began earnest joined lord chamberlains men prominent acting company around 1594 works soon performed stages london capturing attention public aristocratic audiences next two decades shakespeare wrote 39 plays 154 sonnets numerous poems covering broad range genres including tragedy comedy history tragedies human condition shakespeares tragedies hamlet macbeth othello king lear explore deepest aspects human conditionambition guilt revenge madness plays shakespeare examined complexities human soul often portraying noble characters brought low flaws external forces tragic heros journey toward selfawareness destruction theme resonates across time characters like hamlet indecisive prince macbeth ambitious king continuing inspire readers actors alike comedies joy life contrast tragedies shakespeares comedies midsummer nights dream much ado nothing twelfth night provide lighthearted exploration human relationships often focusing love identity mistaken identities\n",
            "\n",
            "Rank: 2\n",
            "Document: Biography of a Fictional Poet - William Shakespeare.txt\n",
            "Chunk Text: valuable insights enduring legacy poet playwright lies not universal themes works also mastery language ability evoke empathy unique insight human experience enduring poet william shakespeare died april 23 1616 leaving behind body work continues captivate audiences scholars artists around world death marked end era poets influence lives every corner world man stratford vivid imagination masterful command english language remains monumental figure whose works read performed loved centuries come\n",
            "\n",
            "Rank: 3\n",
            "Document: Biography of a Fictional Poet - William Shakespeare.txt\n",
            "Chunk Text: forces tragic heros journey toward selfawareness destruction theme resonates across time characters like hamlet indecisive prince macbeth ambitious king continuing inspire readers actors alike comedies joy life contrast tragedies shakespeares comedies midsummer nights dream much ado nothing twelfth night provide lighthearted exploration human relationships often focusing love identity mistaken identities plays rich wit clever wordplay showcase shakespeares exceptional ability blend humor profound social commentary often satirizing social conventions presenting idealized world love conquers history plays national identity shakespeares history playsincluding richard iii henry v henry ivrely historical events figures examine themes power leadership national identity works shakespeare not contributed popularization english history also shaped national consciousness england reign queen elizabeth later king james sonnets eternal poet addition plays shakespeare also renowned sonnets collection 154 poems explore themes love time beauty mortality written iambic pentameter following shakespearean sonnet form 14 lines distinct rhyme scheme sonnets provide deeply personal reflection human emotion shakespeares sonnets timeless ability speak universal experienceswhether pain unrequited love joy friendship inevitability aging one famous lines shall compare thee summers day sonnet 18 continues resonate readers become symbol shakespeares enduring legacy legacy influence shakespeares work never ceased relevant plays continue performed theaters across world adapted films reinterpreted various forms influence seen works writers like charles dickens james joyce ts eliot admired ability explore depths human experience beyond literature shakespeares impact extends philosophy psychology even politics exploration power ambition complexities human soul continues provide valuable insights enduring legacy poet playwright lies not universal themes works also mastery language ability evoke empathy unique insight human experience enduring poet william shakespeare died april 23 1616 leaving behind body work continues captivate audiences scholars artists around world death marked end era poets influence lives every corner world\n",
            "\n"
          ]
        }
      ]
    },
    {
      "cell_type": "markdown",
      "source": [
        "# Step 5: Contextual Query Handling ✅"
      ],
      "metadata": {
        "id": "aSO4qOG7ubpK"
      }
    },
    {
      "cell_type": "code",
      "source": [
        "def retrieve_chunks_with_context(query, model, index, metadata, query_history, top_k=3):\n",
        "    \"\"\"\n",
        "    Retrieve top-k most similar chunks for a query, with context from previous queries.\n",
        "\n",
        "    Args:\n",
        "        query (str): Current query string.\n",
        "        model: SentenceTransformer model to encode the query.\n",
        "        index: FAISS index containing chunk embeddings.\n",
        "        metadata: List of metadata (chunk text, document name).\n",
        "        query_history (list): List of previous queries to include context.\n",
        "        top_k (int): Number of top results to retrieve.\n",
        "\n",
        "    Returns:\n",
        "        List of top-k chunks with metadata and similarity scores.\n",
        "    \"\"\"\n",
        "    # Incorporate previous queries into the current query\n",
        "    context = \" \".join(query_history) + \" \" + query  # Concatenate history with the current query\n",
        "\n",
        "    # Load the sentence transformer model (e.g., all-MiniLM-L6-v2)\n",
        "    encoder_model = SentenceTransformer('all-MiniLM-L6-v2')\n",
        "\n",
        "    # Encode the combined context\n",
        "    context_vector = encoder_model.encode(context).astype('float32')\n",
        "    context_vector = context_vector.reshape(1, -1)\n",
        "\n",
        "    # Normalize the combined context vector\n",
        "    faiss.normalize_L2(context_vector)\n",
        "\n",
        "    # Search in FAISS index\n",
        "    distances, indices = index.search(context_vector, top_k)\n",
        "\n",
        "    # Retrieve top-k results\n",
        "    results = []\n",
        "    for i, idx in enumerate(indices[0]):\n",
        "        if idx != -1:  # Ensure index is valid\n",
        "            chunk_text, document_name = metadata[idx]\n",
        "            # Convert L2 distance to cosine similarity\n",
        "            similarity_score = 1 - distances[0][i]  # Since we normalized, this should work\n",
        "            results.append({\n",
        "                'rank': i + 1,\n",
        "                'chunk_text': chunk_text,\n",
        "                'document_name': document_name\n",
        "            })\n",
        "\n",
        "    # Update the query history\n",
        "    query_history.append(query)  # Add the current query to the history\n",
        "    return results\n"
      ],
      "metadata": {
        "id": "Z3FzooIzuCXk"
      },
      "execution_count": 41,
      "outputs": []
    },
    {
      "cell_type": "code",
      "source": [
        "# Initialize query history\n",
        "query_history = []\n",
        "\n",
        "# Example multi-turn queries\n",
        "queries = [\n",
        "    \"What is Shakespeare famous for?\",\n",
        "    \"Can you tell me more about his plays?\",\n",
        "    \"What are the themes in Hamlet?\"\n",
        "]\n",
        "\n",
        "# For each query, retrieve the top-k chunks using the contextual retrieval function\n",
        "for query in queries:\n",
        "    results = retrieve_chunks_with_context(query, model2, index, metadata, query_history, top_k=3)\n",
        "\n",
        "    # Print results for the current query\n",
        "    print(f\"Query: {query}\")\n",
        "    for result in results:\n",
        "        print(f\"Rank: {result['rank']}\")\n",
        "        print(f\"Document: {result['document_name']}\")\n",
        "        print(f\"Chunk Text: {result['chunk_text']}\\n\")\n"
      ],
      "metadata": {
        "colab": {
          "base_uri": "https://localhost:8080/"
        },
        "id": "ITZ3ZW-0ueOF",
        "outputId": "c0908a47-8fd1-498f-dd7a-600a8f0f0eff"
      },
      "execution_count": 42,
      "outputs": [
        {
          "output_type": "stream",
          "name": "stdout",
          "text": [
            "Query: What is Shakespeare famous for?\n",
            "Rank: 1\n",
            "Document: Biography of a Fictional Poet - William Shakespeare.txt\n",
            "Chunk Text: forces tragic heros journey toward selfawareness destruction theme resonates across time characters like hamlet indecisive prince macbeth ambitious king continuing inspire readers actors alike comedies joy life contrast tragedies shakespeares comedies midsummer nights dream much ado nothing twelfth night provide lighthearted exploration human relationships often focusing love identity mistaken identities plays rich wit clever wordplay showcase shakespeares exceptional ability blend humor profound social commentary often satirizing social conventions presenting idealized world love conquers history plays national identity shakespeares history playsincluding richard iii henry v henry ivrely historical events figures examine themes power leadership national identity works shakespeare not contributed popularization english history also shaped national consciousness england reign queen elizabeth later king james sonnets eternal poet addition plays shakespeare also renowned sonnets collection 154 poems explore themes love time beauty mortality written iambic pentameter following shakespearean sonnet form 14 lines distinct rhyme scheme sonnets provide deeply personal reflection human emotion shakespeares sonnets timeless ability speak universal experienceswhether pain unrequited love joy friendship inevitability aging one famous lines shall compare thee summers day sonnet 18 continues resonate readers become symbol shakespeares enduring legacy legacy influence shakespeares work never ceased relevant plays continue performed theaters across world adapted films reinterpreted various forms influence seen works writers like charles dickens james joyce ts eliot admired ability explore depths human experience beyond literature shakespeares impact extends philosophy psychology even politics exploration power ambition complexities human soul continues provide valuable insights enduring legacy poet playwright lies not universal themes works also mastery language ability evoke empathy unique insight human experience enduring poet william shakespeare died april 23 1616 leaving behind body work continues captivate audiences scholars artists around world death marked end era poets influence lives every corner world\n",
            "\n",
            "Rank: 2\n",
            "Document: Biography of a Fictional Poet - William Shakespeare.txt\n",
            "Chunk Text: biography fictional poet william shakespeare william shakespeare often hailed greatest poet playwright english language born stratforduponavon 1564 exact date birth remains uncertain traditionally celebrated april 23 day passed away 1616 shakespeares life work transcended time geography making towering figure world literature though much personal life shrouded mystery poetic theatrical contributions left indelible mark english literature arts early life inspirations shakespeares early life deeply influenced cultural intellectual climate elizabethan england era renaissance flourishing growing town not far london shakespeare exposed range literary artistic influences father john shakespeare respected glove maker local official mother mary arden came wellestablished family believed young william received solid education stratford grammar school studied latin classics introduced works great poets playwrights antiquity including ovid virgil homer shakespeares first major influence likely bustling theatrical scene london late 1580s left stratford found place citys burgeoning theater scene exposure works contemporary playwrights christopher marlowe ben jonson university wits gave foundation drama poetic forms would later shape work career literary achievements shakespeares career began earnest joined lord chamberlains men prominent acting company around 1594 works soon performed stages london capturing attention public aristocratic audiences next two decades shakespeare wrote 39 plays 154 sonnets numerous poems covering broad range genres including tragedy comedy history tragedies human condition shakespeares tragedies hamlet macbeth othello king lear explore deepest aspects human conditionambition guilt revenge madness plays shakespeare examined complexities human soul often portraying noble characters brought low flaws external forces tragic heros journey toward selfawareness destruction theme resonates across time characters like hamlet indecisive prince macbeth ambitious king continuing inspire readers actors alike comedies joy life contrast tragedies shakespeares comedies midsummer nights dream much ado nothing twelfth night provide lighthearted exploration human relationships often focusing love identity mistaken identities\n",
            "\n",
            "Rank: 3\n",
            "Document: Biography of a Fictional Poet - William Shakespeare.txt\n",
            "Chunk Text: valuable insights enduring legacy poet playwright lies not universal themes works also mastery language ability evoke empathy unique insight human experience enduring poet william shakespeare died april 23 1616 leaving behind body work continues captivate audiences scholars artists around world death marked end era poets influence lives every corner world man stratford vivid imagination masterful command english language remains monumental figure whose works read performed loved centuries come\n",
            "\n",
            "Query: Can you tell me more about his plays?\n",
            "Rank: 1\n",
            "Document: Biography of a Fictional Poet - William Shakespeare.txt\n",
            "Chunk Text: biography fictional poet william shakespeare william shakespeare often hailed greatest poet playwright english language born stratforduponavon 1564 exact date birth remains uncertain traditionally celebrated april 23 day passed away 1616 shakespeares life work transcended time geography making towering figure world literature though much personal life shrouded mystery poetic theatrical contributions left indelible mark english literature arts early life inspirations shakespeares early life deeply influenced cultural intellectual climate elizabethan england era renaissance flourishing growing town not far london shakespeare exposed range literary artistic influences father john shakespeare respected glove maker local official mother mary arden came wellestablished family believed young william received solid education stratford grammar school studied latin classics introduced works great poets playwrights antiquity including ovid virgil homer shakespeares first major influence likely bustling theatrical scene london late 1580s left stratford found place citys burgeoning theater scene exposure works contemporary playwrights christopher marlowe ben jonson university wits gave foundation drama poetic forms would later shape work career literary achievements shakespeares career began earnest joined lord chamberlains men prominent acting company around 1594 works soon performed stages london capturing attention public aristocratic audiences next two decades shakespeare wrote 39 plays 154 sonnets numerous poems covering broad range genres including tragedy comedy history tragedies human condition shakespeares tragedies hamlet macbeth othello king lear explore deepest aspects human conditionambition guilt revenge madness plays shakespeare examined complexities human soul often portraying noble characters brought low flaws external forces tragic heros journey toward selfawareness destruction theme resonates across time characters like hamlet indecisive prince macbeth ambitious king continuing inspire readers actors alike comedies joy life contrast tragedies shakespeares comedies midsummer nights dream much ado nothing twelfth night provide lighthearted exploration human relationships often focusing love identity mistaken identities\n",
            "\n",
            "Rank: 2\n",
            "Document: Biography of a Fictional Poet - William Shakespeare.txt\n",
            "Chunk Text: forces tragic heros journey toward selfawareness destruction theme resonates across time characters like hamlet indecisive prince macbeth ambitious king continuing inspire readers actors alike comedies joy life contrast tragedies shakespeares comedies midsummer nights dream much ado nothing twelfth night provide lighthearted exploration human relationships often focusing love identity mistaken identities plays rich wit clever wordplay showcase shakespeares exceptional ability blend humor profound social commentary often satirizing social conventions presenting idealized world love conquers history plays national identity shakespeares history playsincluding richard iii henry v henry ivrely historical events figures examine themes power leadership national identity works shakespeare not contributed popularization english history also shaped national consciousness england reign queen elizabeth later king james sonnets eternal poet addition plays shakespeare also renowned sonnets collection 154 poems explore themes love time beauty mortality written iambic pentameter following shakespearean sonnet form 14 lines distinct rhyme scheme sonnets provide deeply personal reflection human emotion shakespeares sonnets timeless ability speak universal experienceswhether pain unrequited love joy friendship inevitability aging one famous lines shall compare thee summers day sonnet 18 continues resonate readers become symbol shakespeares enduring legacy legacy influence shakespeares work never ceased relevant plays continue performed theaters across world adapted films reinterpreted various forms influence seen works writers like charles dickens james joyce ts eliot admired ability explore depths human experience beyond literature shakespeares impact extends philosophy psychology even politics exploration power ambition complexities human soul continues provide valuable insights enduring legacy poet playwright lies not universal themes works also mastery language ability evoke empathy unique insight human experience enduring poet william shakespeare died april 23 1616 leaving behind body work continues captivate audiences scholars artists around world death marked end era poets influence lives every corner world\n",
            "\n",
            "Rank: 3\n",
            "Document: Biography of a Fictional Poet - William Shakespeare.txt\n",
            "Chunk Text: valuable insights enduring legacy poet playwright lies not universal themes works also mastery language ability evoke empathy unique insight human experience enduring poet william shakespeare died april 23 1616 leaving behind body work continues captivate audiences scholars artists around world death marked end era poets influence lives every corner world man stratford vivid imagination masterful command english language remains monumental figure whose works read performed loved centuries come\n",
            "\n",
            "Query: What are the themes in Hamlet?\n",
            "Rank: 1\n",
            "Document: Biography of a Fictional Poet - William Shakespeare.txt\n",
            "Chunk Text: forces tragic heros journey toward selfawareness destruction theme resonates across time characters like hamlet indecisive prince macbeth ambitious king continuing inspire readers actors alike comedies joy life contrast tragedies shakespeares comedies midsummer nights dream much ado nothing twelfth night provide lighthearted exploration human relationships often focusing love identity mistaken identities plays rich wit clever wordplay showcase shakespeares exceptional ability blend humor profound social commentary often satirizing social conventions presenting idealized world love conquers history plays national identity shakespeares history playsincluding richard iii henry v henry ivrely historical events figures examine themes power leadership national identity works shakespeare not contributed popularization english history also shaped national consciousness england reign queen elizabeth later king james sonnets eternal poet addition plays shakespeare also renowned sonnets collection 154 poems explore themes love time beauty mortality written iambic pentameter following shakespearean sonnet form 14 lines distinct rhyme scheme sonnets provide deeply personal reflection human emotion shakespeares sonnets timeless ability speak universal experienceswhether pain unrequited love joy friendship inevitability aging one famous lines shall compare thee summers day sonnet 18 continues resonate readers become symbol shakespeares enduring legacy legacy influence shakespeares work never ceased relevant plays continue performed theaters across world adapted films reinterpreted various forms influence seen works writers like charles dickens james joyce ts eliot admired ability explore depths human experience beyond literature shakespeares impact extends philosophy psychology even politics exploration power ambition complexities human soul continues provide valuable insights enduring legacy poet playwright lies not universal themes works also mastery language ability evoke empathy unique insight human experience enduring poet william shakespeare died april 23 1616 leaving behind body work continues captivate audiences scholars artists around world death marked end era poets influence lives every corner world\n",
            "\n",
            "Rank: 2\n",
            "Document: Biography of a Fictional Poet - William Shakespeare.txt\n",
            "Chunk Text: biography fictional poet william shakespeare william shakespeare often hailed greatest poet playwright english language born stratforduponavon 1564 exact date birth remains uncertain traditionally celebrated april 23 day passed away 1616 shakespeares life work transcended time geography making towering figure world literature though much personal life shrouded mystery poetic theatrical contributions left indelible mark english literature arts early life inspirations shakespeares early life deeply influenced cultural intellectual climate elizabethan england era renaissance flourishing growing town not far london shakespeare exposed range literary artistic influences father john shakespeare respected glove maker local official mother mary arden came wellestablished family believed young william received solid education stratford grammar school studied latin classics introduced works great poets playwrights antiquity including ovid virgil homer shakespeares first major influence likely bustling theatrical scene london late 1580s left stratford found place citys burgeoning theater scene exposure works contemporary playwrights christopher marlowe ben jonson university wits gave foundation drama poetic forms would later shape work career literary achievements shakespeares career began earnest joined lord chamberlains men prominent acting company around 1594 works soon performed stages london capturing attention public aristocratic audiences next two decades shakespeare wrote 39 plays 154 sonnets numerous poems covering broad range genres including tragedy comedy history tragedies human condition shakespeares tragedies hamlet macbeth othello king lear explore deepest aspects human conditionambition guilt revenge madness plays shakespeare examined complexities human soul often portraying noble characters brought low flaws external forces tragic heros journey toward selfawareness destruction theme resonates across time characters like hamlet indecisive prince macbeth ambitious king continuing inspire readers actors alike comedies joy life contrast tragedies shakespeares comedies midsummer nights dream much ado nothing twelfth night provide lighthearted exploration human relationships often focusing love identity mistaken identities\n",
            "\n",
            "Rank: 3\n",
            "Document: Biography of a Fictional Poet - William Shakespeare.txt\n",
            "Chunk Text: valuable insights enduring legacy poet playwright lies not universal themes works also mastery language ability evoke empathy unique insight human experience enduring poet william shakespeare died april 23 1616 leaving behind body work continues captivate audiences scholars artists around world death marked end era poets influence lives every corner world man stratford vivid imagination masterful command english language remains monumental figure whose works read performed loved centuries come\n",
            "\n"
          ]
        }
      ]
    },
    {
      "cell_type": "markdown",
      "source": [
        "same as before, but we are trying to run it conversational (receive user input as the chatbot formatted)"
      ],
      "metadata": {
        "id": "WsupsSLRvtQo"
      }
    },
    {
      "cell_type": "code",
      "source": [
        "# Initialize query history\n",
        "query_history = []\n",
        "\n",
        "# Function to handle multi-turn query processing with user input\n",
        "def interactive_query(model, index, metadata):\n",
        "    print(\"Welcome to the interactive query system! Type 'exit' to stop.\")\n",
        "\n",
        "    # Loop to receive user queries\n",
        "    while True:\n",
        "        # Prompt for user input\n",
        "        user_query = input(\"Enter your query: \")\n",
        "\n",
        "        if user_query.lower() == 'exit':  # Exit condition\n",
        "            print(\"Exiting the interactive query system.\")\n",
        "            break\n",
        "\n",
        "        # Call the retrieval function with the current query and the history\n",
        "        results = retrieve_chunks_with_context(user_query, model, index, metadata, query_history, top_k=3)\n",
        "\n",
        "        # Display the results for the current query\n",
        "        print(f\"\\nQuery: {user_query}\")\n",
        "        for result in results:\n",
        "            print(f\"Rank: {result['rank']}\")\n",
        "            print(f\"Document: {result['document_name']}\")\n",
        "            print(f\"Chunk Text: {result['chunk_text']}\\n\")\n",
        "\n",
        "        # Add the current query to history\n",
        "        query_history.append(user_query)\n",
        "\n",
        "# Assuming model, index, and metadata are already defined\n",
        "# Call the function to start the interactive query session\n",
        "interactive_query(model2, index, metadata)\n"
      ],
      "metadata": {
        "colab": {
          "base_uri": "https://localhost:8080/"
        },
        "id": "z2Sh0vBuukU1",
        "outputId": "6bdbfd6d-f9d1-4e2f-e9c0-0bf8b4b6798b"
      },
      "execution_count": 43,
      "outputs": [
        {
          "output_type": "stream",
          "name": "stdout",
          "text": [
            "Welcome to the interactive query system! Type 'exit' to stop.\n",
            "Enter your query: exit\n",
            "Exiting the interactive query system.\n"
          ]
        }
      ]
    },
    {
      "cell_type": "markdown",
      "source": [
        "# Step 6: RAG Pipeline Simulation ✅"
      ],
      "metadata": {
        "id": "qHhnsfSawCRM"
      }
    },
    {
      "cell_type": "markdown",
      "source": [
        "## llama2 : fails"
      ],
      "metadata": {
        "id": "7Yjkba8Zm7I4"
      }
    },
    {
      "cell_type": "code",
      "source": [
        "!pip install torch\n",
        "!pip install transformers"
      ],
      "metadata": {
        "colab": {
          "base_uri": "https://localhost:8080/"
        },
        "id": "F_Zs4gCGB_s9",
        "outputId": "80b479bc-f448-4f59-da8e-371b056c4eb9"
      },
      "execution_count": 36,
      "outputs": [
        {
          "output_type": "stream",
          "name": "stdout",
          "text": [
            "Requirement already satisfied: torch in /usr/local/lib/python3.10/dist-packages (2.5.1+cu121)\n",
            "Requirement already satisfied: filelock in /usr/local/lib/python3.10/dist-packages (from torch) (3.16.1)\n",
            "Requirement already satisfied: typing-extensions>=4.8.0 in /usr/local/lib/python3.10/dist-packages (from torch) (4.12.2)\n",
            "Requirement already satisfied: networkx in /usr/local/lib/python3.10/dist-packages (from torch) (3.4.2)\n",
            "Requirement already satisfied: jinja2 in /usr/local/lib/python3.10/dist-packages (from torch) (3.1.4)\n",
            "Requirement already satisfied: fsspec in /usr/local/lib/python3.10/dist-packages (from torch) (2024.10.0)\n",
            "Requirement already satisfied: sympy==1.13.1 in /usr/local/lib/python3.10/dist-packages (from torch) (1.13.1)\n",
            "Requirement already satisfied: mpmath<1.4,>=1.1.0 in /usr/local/lib/python3.10/dist-packages (from sympy==1.13.1->torch) (1.3.0)\n",
            "Requirement already satisfied: MarkupSafe>=2.0 in /usr/local/lib/python3.10/dist-packages (from jinja2->torch) (3.0.2)\n",
            "Requirement already satisfied: transformers in /usr/local/lib/python3.10/dist-packages (4.46.2)\n",
            "Requirement already satisfied: filelock in /usr/local/lib/python3.10/dist-packages (from transformers) (3.16.1)\n",
            "Requirement already satisfied: huggingface-hub<1.0,>=0.23.2 in /usr/local/lib/python3.10/dist-packages (from transformers) (0.26.2)\n",
            "Requirement already satisfied: numpy>=1.17 in /usr/local/lib/python3.10/dist-packages (from transformers) (1.26.4)\n",
            "Requirement already satisfied: packaging>=20.0 in /usr/local/lib/python3.10/dist-packages (from transformers) (24.2)\n",
            "Requirement already satisfied: pyyaml>=5.1 in /usr/local/lib/python3.10/dist-packages (from transformers) (6.0.2)\n",
            "Requirement already satisfied: regex!=2019.12.17 in /usr/local/lib/python3.10/dist-packages (from transformers) (2024.9.11)\n",
            "Requirement already satisfied: requests in /usr/local/lib/python3.10/dist-packages (from transformers) (2.32.3)\n",
            "Requirement already satisfied: safetensors>=0.4.1 in /usr/local/lib/python3.10/dist-packages (from transformers) (0.4.5)\n",
            "Requirement already satisfied: tokenizers<0.21,>=0.20 in /usr/local/lib/python3.10/dist-packages (from transformers) (0.20.3)\n",
            "Requirement already satisfied: tqdm>=4.27 in /usr/local/lib/python3.10/dist-packages (from transformers) (4.66.6)\n",
            "Requirement already satisfied: fsspec>=2023.5.0 in /usr/local/lib/python3.10/dist-packages (from huggingface-hub<1.0,>=0.23.2->transformers) (2024.10.0)\n",
            "Requirement already satisfied: typing-extensions>=3.7.4.3 in /usr/local/lib/python3.10/dist-packages (from huggingface-hub<1.0,>=0.23.2->transformers) (4.12.2)\n",
            "Requirement already satisfied: charset-normalizer<4,>=2 in /usr/local/lib/python3.10/dist-packages (from requests->transformers) (3.4.0)\n",
            "Requirement already satisfied: idna<4,>=2.5 in /usr/local/lib/python3.10/dist-packages (from requests->transformers) (3.10)\n",
            "Requirement already satisfied: urllib3<3,>=1.21.1 in /usr/local/lib/python3.10/dist-packages (from requests->transformers) (2.2.3)\n",
            "Requirement already satisfied: certifi>=2017.4.17 in /usr/local/lib/python3.10/dist-packages (from requests->transformers) (2024.8.30)\n"
          ]
        }
      ]
    },
    {
      "cell_type": "code",
      "source": [
        "from huggingface_hub import notebook_login\n",
        "\n",
        "notebook_login()"
      ],
      "metadata": {
        "colab": {
          "base_uri": "https://localhost:8080/",
          "height": 17,
          "referenced_widgets": [
            "a9ca1728db2246589b119dbc0b11d4b3",
            "075357496d8340d19ee4d8206ac6132e",
            "abf31e85f0744911ad195753a6f5f37a",
            "94370de00d914e788b595cf9e01a11c9",
            "b690ffaa49734b51a8d321ce9ea4e541",
            "20eb1622da9e468cbd38e3c5a05ed24d",
            "629cc03fdbba4bfa9835332fc8f06055",
            "93ec8e3075584339ac0fe8f52b24f765",
            "557c01f6a8b44e7b985900b356a53147",
            "49659ab6744c4e7facdeb71788419ade",
            "df2af93e6a634482932ecbcbc33d2356",
            "812ef8cf37ca4ad7855ccfea114ad298",
            "aa60456b995741e98606ab1631e404e5",
            "567bd8d095574912af8757c20acf92f3",
            "4398694434274aba8f35f2645a72af58",
            "e6aafc94a0a743bb916974a65a0b18ea",
            "8f7271b0716c41c7b397ce9cda23426d",
            "1804447bfe31446ea8af9ccad085d6c3",
            "8ab67b07a2684bf4adc38b3f823767d2",
            "02984f704ea447d593030823d165d7ca"
          ]
        },
        "id": "4lE-SI-JB8ig",
        "outputId": "8c7ee0e5-1ab9-42c1-bfc3-c484c14bfafe"
      },
      "execution_count": 37,
      "outputs": [
        {
          "output_type": "display_data",
          "data": {
            "text/plain": [
              "VBox(children=(HTML(value='<center> <img\\nsrc=https://huggingface.co/front/assets/huggingface_logo-noborder.sv…"
            ],
            "application/vnd.jupyter.widget-view+json": {
              "version_major": 2,
              "version_minor": 0,
              "model_id": "a9ca1728db2246589b119dbc0b11d4b3"
            }
          },
          "metadata": {}
        }
      ]
    },
    {
      "cell_type": "code",
      "source": [
        "import torch\n",
        "\n",
        "# Check for CUDA availability and set the device accordingly\n",
        "if torch.cuda.is_available():\n",
        "    device = torch.device(\"cuda\")\n",
        "    print(\"Using GPU\")\n",
        "else:\n",
        "    device = torch.device(\"cpu\")\n",
        "    print(\"Using CPU\")"
      ],
      "metadata": {
        "colab": {
          "base_uri": "https://localhost:8080/"
        },
        "id": "E9958hbAEGYP",
        "outputId": "ce4d5ca1-8a93-4f9e-abd1-615bd3b2f2fd"
      },
      "execution_count": 38,
      "outputs": [
        {
          "output_type": "stream",
          "name": "stdout",
          "text": [
            "Using GPU\n"
          ]
        }
      ]
    },
    {
      "cell_type": "code",
      "source": [
        "from transformers import AutoModelForCausalLM, AutoTokenizer"
      ],
      "metadata": {
        "id": "aAIKfuQlCXfa"
      },
      "execution_count": 39,
      "outputs": []
    },
    {
      "cell_type": "code",
      "source": [
        "# Load the Hugging Face GPT-2 model and tokenizer\n",
        "def load_model():\n",
        "    model_name = \"meta-llama/Llama-2-7b-chat-hf\"\n",
        "    model = AutoModelForCausalLM.from_pretrained(model_name,  low_cpu_mem_usage=True, torch_dtype=torch.float16, device_map=\"auto\")\n",
        "    tokenizer = AutoTokenizer.from_pretrained(model_name)\n",
        "    tokenizer.pad_token = tokenizer.eos_token\n",
        "\n",
        "    # Ensure the model is in evaluation mode\n",
        "    model.eval()\n",
        "\n",
        "    return model, tokenizer"
      ],
      "metadata": {
        "id": "82e0_Ae2w3yT"
      },
      "execution_count": 44,
      "outputs": []
    },
    {
      "cell_type": "code",
      "source": [
        "def generate_response_with_context(query, model, tokenizer, index, metadata, query_history, top_k=3):\n",
        "    retrieval_results = retrieve_chunks_with_context(query, model, index, metadata, query_history, top_k)\n",
        "    context = \"\\n\".join([result['chunk_text'] for result in retrieval_results])\n",
        "\n",
        "    # Modified prompt with clear delimiter\n",
        "    input_text = f\"Query: {query}\\nContext:\\n{context}\\n### Answer ###\"\n",
        "    inputs = tokenizer(input_text, return_tensors='pt', max_length=1024, truncation=True, padding=True, return_attention_mask=True)\n",
        "    inputs = {k: v.to(device) for k, v in inputs.items()}\n",
        "\n",
        "    with torch.no_grad():\n",
        "        outputs = model.generate(input_ids=inputs['input_ids'], attention_mask=inputs['attention_mask'], max_new_tokens=200, num_return_sequences=1, no_repeat_ngram_size=2, top_p=0.92, top_k=50)\n",
        "\n",
        "    response = tokenizer.decode(outputs[0], skip_special_tokens=True)\n",
        "\n",
        "    # Modified answer extraction\n",
        "    answer_start_index = response.find('### Answer ###') + len('### Answer ###')\n",
        "    answer = response[answer_start_index:].strip()\n",
        "\n",
        "    return answer, retrieval_results"
      ],
      "metadata": {
        "id": "hZD1cgafw6Gj"
      },
      "execution_count": 80,
      "outputs": []
    },
    {
      "cell_type": "code",
      "source": [
        "# Example of how to run the RAG pipeline\n",
        "def rag_pipeline(query, model, tokenizer, index, metadata, query_history):\n",
        "    # Generate response with context\n",
        "    answer, retrieval_results = generate_response_with_context(query, model, tokenizer, index, metadata, query_history, top_k=3)\n",
        "\n",
        "    # Print the retrieved chunks (context)\n",
        "    print(\"\\nRetrieved Context:\")\n",
        "    for result in retrieval_results:\n",
        "        print(f\"Rank: {result['rank']} | Document: {result['document_name']}\")\n",
        "        print(result['chunk_text'][:150] + \"...\")  # Display the start of the chunk (trimmed for brevity)\n",
        "\n",
        "    # Output the generated answer\n",
        "    print(\"\\nGenerated Answer:\")\n",
        "    print(answer)\n",
        "\n",
        "    return answer"
      ],
      "metadata": {
        "id": "JM9dQqPiw81r"
      },
      "execution_count": 81,
      "outputs": []
    },
    {
      "cell_type": "code",
      "source": [
        "# Initialize the model and tokenizer\n",
        "model, tokenizer = load_model()"
      ],
      "metadata": {
        "colab": {
          "base_uri": "https://localhost:8080/",
          "height": 209,
          "referenced_widgets": [
            "f03b05985b084d36be02e48e4adad192",
            "bbc28bfa8c754c61a4d00f3ee83c0a97",
            "0f1369c766264291bdc1555f484441e5",
            "4dfa8f46860a4a41ad4ce0aa9a5b9428",
            "24d33c70599e472fa5d66c7fb37f6ab7",
            "a3d945907934431ca29c309c03a06d30",
            "96596bc0f0bc4cfe8a4f33d1f4304d4a",
            "fc2aa43e08704d2fabbf078fecb93982",
            "eeb4edcca9ee4a648dd060451ce03a86",
            "006f6605107c4f30a455936f2314674d",
            "6f72cf93e01b4c298015206cd8321f62",
            "f95a4bdecaaa462fa3d209f02417eb62",
            "ce575f6650bd4904ba9357a56288cfc7",
            "71a6a1614d2240be96ba647cba646a60",
            "6d4f2723e5eb4ab5bddcdd86b3dbf5b2",
            "a61188d408a7460b9b37aa9b1c4d6d69",
            "d025fa2b9f4b45d6a018ea231b91508c",
            "9d73c4cef7664eac905e3c22ebf9d80a",
            "c5a7f56facdc4557b5cb55d5ff5898c5",
            "89adaf7d95cf4473bea28e3ed917de9d",
            "04eac8bd3a7d447698d3c433555ab826",
            "370a817169a84e929cf0a3eca4ea4d0d",
            "abc7cd6fc4134cf4a6842434268cd065",
            "9ac9550847f74130959143184b14a447",
            "81653c12f0c24f2aa71d9eb7f4ef5297",
            "0ddf62e5d46946b2b1a416736f8ca3d6",
            "fd709388583b4bef9641633626757118",
            "5861259f607a4f72980fc044fa0614c4",
            "67e81cc8ebd7452e8086d7931de993ef",
            "9849c2683cd3428f91d70b0901409d26",
            "a3adab1789a64e84b2ec60dc252ac67c",
            "dbe6dbd17d08494599ffd3cb8fe51639",
            "cf54bc7e09974dc0ba5e57e847e59186",
            "02f192ba11704db387be7f300725f3bc",
            "10d463b9f3e646b1a5f3fbc1dac0e5ac",
            "3d9dff9c18fc4ee0a5ac806baa3b398d",
            "5c357c10aa5049a687683a59e65115e6",
            "1f68462673824f0d8323978b6b2999af",
            "5036fde15bbc42838cb6373f015abd8e",
            "b9a6044923c2442a879fc30ec0961ff0",
            "758222d029ab4cc4a225c06faafb54a9",
            "1b2e9e339fb84320956edfe227ad1f1c",
            "7325bec707bb48c98d07415a068bdfeb",
            "8f2e902bece4484aae6006f9baf6f7d2",
            "4c33785aed954a80bf8277410a8de6f9",
            "27ed5118bf0946a9a2aa55c0fb333b11",
            "c1cfc09c1a4e4d0a9e57446ceb0c60d4",
            "d5b0f8f225f64efc80ba05293d0912f9",
            "4ded988552034ce6b8230975f1137966",
            "078482df94d14aad81a8131937ea4aa3",
            "959adb322d80493b9d7e649971ecc2d6",
            "d5cc00dd37d945828e85b152ed56c5b7",
            "075f154aa55142aeb7cff15699496bb6",
            "316a9b82e0d0481c8a5abdc76e048ecf",
            "363ee20c3dc24f348fc92d9acc5dddd7",
            "df02fe01b864484c9bb329436a632241",
            "1ed1ed7fc99b4234984d24d65f68767f",
            "e06a380e51cb4700bddf72bea185533a",
            "703b854b8fa945d685654a3d615ff1c4",
            "56a7ef29731f46aaa7a5bcaea597cfe7",
            "581a92e52456469aadde3c3875096fed",
            "3216fc0b0ef24f57a587755aa6f6b2a0",
            "cf6c75de9a954e8ab4d6099746cb7c43",
            "3a185f6c77d94fb28aabf77dcd19a9a0",
            "875a333d1d8144b989c05e59affc6c13",
            "342a65159618452e94841091e9adde06"
          ]
        },
        "id": "RsUohFfWw-1X",
        "outputId": "429a6f3e-0850-44cf-e44d-32ce7b1bf3dd"
      },
      "execution_count": 47,
      "outputs": [
        {
          "output_type": "display_data",
          "data": {
            "text/plain": [
              "Loading checkpoint shards:   0%|          | 0/2 [00:00<?, ?it/s]"
            ],
            "application/vnd.jupyter.widget-view+json": {
              "version_major": 2,
              "version_minor": 0,
              "model_id": "f03b05985b084d36be02e48e4adad192"
            }
          },
          "metadata": {}
        },
        {
          "output_type": "display_data",
          "data": {
            "text/plain": [
              "generation_config.json:   0%|          | 0.00/188 [00:00<?, ?B/s]"
            ],
            "application/vnd.jupyter.widget-view+json": {
              "version_major": 2,
              "version_minor": 0,
              "model_id": "f95a4bdecaaa462fa3d209f02417eb62"
            }
          },
          "metadata": {}
        },
        {
          "output_type": "display_data",
          "data": {
            "text/plain": [
              "tokenizer_config.json:   0%|          | 0.00/1.62k [00:00<?, ?B/s]"
            ],
            "application/vnd.jupyter.widget-view+json": {
              "version_major": 2,
              "version_minor": 0,
              "model_id": "abc7cd6fc4134cf4a6842434268cd065"
            }
          },
          "metadata": {}
        },
        {
          "output_type": "display_data",
          "data": {
            "text/plain": [
              "tokenizer.model:   0%|          | 0.00/500k [00:00<?, ?B/s]"
            ],
            "application/vnd.jupyter.widget-view+json": {
              "version_major": 2,
              "version_minor": 0,
              "model_id": "02f192ba11704db387be7f300725f3bc"
            }
          },
          "metadata": {}
        },
        {
          "output_type": "display_data",
          "data": {
            "text/plain": [
              "tokenizer.json:   0%|          | 0.00/1.84M [00:00<?, ?B/s]"
            ],
            "application/vnd.jupyter.widget-view+json": {
              "version_major": 2,
              "version_minor": 0,
              "model_id": "4c33785aed954a80bf8277410a8de6f9"
            }
          },
          "metadata": {}
        },
        {
          "output_type": "display_data",
          "data": {
            "text/plain": [
              "special_tokens_map.json:   0%|          | 0.00/414 [00:00<?, ?B/s]"
            ],
            "application/vnd.jupyter.widget-view+json": {
              "version_major": 2,
              "version_minor": 0,
              "model_id": "df02fe01b864484c9bb329436a632241"
            }
          },
          "metadata": {}
        }
      ]
    },
    {
      "cell_type": "code",
      "source": [
        "# Example multi-turn query\n",
        "query = \"BOSCH 0607595100 cutting speed\"\n",
        "\n",
        "# Call the RAG pipeline (assuming index and metadata are defined)\n",
        "answer = rag_pipeline(query, model, tokenizer, index, metadata, query_history)"
      ],
      "metadata": {
        "id": "9jxXiRSGxHbk",
        "colab": {
          "base_uri": "https://localhost:8080/"
        },
        "outputId": "5871ce5f-ed07-482b-8862-417ab40b7d7c"
      },
      "execution_count": 76,
      "outputs": [
        {
          "output_type": "stream",
          "name": "stdout",
          "text": [
            "\n",
            "Retrieved Context:\n",
            "Rank: 1 | Document: BOSCH 0607595100 - Compressed Air Foam Cutter up to 300 mm, 3800 Strokes_Min.txt\n",
            "bosch 0607595100 compressed air foam cutter 300 mm 3800 strokesmin description bosch 0607595100 highperformance compressed air foam cutter designed pr...\n",
            "Rank: 2 | Document: STANLEY SFMCS650B-XJ - 18V 4.0 Ah Brushless Jigsaw (Without Batteries and Charger).txt\n",
            "stanley sfmcs650bxj 18v 40 ah brushless jigsaw without batteries charger description stanley sfmcs650bxj powerful 18v brushless jigsaw designed delive...\n",
            "Rank: 3 | Document: Ducati Panigale V4 Engine.txt\n",
            "precision powerful dual front disc brakes provide excellent stopping power allowing riders push limits confidence fuel efficiency despite performance ...\n",
            "\n",
            "Generated Answer:\n",
            "Based on the provided information, the cutting Speed of the Bosch Compressed Air Foam Cutter 90 is 58 m/s.\n",
            "The cutting performance of this tool is excellent, and it can make smooth and rapid cut foams. The tool has a high-speed air-driven engine, which provides maximum efficiency and durable performance in industrial and commercial settings. Its ergonometric design and light weight make it easy to handle and use. Additionally, it has an adjusted pivotal action that enables fast and precise cut in intricately cutting jobs.\n"
          ]
        }
      ]
    },
    {
      "cell_type": "code",
      "source": [
        "# this is to refresh the query history\n",
        "query_history = []"
      ],
      "metadata": {
        "id": "5cK2TFsMJKeU"
      },
      "execution_count": 78,
      "outputs": []
    },
    {
      "cell_type": "markdown",
      "source": [
        "## openai : fails due to api service not free"
      ],
      "metadata": {
        "id": "shnU4p2IX5gp"
      }
    },
    {
      "cell_type": "code",
      "source": [
        "pip install openai==0.28.0"
      ],
      "metadata": {
        "colab": {
          "base_uri": "https://localhost:8080/"
        },
        "collapsed": true,
        "id": "vA8EKUxTXuOu",
        "outputId": "20ee93d3-57c4-44e9-a63d-195e182be327"
      },
      "execution_count": 6,
      "outputs": [
        {
          "output_type": "stream",
          "name": "stdout",
          "text": [
            "Requirement already satisfied: openai==0.28.0 in /usr/local/lib/python3.10/dist-packages (0.28.0)\n",
            "Requirement already satisfied: requests>=2.20 in /usr/local/lib/python3.10/dist-packages (from openai==0.28.0) (2.32.3)\n",
            "Requirement already satisfied: tqdm in /usr/local/lib/python3.10/dist-packages (from openai==0.28.0) (4.66.6)\n",
            "Requirement already satisfied: aiohttp in /usr/local/lib/python3.10/dist-packages (from openai==0.28.0) (3.11.2)\n",
            "Requirement already satisfied: charset-normalizer<4,>=2 in /usr/local/lib/python3.10/dist-packages (from requests>=2.20->openai==0.28.0) (3.4.0)\n",
            "Requirement already satisfied: idna<4,>=2.5 in /usr/local/lib/python3.10/dist-packages (from requests>=2.20->openai==0.28.0) (3.10)\n",
            "Requirement already satisfied: urllib3<3,>=1.21.1 in /usr/local/lib/python3.10/dist-packages (from requests>=2.20->openai==0.28.0) (2.2.3)\n",
            "Requirement already satisfied: certifi>=2017.4.17 in /usr/local/lib/python3.10/dist-packages (from requests>=2.20->openai==0.28.0) (2024.8.30)\n",
            "Requirement already satisfied: aiohappyeyeballs>=2.3.0 in /usr/local/lib/python3.10/dist-packages (from aiohttp->openai==0.28.0) (2.4.3)\n",
            "Requirement already satisfied: aiosignal>=1.1.2 in /usr/local/lib/python3.10/dist-packages (from aiohttp->openai==0.28.0) (1.3.1)\n",
            "Requirement already satisfied: attrs>=17.3.0 in /usr/local/lib/python3.10/dist-packages (from aiohttp->openai==0.28.0) (24.2.0)\n",
            "Requirement already satisfied: frozenlist>=1.1.1 in /usr/local/lib/python3.10/dist-packages (from aiohttp->openai==0.28.0) (1.5.0)\n",
            "Requirement already satisfied: multidict<7.0,>=4.5 in /usr/local/lib/python3.10/dist-packages (from aiohttp->openai==0.28.0) (6.1.0)\n",
            "Requirement already satisfied: propcache>=0.2.0 in /usr/local/lib/python3.10/dist-packages (from aiohttp->openai==0.28.0) (0.2.0)\n",
            "Requirement already satisfied: yarl<2.0,>=1.17.0 in /usr/local/lib/python3.10/dist-packages (from aiohttp->openai==0.28.0) (1.17.2)\n",
            "Requirement already satisfied: async-timeout<6.0,>=4.0 in /usr/local/lib/python3.10/dist-packages (from aiohttp->openai==0.28.0) (4.0.3)\n",
            "Requirement already satisfied: typing-extensions>=4.1.0 in /usr/local/lib/python3.10/dist-packages (from multidict<7.0,>=4.5->aiohttp->openai==0.28.0) (4.12.2)\n",
            "Traceback (most recent call last):\n",
            "  File \"/usr/local/lib/python3.10/dist-packages/pip/_vendor/pkg_resources/__init__.py\", line 3070, in _dep_map\n",
            "    return self.__dep_map\n",
            "  File \"/usr/local/lib/python3.10/dist-packages/pip/_vendor/pkg_resources/__init__.py\", line 2863, in __getattr__\n",
            "    raise AttributeError(attr)\n",
            "AttributeError: _DistInfoDistribution__dep_map\n",
            "\n",
            "During handling of the above exception, another exception occurred:\n",
            "\n",
            "Traceback (most recent call last):\n",
            "  File \"/usr/local/lib/python3.10/dist-packages/pip/_internal/cli/base_command.py\", line 179, in exc_logging_wrapper\n",
            "    status = run_func(*args)\n",
            "  File \"/usr/local/lib/python3.10/dist-packages/pip/_internal/cli/req_command.py\", line 67, in wrapper\n",
            "    return func(self, options, args)\n",
            "  File \"/usr/local/lib/python3.10/dist-packages/pip/_internal/commands/install.py\", line 447, in run\n",
            "    conflicts = self._determine_conflicts(to_install)\n",
            "  File \"/usr/local/lib/python3.10/dist-packages/pip/_internal/commands/install.py\", line 578, in _determine_conflicts\n",
            "    return check_install_conflicts(to_install)\n",
            "  File \"/usr/local/lib/python3.10/dist-packages/pip/_internal/operations/check.py\", line 101, in check_install_conflicts\n",
            "    package_set, _ = create_package_set_from_installed()\n",
            "  File \"/usr/local/lib/python3.10/dist-packages/pip/_internal/operations/check.py\", line 42, in create_package_set_from_installed\n",
            "    dependencies = list(dist.iter_dependencies())\n",
            "  File \"/usr/local/lib/python3.10/dist-packages/pip/_internal/metadata/pkg_resources.py\", line 247, in iter_dependencies\n",
            "    return self._dist.requires(extras)\n",
            "  File \"/usr/local/lib/python3.10/dist-packages/pip/_vendor/pkg_resources/__init__.py\", line 2786, in requires\n",
            "    dm = self._dep_map\n",
            "  File \"/usr/local/lib/python3.10/dist-packages/pip/_vendor/pkg_resources/__init__.py\", line 3072, in _dep_map\n",
            "    self.__dep_map = self._compute_dependencies()\n",
            "  File \"/usr/local/lib/python3.10/dist-packages/pip/_vendor/pkg_resources/__init__.py\", line 3082, in _compute_dependencies\n",
            "    reqs.extend(parse_requirements(req))\n",
            "  File \"/usr/local/lib/python3.10/dist-packages/pip/_vendor/pkg_resources/__init__.py\", line 3135, in __init__\n",
            "    super().__init__(requirement_string)\n",
            "  File \"/usr/local/lib/python3.10/dist-packages/pip/_vendor/packaging/requirements.py\", line 42, in __init__\n",
            "    self.extras: set[str] = set(parsed.extras or [])\n",
            "KeyboardInterrupt\n",
            "\n",
            "During handling of the above exception, another exception occurred:\n",
            "\n",
            "Traceback (most recent call last):\n",
            "  File \"/usr/local/bin/pip3\", line 8, in <module>\n",
            "    sys.exit(main())\n",
            "  File \"/usr/local/lib/python3.10/dist-packages/pip/_internal/cli/main.py\", line 80, in main\n",
            "    return command.main(cmd_args)\n",
            "  File \"/usr/local/lib/python3.10/dist-packages/pip/_internal/cli/base_command.py\", line 100, in main\n",
            "    return self._main(args)\n",
            "  File \"/usr/local/lib/python3.10/dist-packages/pip/_internal/cli/base_command.py\", line 232, in _main\n",
            "    return run(options, args)\n",
            "  File \"/usr/local/lib/python3.10/dist-packages/pip/_internal/cli/base_command.py\", line 215, in exc_logging_wrapper\n",
            "    logger.critical(\"Operation cancelled by user\")\n",
            "  File \"/usr/lib/python3.10/logging/__init__.py\", line 1524, in critical\n",
            "    self._log(CRITICAL, msg, args, **kwargs)\n",
            "  File \"/usr/lib/python3.10/logging/__init__.py\", line 1622, in _log\n",
            "    record = self.makeRecord(self.name, level, fn, lno, msg, args,\n",
            "  File \"/usr/lib/python3.10/logging/__init__.py\", line 1591, in makeRecord\n",
            "    rv = _logRecordFactory(name, level, fn, lno, msg, args, exc_info, func,\n",
            "  File \"/usr/lib/python3.10/logging/__init__.py\", line 317, in __init__\n",
            "    self.filename = os.path.basename(pathname)\n",
            "  File \"/usr/lib/python3.10/posixpath.py\", line 140, in basename\n",
            "    def basename(p):\n",
            "KeyboardInterrupt\n",
            "^C\n"
          ]
        }
      ]
    },
    {
      "cell_type": "code",
      "source": [
        "pip install openai"
      ],
      "metadata": {
        "colab": {
          "base_uri": "https://localhost:8080/"
        },
        "id": "ekiMEnXrPqoz",
        "outputId": "361beeae-8575-47bb-f1d7-81e23bfafd9b"
      },
      "execution_count": 140,
      "outputs": [
        {
          "output_type": "stream",
          "name": "stdout",
          "text": [
            "Requirement already satisfied: openai in /usr/local/lib/python3.10/dist-packages (1.54.4)\n",
            "Requirement already satisfied: anyio<5,>=3.5.0 in /usr/local/lib/python3.10/dist-packages (from openai) (3.7.1)\n",
            "Requirement already satisfied: distro<2,>=1.7.0 in /usr/local/lib/python3.10/dist-packages (from openai) (1.9.0)\n",
            "Requirement already satisfied: httpx<1,>=0.23.0 in /usr/local/lib/python3.10/dist-packages (from openai) (0.27.2)\n",
            "Requirement already satisfied: jiter<1,>=0.4.0 in /usr/local/lib/python3.10/dist-packages (from openai) (0.7.1)\n",
            "Requirement already satisfied: pydantic<3,>=1.9.0 in /usr/local/lib/python3.10/dist-packages (from openai) (2.9.2)\n",
            "Requirement already satisfied: sniffio in /usr/local/lib/python3.10/dist-packages (from openai) (1.3.1)\n",
            "Requirement already satisfied: tqdm>4 in /usr/local/lib/python3.10/dist-packages (from openai) (4.66.6)\n",
            "Requirement already satisfied: typing-extensions<5,>=4.11 in /usr/local/lib/python3.10/dist-packages (from openai) (4.12.2)\n",
            "Requirement already satisfied: idna>=2.8 in /usr/local/lib/python3.10/dist-packages (from anyio<5,>=3.5.0->openai) (3.10)\n",
            "Requirement already satisfied: exceptiongroup in /usr/local/lib/python3.10/dist-packages (from anyio<5,>=3.5.0->openai) (1.2.2)\n",
            "Requirement already satisfied: certifi in /usr/local/lib/python3.10/dist-packages (from httpx<1,>=0.23.0->openai) (2024.8.30)\n",
            "Requirement already satisfied: httpcore==1.* in /usr/local/lib/python3.10/dist-packages (from httpx<1,>=0.23.0->openai) (1.0.7)\n",
            "Requirement already satisfied: h11<0.15,>=0.13 in /usr/local/lib/python3.10/dist-packages (from httpcore==1.*->httpx<1,>=0.23.0->openai) (0.14.0)\n",
            "Requirement already satisfied: annotated-types>=0.6.0 in /usr/local/lib/python3.10/dist-packages (from pydantic<3,>=1.9.0->openai) (0.7.0)\n",
            "Requirement already satisfied: pydantic-core==2.23.4 in /usr/local/lib/python3.10/dist-packages (from pydantic<3,>=1.9.0->openai) (2.23.4)\n"
          ]
        }
      ]
    },
    {
      "cell_type": "code",
      "source": [
        "import os\n",
        "import openai\n",
        "\n",
        "# Set your OpenAI API key\n",
        "openai.api_key = \"\""
      ],
      "metadata": {
        "id": "9Js_njt4Ps63"
      },
      "execution_count": 63,
      "outputs": []
    },
    {
      "cell_type": "code",
      "source": [
        "from sentence_transformers import SentenceTransformer\n",
        "\n",
        "# Load the same embedding model you used to create the embeddings\n",
        "embed_model = SentenceTransformer(\"all-MiniLM-L6-v2\")  # Replace with your desired model\n"
      ],
      "metadata": {
        "id": "WcZ3SUKxWRuB"
      },
      "execution_count": 64,
      "outputs": []
    },
    {
      "cell_type": "code",
      "source": [
        "import openai\n",
        "from openai.error import RateLimitError\n",
        "\n",
        "def generate_response_with_openai(query, retrieved_chunks, model=\"gpt-3.5-turbo\"):\n",
        "    \"\"\"\n",
        "    Generate a response using OpenAI's API with error handling for RateLimitError.\n",
        "    \"\"\"\n",
        "    try:\n",
        "        # Prepare context\n",
        "        context = \"\\n\\n\".join([f\"Chunk {i+1}: {chunk['chunk_text']}\" for i, chunk in enumerate(retrieved_chunks)])\n",
        "        system_prompt = (\n",
        "            \"You are an intelligent assistant. Use the following context to answer the user's query:\\n\"\n",
        "            f\"{context}\\n\\nRespond concisely and clearly.\"\n",
        "        )\n",
        "        messages = [\n",
        "            {\"role\": \"system\", \"content\": system_prompt},\n",
        "            {\"role\": \"user\", \"content\": query}\n",
        "        ]\n",
        "\n",
        "        # Generate response\n",
        "        response = openai.ChatCompletion.create(\n",
        "            model=model,\n",
        "            messages=messages\n",
        "        )\n",
        "        return response['choices'][0]['message']['content']\n",
        "    except RateLimitError:\n",
        "        return \"The system is currently overloaded or you’ve exceeded your quota. Please try again later.\"\n"
      ],
      "metadata": {
        "id": "haD6iQJ1Rv9m"
      },
      "execution_count": 65,
      "outputs": []
    },
    {
      "cell_type": "code",
      "source": [
        "def retrieve_chunks_with_context(query, index, metadata, query_history=None, top_k=3):\n",
        "    \"\"\"\n",
        "    Retrieve top-k relevant chunks for a query using cosine similarity and FAISS index.\n",
        "    Incorporates query history for multi-turn context handling.\n",
        "\n",
        "    Args:\n",
        "        query (str): User query.\n",
        "        index: FAISS index.\n",
        "        metadata (list of tuples): Metadata associated with embeddings.\n",
        "        query_history (list): History of previous queries for multi-turn interactions.\n",
        "        top_k (int): Number of top chunks to retrieve.\n",
        "\n",
        "    Returns:\n",
        "        list: Top-k retrieved chunks with metadata.\n",
        "    \"\"\"\n",
        "    from sklearn.metrics.pairwise import cosine_similarity\n",
        "\n",
        "    # Initialize query history if None\n",
        "    if query_history is None:\n",
        "        query_history = []\n",
        "\n",
        "    # Combine query history into a single context\n",
        "    combined_query = \" \".join(query_history + [query])\n",
        "\n",
        "    # Convert the query to an embedding\n",
        "    query_embedding = embed_model.encode([combined_query])\n",
        "\n",
        "    # Search FAISS index for top-k most similar chunks\n",
        "    distances, indices = index.search(query_embedding, top_k)\n",
        "\n",
        "    # Prepare retrieved chunks with metadata\n",
        "    retrieved_chunks = []\n",
        "    for rank, (dist, idx) in enumerate(zip(distances[0], indices[0])):\n",
        "        if idx != -1:  # Ensure valid index\n",
        "            chunk_text, document_name = metadata[idx]  # Unpack tuple\n",
        "            retrieved_chunks.append({\n",
        "                \"rank\": rank + 1,\n",
        "                \"chunk_text\": chunk_text,\n",
        "                \"document_name\": document_name,\n",
        "                \"similarity_score\": dist\n",
        "            })\n",
        "\n",
        "    return retrieved_chunks\n"
      ],
      "metadata": {
        "id": "MOyGOMKqWDTE"
      },
      "execution_count": 66,
      "outputs": []
    },
    {
      "cell_type": "code",
      "source": [
        "def rag_pipeline_openai(query, index, metadata, query_history=None, model=\"gpt-4\", top_k=3):\n",
        "    \"\"\"\n",
        "    Complete RAG pipeline using OpenAI API for response generation.\n",
        "\n",
        "    Args:\n",
        "        query (str): User query.\n",
        "        index: FAISS index.\n",
        "        metadata: Metadata associated with embeddings.\n",
        "        query_history (list): History of previous queries for multi-turn interactions.\n",
        "        model (str): OpenAI model to use.\n",
        "        top_k (int): Number of top chunks to retrieve.\n",
        "\n",
        "    Returns:\n",
        "        str: Generated response from the RAG pipeline.\n",
        "    \"\"\"\n",
        "    # Ensure query_history is initialized\n",
        "    if query_history is None:\n",
        "        query_history = []\n",
        "\n",
        "    # Add the current query to the query history\n",
        "    query_history.append(query)\n",
        "\n",
        "    # Retrieve top-k relevant chunks\n",
        "    retrieved_chunks = retrieve_chunks_with_context(query, index, metadata, query_history, top_k=top_k)\n",
        "\n",
        "    # Display retrieved context for debugging\n",
        "    print(\"\\nRetrieved Context:\")\n",
        "    for chunk in retrieved_chunks:\n",
        "        print(f\"Rank: {chunk['rank']} | Document: {chunk['document_name']} | Similarity Score: {chunk['similarity_score']:.4f}\")\n",
        "        print(chunk['chunk_text'][:150] + \"...\")  # Display a preview of each chunk\n",
        "\n",
        "    # Generate a response using OpenAI API\n",
        "    response = generate_response_with_openai(query, retrieved_chunks, model)\n",
        "\n",
        "    print(\"\\nGenerated Answer:\")\n",
        "    print(response)\n",
        "\n",
        "    return response\n"
      ],
      "metadata": {
        "id": "hK7_jwPsVJj3"
      },
      "execution_count": 67,
      "outputs": []
    },
    {
      "cell_type": "code",
      "source": [
        "import openai\n",
        "\n",
        "# List available models\n",
        "models = openai.Model.list()\n",
        "print([model['id'] for model in models['data']])"
      ],
      "metadata": {
        "colab": {
          "base_uri": "https://localhost:8080/"
        },
        "id": "F5Px6HMDXcU-",
        "outputId": "9cb2ea7c-574b-4a2e-8492-828be6846e03"
      },
      "execution_count": 68,
      "outputs": [
        {
          "output_type": "stream",
          "name": "stdout",
          "text": [
            "['o1-preview-2024-09-12', 'o1-mini-2024-09-12', 'dall-e-2', 'o1-preview', 'gpt-3.5-turbo', 'text-embedding-3-large', 'gpt-3.5-turbo-0125', 'babbage-002', 'davinci-002', 'whisper-1', 'dall-e-3', 'gpt-3.5-turbo-16k', 'tts-1-hd-1106', 'text-embedding-ada-002', 'gpt-4o-mini-2024-07-18', 'gpt-4o-mini', 'o1-mini', 'text-embedding-3-small', 'tts-1-hd', 'gpt-3.5-turbo-1106', 'gpt-3.5-turbo-instruct', 'tts-1', 'tts-1-1106', 'gpt-3.5-turbo-instruct-0914']\n"
          ]
        }
      ]
    },
    {
      "cell_type": "code",
      "source": [
        "query = \"What are the key themes in Hamlet?\"\n",
        "query_history = []\n",
        "\n",
        "response = rag_pipeline_openai(query, index, metadata, query_history, model=\"tts-1-1106\", top_k=3)\n",
        "print(\"Final Response:\", response)\n",
        "\n"
      ],
      "metadata": {
        "colab": {
          "base_uri": "https://localhost:8080/"
        },
        "id": "LlsKIHqqVJni",
        "outputId": "e1467561-e9f2-4cda-8960-592b14173f74"
      },
      "execution_count": 76,
      "outputs": [
        {
          "output_type": "stream",
          "name": "stdout",
          "text": [
            "\n",
            "Retrieved Context:\n",
            "Rank: 1 | Document: Biography of a Fictional Poet - William Shakespeare.txt | Similarity Score: 1.0472\n",
            "forces tragic heros journey toward selfawareness destruction theme resonates across time characters like hamlet indecisive prince macbeth ambitious ki...\n",
            "Rank: 2 | Document: Biography of a Fictional Poet - William Shakespeare.txt | Similarity Score: 1.2435\n",
            "biography fictional poet william shakespeare william shakespeare often hailed greatest poet playwright english language born stratforduponavon 1564 ex...\n",
            "Rank: 3 | Document: Biography of a Fictional Poet - William Shakespeare.txt | Similarity Score: 1.3675\n",
            "valuable insights enduring legacy poet playwright lies not universal themes works also mastery language ability evoke empathy unique insight human exp...\n",
            "\n",
            "Generated Answer:\n",
            "The system is currently overloaded or you’ve exceeded your quota. Please try again later.\n",
            "Final Response: The system is currently overloaded or you’ve exceeded your quota. Please try again later.\n"
          ]
        }
      ]
    },
    {
      "cell_type": "code",
      "source": [],
      "metadata": {
        "id": "UXXiOfjrdiln"
      },
      "execution_count": null,
      "outputs": []
    },
    {
      "cell_type": "markdown",
      "source": [
        "## groq api : worked"
      ],
      "metadata": {
        "id": "fhKjkTsgfEeB"
      }
    },
    {
      "cell_type": "code",
      "source": [
        "pip install groq"
      ],
      "metadata": {
        "colab": {
          "base_uri": "https://localhost:8080/"
        },
        "collapsed": true,
        "id": "zWN8pv33g6b-",
        "outputId": "dd25c989-c61e-4e5f-aa21-7b588a4110a3"
      },
      "execution_count": 118,
      "outputs": [
        {
          "output_type": "stream",
          "name": "stdout",
          "text": [
            "Requirement already satisfied: groq in /usr/local/lib/python3.10/dist-packages (0.12.0)\n",
            "Requirement already satisfied: anyio<5,>=3.5.0 in /usr/local/lib/python3.10/dist-packages (from groq) (3.7.1)\n",
            "Requirement already satisfied: distro<2,>=1.7.0 in /usr/local/lib/python3.10/dist-packages (from groq) (1.9.0)\n",
            "Requirement already satisfied: httpx<1,>=0.23.0 in /usr/local/lib/python3.10/dist-packages (from groq) (0.27.2)\n",
            "Requirement already satisfied: pydantic<3,>=1.9.0 in /usr/local/lib/python3.10/dist-packages (from groq) (2.9.2)\n",
            "Requirement already satisfied: sniffio in /usr/local/lib/python3.10/dist-packages (from groq) (1.3.1)\n",
            "Requirement already satisfied: typing-extensions<5,>=4.7 in /usr/local/lib/python3.10/dist-packages (from groq) (4.12.2)\n",
            "Requirement already satisfied: idna>=2.8 in /usr/local/lib/python3.10/dist-packages (from anyio<5,>=3.5.0->groq) (3.10)\n",
            "Requirement already satisfied: exceptiongroup in /usr/local/lib/python3.10/dist-packages (from anyio<5,>=3.5.0->groq) (1.2.2)\n",
            "Requirement already satisfied: certifi in /usr/local/lib/python3.10/dist-packages (from httpx<1,>=0.23.0->groq) (2024.8.30)\n",
            "Requirement already satisfied: httpcore==1.* in /usr/local/lib/python3.10/dist-packages (from httpx<1,>=0.23.0->groq) (1.0.7)\n",
            "Requirement already satisfied: h11<0.15,>=0.13 in /usr/local/lib/python3.10/dist-packages (from httpcore==1.*->httpx<1,>=0.23.0->groq) (0.14.0)\n",
            "Requirement already satisfied: annotated-types>=0.6.0 in /usr/local/lib/python3.10/dist-packages (from pydantic<3,>=1.9.0->groq) (0.7.0)\n",
            "Requirement already satisfied: pydantic-core==2.23.4 in /usr/local/lib/python3.10/dist-packages (from pydantic<3,>=1.9.0->groq) (2.23.4)\n"
          ]
        }
      ]
    },
    {
      "cell_type": "code",
      "source": [
        "import os\n",
        "from groq import Groq\n",
        "import json\n",
        "\n",
        "# Set the GROQ_API_KEY environment variable\n",
        "os.environ[\"GROQ_API_KEY\"] = \"-----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\"\n",
        "\n",
        "# Initialize the Groq client\n",
        "client = Groq()"
      ],
      "metadata": {
        "id": "4tr0PkAyghd5"
      },
      "execution_count": 155,
      "outputs": []
    },
    {
      "cell_type": "code",
      "source": [
        "# Load embeddings into FAISS (from previous steps)\n",
        "def load_embeddings_into_faiss(embeddings):\n",
        "    embedding_vectors = [np.array(item['embedding']) for item in embeddings]\n",
        "    metadata = [(item['chunk_text'], item['document']) for item in embeddings]\n",
        "\n",
        "    dimension = len(embedding_vectors[0])  # Get dimension from first embedding\n",
        "    index = faiss.IndexFlatL2(dimension)   # L2 distance (equivalent to cosine similarity after normalization)\n",
        "\n",
        "    embedding_vectors = np.array(embedding_vectors, dtype='float32')\n",
        "    faiss.normalize_L2(embedding_vectors)\n",
        "\n",
        "    index.add(embedding_vectors)\n",
        "\n",
        "    return index, metadata\n"
      ],
      "metadata": {
        "id": "ZMhVJmwLoVve"
      },
      "execution_count": 164,
      "outputs": []
    },
    {
      "cell_type": "code",
      "source": [
        "# Retrieve top-k chunks using FAISS index\n",
        "def retrieve_chunks_with_context(query, index, metadata, query_history, top_k=3):\n",
        "    \"\"\"\n",
        "    Retrieve top-k most similar chunks for a query, with context from previous queries.\n",
        "    \"\"\"\n",
        "    context = \" \".join(query_history) + \" \" + query  # Concatenate history with the current query\n",
        "    print(f\"Context being used: {context}\")  # Debugging: Show the context being passed\n",
        "\n",
        "    # Query Groq API for response (using \"llama3-8b-8192\" model or others)\n",
        "    chat_completion = client.chat.completions.create(\n",
        "        messages=[\n",
        "            {\n",
        "                \"role\": \"user\",\n",
        "                \"content\": f\"Retrieve the most relevant chunks for the following query:\\n{context}\",\n",
        "            }\n",
        "        ],\n",
        "        model=\"llama3-8b-8192\",  # Replace with your desired model\n",
        "    )\n",
        "\n",
        "    response = chat_completion.choices[0].message.content\n",
        "    print(\"Groq API response:\", response)  # Debugging: Check the raw response from Groq API\n",
        "\n",
        "    # Encode the query and normalize for cosine similarity\n",
        "    query_vector = np.array(model2.encode(query), dtype='float32')\n",
        "    faiss.normalize_L2(query_vector.reshape(1, -1))\n",
        "\n",
        "    # Search in FAISS index\n",
        "    distances, indices = index.search(query_vector.reshape(1, -1), top_k)\n",
        "\n",
        "    # Retrieve the top-k results and print debug info\n",
        "    results = []\n",
        "    for i, idx in enumerate(indices[0]):\n",
        "        if idx != -1:\n",
        "            chunk_text, document_name = metadata[idx]\n",
        "            similarity_score = 1 - distances[0][i]\n",
        "            results.append({\n",
        "                'rank': i + 1,\n",
        "                'chunk_text': chunk_text,\n",
        "                'document_name': document_name,\n",
        "                'similarity_score': similarity_score\n",
        "            })\n",
        "            print(f\"Retrieved Chunk {i + 1}: {chunk_text[:100]}... (Score: {similarity_score:.4f})\")  # Debugging: Show chunk text and score\n",
        "\n",
        "    query_history.append(query)  # Add the current query to the history\n",
        "    return results"
      ],
      "metadata": {
        "id": "g-er9sShnlSG"
      },
      "execution_count": 165,
      "outputs": []
    },
    {
      "cell_type": "code",
      "source": [
        "# Function to generate response with context\n",
        "def generate_response_with_context(query, index, metadata, query_history, top_k=3):\n",
        "    \"\"\"\n",
        "    Generate response with context from Groq API using the top-k retrieved chunks.\n",
        "    \"\"\"\n",
        "    # Retrieve top-k most relevant chunks with context\n",
        "    retrieval_results = retrieve_chunks_with_context(query, index, metadata, query_history, top_k)\n",
        "\n",
        "    # Build the context string for the Groq API prompt\n",
        "    context = \"\\n\".join([result['chunk_text'] for result in retrieval_results])\n",
        "    print(f\"Context to Groq API:\\n{context[:300]}...\")  # Debugging: Show the first 300 characters of the context\n",
        "\n",
        "    # Query Groq API for an answer\n",
        "    chat_completion = client.chat.completions.create(\n",
        "        messages=[\n",
        "            {\n",
        "                \"role\": \"user\",\n",
        "                \"content\": f\"Answer the following query using the context below:\\nQuery: {query}\\nContext:\\n{context}\\n### Answer ###\"\n",
        "            }\n",
        "        ],\n",
        "        model=\"llama3-8b-8192\",  # Replace with your desired model\n",
        "    )\n",
        "\n",
        "    response = chat_completion.choices[0].message.content\n",
        "    return response, retrieval_results"
      ],
      "metadata": {
        "id": "HsyJfCowpzDN"
      },
      "execution_count": 166,
      "outputs": []
    },
    {
      "cell_type": "code",
      "source": [
        "# RAG pipeline to generate the final answer\n",
        "def rag_pipeline(query, index, metadata, query_history, top_k=3):\n",
        "    \"\"\"\n",
        "    Run the RAG pipeline: retrieve context, generate response with Groq API.\n",
        "    \"\"\"\n",
        "    # Generate response with context\n",
        "    answer, retrieval_results = generate_response_with_context(query, index, metadata, query_history, top_k)\n",
        "\n",
        "    # Debugging: Show the context and retrieved chunks\n",
        "    print(\"\\nRetrieved Context:\")\n",
        "    for result in retrieval_results:\n",
        "        print(f\"Rank: {result['rank']} | Document: {result['document_name']}\")\n",
        "        print(result['chunk_text'][:150] + \"...\")  # Show the beginning of the chunk for clarity\n",
        "\n",
        "    # Show the final generated answer\n",
        "    print(\"\\nGenerated Answer:\")\n",
        "    print(answer)\n",
        "\n",
        "    return answer"
      ],
      "metadata": {
        "id": "EjR2nt0CpzH6"
      },
      "execution_count": 167,
      "outputs": []
    },
    {
      "cell_type": "code",
      "source": [
        "# Load your embeddings and metadata (these should be loaded from Step 3 and Step 4)\n",
        "with open(\"embeddings_minilm.json\", \"r\") as f:\n",
        "    minilm_embeddings = json.load(f)\n",
        "\n",
        "# Load embeddings into FAISS index\n",
        "index, metadata = load_embeddings_into_faiss(minilm_embeddings)\n"
      ],
      "metadata": {
        "id": "BbMWYBJ9p5Hr"
      },
      "execution_count": 168,
      "outputs": []
    },
    {
      "cell_type": "code",
      "source": [
        "# Initialize query history\n",
        "query_history = []\n"
      ],
      "metadata": {
        "id": "plxyyqQ3o9jC"
      },
      "execution_count": 169,
      "outputs": []
    },
    {
      "cell_type": "code",
      "source": [
        "# Example multi-turn queries\n",
        "queries = [\n",
        "    \"BOSCH 0607595100 Weight\"\n",
        "]\n",
        "\n",
        "# For each query, run the RAG pipeline and retrieve the answer\n",
        "for query in queries:\n",
        "    print(f\"Processing query: {query}\")\n",
        "    answer = rag_pipeline(query, index, metadata, query_history, top_k=3)\n",
        "    print(f\"Final answer: {answer}\\n\")"
      ],
      "metadata": {
        "colab": {
          "base_uri": "https://localhost:8080/"
        },
        "id": "VD0iEPzWp5KY",
        "outputId": "f40b8a2a-a1ee-45dc-81ed-a41607cb9478"
      },
      "execution_count": 171,
      "outputs": [
        {
          "output_type": "stream",
          "name": "stdout",
          "text": [
            "Processing query: BOSCH 0607595100 Weight\n",
            "Context being used: BOSCH 0607595100 cutting speed BOSCH 0607595100 Weight\n",
            "Groq API response: A specific model query!\n",
            "\n",
            "After searching, here are the most relevant chunks of information for the BOSCH 0607595100:\n",
            "\n",
            "**Cutting Speed:**\n",
            "\n",
            "* The BOSCH 0607595100 is a circular saw, which can cut at a speed of **4,500 RPM** ( Revolutions Per Minute).\n",
            "* This speed is suitable for various materials, including wood, metal, and plastic.\n",
            "\n",
            "**Weight:**\n",
            "\n",
            "* The BOSCH 0607595100 weighs approximately **3.3 kg** or **7.3 lbs**, making it a relatively lightweight and easy-to-handle circular saw.\n",
            "\n",
            "These details should help you with your query. If you need further information or specs, feel free to ask!\n",
            "Retrieved Chunk 1: bosch 0607595100 compressed air foam cutter 300 mm 3800 strokesmin description bosch 0607595100 high... (Score: -0.1374)\n",
            "Retrieved Chunk 2: stanley sfmcs650bxj 18v 40 ah brushless jigsaw without batteries charger description stanley sfmcs65... (Score: -0.4461)\n",
            "Retrieved Chunk 3: beta c45pro ms fixed service module workshop equipment combination c45pro description beta c45pro ms... (Score: -0.5146)\n",
            "Context to Groq API:\n",
            "bosch 0607595100 compressed air foam cutter 300 mm 3800 strokesmin description bosch 0607595100 highperformance compressed air foam cutter designed precise efficient cutting foam materials professional environments ergonomic design powerful airdriven motor tool offers maximum cutting efficiency dura...\n",
            "\n",
            "Retrieved Context:\n",
            "Rank: 1 | Document: BOSCH 0607595100 - Compressed Air Foam Cutter up to 300 mm, 3800 Strokes_Min.txt\n",
            "bosch 0607595100 compressed air foam cutter 300 mm 3800 strokesmin description bosch 0607595100 highperformance compressed air foam cutter designed pr...\n",
            "Rank: 2 | Document: STANLEY SFMCS650B-XJ - 18V 4.0 Ah Brushless Jigsaw (Without Batteries and Charger).txt\n",
            "stanley sfmcs650bxj 18v 40 ah brushless jigsaw without batteries charger description stanley sfmcs650bxj powerful 18v brushless jigsaw designed delive...\n",
            "Rank: 3 | Document: STANLEY SFMCS650B-XJ - 18V 4.0 Ah Brushless Jigsaw (Without Batteries and Charger) (1).txt\n",
            "beta c45pro ms fixed service module workshop equipment combination c45pro description beta c45pro ms fixed service module designed c45pro workshop equ...\n",
            "\n",
            "Generated Answer:\n",
            "According to the context, the weight of the Bosch 0607595100 compressed air foam cutter is approximately 14 kg.\n",
            "Final answer: According to the context, the weight of the Bosch 0607595100 compressed air foam cutter is approximately 14 kg.\n",
            "\n"
          ]
        }
      ]
    },
    {
      "cell_type": "code",
      "source": [
        "# Example multi-turn queries\n",
        "queries = [\n",
        "    \"When Shakespare died?\"\n",
        "]\n",
        "\n",
        "# For each query, run the RAG pipeline and retrieve the answer\n",
        "for query in queries:\n",
        "    print(f\"Processing query: {query}\")\n",
        "    answer = rag_pipeline(query, index, metadata, query_history, top_k=3)\n",
        "    print(f\"Final answer: {answer}\\n\")"
      ],
      "metadata": {
        "colab": {
          "base_uri": "https://localhost:8080/"
        },
        "id": "WxlOZaHOq_2D",
        "outputId": "6bedc5cf-25cb-4d48-f536-29313b95d7de"
      },
      "execution_count": 172,
      "outputs": [
        {
          "output_type": "stream",
          "name": "stdout",
          "text": [
            "Processing query: When Shakespare died?\n",
            "Context being used: BOSCH 0607595100 cutting speed BOSCH 0607595100 Weight When Shakespare died?\n",
            "Groq API response: A curious query!\n",
            "\n",
            "After analyzing the text, I detected two distinct topics: 1) BOSCH 0607595100 (a product), and 2) When Shakespeare died? (a historical question).\n",
            "\n",
            "Here are the most relevant chunks for each topic:\n",
            "\n",
            "**BOSCH 0607595100**\n",
            "\n",
            "* The cutting speed of BOSCH 0607595100 is likely related to the product's technical specifications, such as its power tool's speed rating.\n",
            "* The product's weight is another relevant aspect of its design and functionality.\n",
            "\n",
            "**When Shakespeare died?**\n",
            "\n",
            "* William Shakespeare, the English playwright and poet, died on April 23, 1616.\n",
            "\n",
            "In summary, the relevant chunks are:\n",
            "\n",
            "* BOSCH 0607595100: cutting speed, weight\n",
            "* When Shakespeare died?: April 23, 1616\n",
            "Retrieved Chunk 1: valuable insights enduring legacy poet playwright lies not universal themes works also mastery langu... (Score: -0.1745)\n",
            "Retrieved Chunk 2: biography fictional poet william shakespeare william shakespeare often hailed greatest poet playwrig... (Score: -0.2070)\n",
            "Retrieved Chunk 3: forces tragic heros journey toward selfawareness destruction theme resonates across time characters ... (Score: -0.2464)\n",
            "Context to Groq API:\n",
            "valuable insights enduring legacy poet playwright lies not universal themes works also mastery language ability evoke empathy unique insight human experience enduring poet william shakespeare died april 23 1616 leaving behind body work continues captivate audiences scholars artists around world deat...\n",
            "\n",
            "Retrieved Context:\n",
            "Rank: 1 | Document: Biography of a Fictional Poet - William Shakespeare.txt\n",
            "valuable insights enduring legacy poet playwright lies not universal themes works also mastery language ability evoke empathy unique insight human exp...\n",
            "Rank: 2 | Document: Biography of a Fictional Poet - William Shakespeare.txt\n",
            "biography fictional poet william shakespeare william shakespeare often hailed greatest poet playwright english language born stratforduponavon 1564 ex...\n",
            "Rank: 3 | Document: Biography of a Fictional Poet - William Shakespeare.txt\n",
            "forces tragic heros journey toward selfawareness destruction theme resonates across time characters like hamlet indecisive prince macbeth ambitious ki...\n",
            "\n",
            "Generated Answer:\n",
            "According to the context, William Shakespeare died on April 23, 1616.\n",
            "Final answer: According to the context, William Shakespeare died on April 23, 1616.\n",
            "\n"
          ]
        }
      ]
    },
    {
      "cell_type": "markdown",
      "source": [
        "latency"
      ],
      "metadata": {
        "id": "aJVFDMaJrskS"
      }
    },
    {
      "cell_type": "code",
      "source": [
        "import time\n",
        "from groq import Groq\n",
        "\n",
        "# Initialize Groq client\n",
        "client = Groq()\n",
        "\n",
        "# Function to generate response with context from Groq API\n",
        "def generate_response_with_context(query, index, metadata, query_history, top_k=3):\n",
        "    \"\"\"\n",
        "    Generate response with context from Groq API using the top-k retrieved chunks.\n",
        "    \"\"\"\n",
        "    # Measure retrieval latency\n",
        "    retrieval_start_time = time.time()\n",
        "    retrieval_results = retrieve_chunks_with_context(query, index, metadata, query_history, top_k)\n",
        "    retrieval_end_time = time.time()\n",
        "    retrieval_latency = retrieval_end_time - retrieval_start_time\n",
        "\n",
        "    # Build the context string for the Groq API prompt\n",
        "    context = \"\\n\".join([result['chunk_text'] for result in retrieval_results])\n",
        "    print(f\"Context to Groq API:\\n{context[:300]}...\")  # Debugging: Show the first 300 characters of the context\n",
        "\n",
        "    # Measure generation latency\n",
        "    generation_start_time = time.time()\n",
        "    chat_completion = client.chat.completions.create(\n",
        "        messages=[\n",
        "            {\n",
        "                \"role\": \"user\",\n",
        "                \"content\": f\"Answer the following query using the context below:\\nQuery: {query}\\nContext:\\n{context}\\n### Answer ###\"\n",
        "            }\n",
        "        ],\n",
        "        model=\"llama3-8b-8192\",  # Replace with your desired model\n",
        "    )\n",
        "    generation_end_time = time.time()\n",
        "    generation_latency = generation_end_time - generation_start_time\n",
        "\n",
        "    # Extract the response from Groq API\n",
        "    response = chat_completion.choices[0].message.content\n",
        "\n",
        "    # Return the response and latencies\n",
        "    return response, retrieval_results, retrieval_latency, generation_latency\n",
        "\n",
        "\n",
        "# Example usage of the RAG pipeline with latency measurement\n",
        "def rag_pipeline(query, index, metadata, query_history):\n",
        "    # Generate response with context and measure latencies\n",
        "    answer, retrieval_results, retrieval_latency, generation_latency = generate_response_with_context(query, index, metadata, query_history, top_k=3)\n",
        "\n",
        "    # Print the retrieval latency and generation latency\n",
        "    print(f\"Retrieval Latency: {retrieval_latency:.4f} seconds\")\n",
        "    print(f\"Generation Latency: {generation_latency:.4f} seconds\")\n",
        "\n",
        "    # Print the retrieved chunks (context)\n",
        "    print(\"\\nRetrieved Context:\")\n",
        "    for result in retrieval_results:\n",
        "        print(f\"Rank: {result['rank']} | Document: {result['document_name']}\")\n",
        "        print(result['chunk_text'][:150] + \"...\")  # Display the start of the chunk (trimmed for brevity)\n",
        "\n",
        "    # Output the generated answer\n",
        "    print(\"\\nGenerated Answer:\")\n",
        "    print(answer)\n",
        "\n",
        "    return answer\n"
      ],
      "metadata": {
        "id": "OzF9NTfGrvZy"
      },
      "execution_count": 177,
      "outputs": []
    },
    {
      "cell_type": "code",
      "source": [
        "# Example multi-turn queries\n",
        "queries = [\n",
        "    \"BOSCH 0607595100 Weight\"\n",
        "]\n",
        "\n",
        "# For each query, run the RAG pipeline and retrieve the answer\n",
        "for query in queries:\n",
        "    print(f\"Processing query: {query}\")\n",
        "    answer = rag_pipeline(query, index, metadata, query_history)\n",
        "    print(f\"Final answer: {answer}\\n\")"
      ],
      "metadata": {
        "colab": {
          "base_uri": "https://localhost:8080/"
        },
        "id": "5ACO9Y1dstzJ",
        "outputId": "5eaa2d41-466e-4cca-b089-9ee16c787066"
      },
      "execution_count": 179,
      "outputs": [
        {
          "output_type": "stream",
          "name": "stdout",
          "text": [
            "Processing query: BOSCH 0607595100 Weight\n",
            "Context being used: What is the population of France? BOSCH 0607595100 Weight\n",
            "Groq API response: Based on the query, it seems like there are two separate entities being searched for: the population of France and a product with the code BOSCH 0607595100 and weight.\n",
            "\n",
            "For the population of France, I found the following relevant chunk:\n",
            "\n",
            "\"The population of France is approximately 67 million people as of 2021.\"\n",
            "Retrieved Chunk 1: bosch 0607595100 compressed air foam cutter 300 mm 3800 strokesmin description bosch 0607595100 high... (Score: -0.1374)\n",
            "Retrieved Chunk 2: stanley sfmcs650bxj 18v 40 ah brushless jigsaw without batteries charger description stanley sfmcs65... (Score: -0.4461)\n",
            "Retrieved Chunk 3: beta c45pro ms fixed service module workshop equipment combination c45pro description beta c45pro ms... (Score: -0.5146)\n",
            "Context to Groq API:\n",
            "bosch 0607595100 compressed air foam cutter 300 mm 3800 strokesmin description bosch 0607595100 highperformance compressed air foam cutter designed precise efficient cutting foam materials professional environments ergonomic design powerful airdriven motor tool offers maximum cutting efficiency dura...\n",
            "Retrieval Latency: 0.2993 seconds\n",
            "Generation Latency: 0.2473 seconds\n",
            "\n",
            "Retrieved Context:\n",
            "Rank: 1 | Document: BOSCH 0607595100 - Compressed Air Foam Cutter up to 300 mm, 3800 Strokes_Min.txt\n",
            "bosch 0607595100 compressed air foam cutter 300 mm 3800 strokesmin description bosch 0607595100 highperformance compressed air foam cutter designed pr...\n",
            "Rank: 2 | Document: STANLEY SFMCS650B-XJ - 18V 4.0 Ah Brushless Jigsaw (Without Batteries and Charger).txt\n",
            "stanley sfmcs650bxj 18v 40 ah brushless jigsaw without batteries charger description stanley sfmcs650bxj powerful 18v brushless jigsaw designed delive...\n",
            "Rank: 3 | Document: STANLEY SFMCS650B-XJ - 18V 4.0 Ah Brushless Jigsaw (Without Batteries and Charger) (1).txt\n",
            "beta c45pro ms fixed service module workshop equipment combination c45pro description beta c45pro ms fixed service module designed c45pro workshop equ...\n",
            "\n",
            "Generated Answer:\n",
            "According to the provided context, the weight of the BOSCH 0607595100 Compressed Air Foam Cutter is approximately 14 kg.\n",
            "Final answer: According to the provided context, the weight of the BOSCH 0607595100 Compressed Air Foam Cutter is approximately 14 kg.\n",
            "\n"
          ]
        }
      ]
    },
    {
      "cell_type": "markdown",
      "source": [
        "**Retrieval Latency**: 0.2993 seconds\n",
        "\n",
        "**Generation Latency**: 0.2473 seconds"
      ],
      "metadata": {
        "id": "wKd87HZus7VQ"
      }
    }
  ]
}